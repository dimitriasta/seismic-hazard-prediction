{
 "cells": [
  {
   "cell_type": "markdown",
   "metadata": {},
   "source": [
    "# ***SEISMIC HAZARD PREDICTION USING MACHINE LEARNING***"
   ]
  },
  {
   "cell_type": "markdown",
   "metadata": {},
   "source": [
    "# **I. INTRODUCTION**\n",
    "\n",
    "Hello! Welcome to my Notebook.\n",
    "\n",
    "Notebook ini merupakan bagian dari tugas *Milestone 2* yang dibuat oleh **Asta Zeska Dimitri** dari Batch **001-HCK**."
   ]
  },
  {
   "cell_type": "markdown",
   "metadata": {},
   "source": [
    "## I.1. Background\n",
    "\n",
    "Aktivitas pertambangan tentu tidak lepas dari resiko atau bahaya yang dapat terjadi kapan saja. Terlebih untuk tambang bawah tanah, proses penggaliannya bisa menyebabkan lapisan tanah di sekitarnya menjadi tidak stabil. Oleh karena itu tambang bawah tanah rentan terhadap bencana seismik, salah satu contoh dari bencana seismik adalah runtuhnya lapisan tanah dan batuan akibat proses penggalian atau biasa dikenal dengan istilah rockburst. Untuk pencegahannya perusahaan tambang memasang beberapa alat rekam gelombang seismik atau yang biasa disebut dengan geophone di beberapa lokasi penggalian agar jika muncul gelombang seismik akibat adanya pergerakan tanah bisa diketahui dan dilakukan evakuasi para pekerja yang berada pada lokasi-lokasi yang rentan bahaya.\n",
    "\n",
    "Dengan bantuan teknologi machine learning, data rekaman geophone yang didapatkan bisa diolah lebih lanjut untuk dipelajari karakteristik dan behaviournya sehingga bisa dilakukan prediksi apakah gelombang seismik yang terekam ini berpeluang menimbulkan bahaya atau tidak. Dan ini akan membantu perusahaan dalam menjaga bahkan meningkatkan standar Health, Safety, and Environment (HSE) perusahaan."
   ]
  },
  {
   "cell_type": "markdown",
   "metadata": {},
   "source": [
    "## I.2. Objective\n",
    "\n",
    "Untuk menjaga standar 'Zero Accident', perusahaan ingin menggunakan machine learning untuk melakukan prediksi kemungkinan munculnya bencana seismik pada lokasi tambang bawah tanah mereka dengan menggunakan data rekaman geophone yang sudah dipasang. Dan hasil dari prediksi ini nantinya akan digunakan sebagai upaya pencegahan bahaya dan indikator perlu atau tidaknya para pekerja melakukan evakuasi."
   ]
  },
  {
   "cell_type": "markdown",
   "metadata": {},
   "source": [
    "## I.3 Data\n",
    "\n",
    "Untuk data yang digunakan kali ini adalah data 'seismic-bumps Data Set' yang didapatkan dari UCI Machine Learning Repository. Data bisa didapatkan melalui link `https://archive.ics.uci.edu/ml/datasets/seismic-bumps`.\n",
    "\n",
    "Dan berikut adalah informasi dari masing-masing kolom untuk memudahkan proses analisis kedepannya:\n",
    "1. seismic: result of shift seismic hazard assessment in the mine working obtained by the seismic\n",
    "method (a - lack of hazard, b - low hazard, c - high hazard, d - danger state).\n",
    "2. seismoacoustic: result of shift seismic hazard assessment in the mine working obtained by the\n",
    "seismoacoustic method.\n",
    "3. shift: information about type of a shift (W - coal-getting, N -preparation shift).\n",
    "4. genergy: seismic energy recorded within previous shift by the most active geophone (GMax) out of\n",
    "geophones monitoring the longwall.\n",
    "5. gpuls: a number of pulses recorded within previous shift by GMax.\n",
    "6. gdenergy: a deviation of energy recorded within previous shift by GMax from average energy recorded\n",
    "during eight previous shifts.\n",
    "7. gdpuls: a deviation of a number of pulses recorded within previous shift by GMax from average number\n",
    "of pulses recorded during eight previous shifts.\n",
    "8. hazard: result of shift seismic hazard assessment in the mine working obtained by the\n",
    "seismoacoustic method based on registration coming form GMax only.\n",
    "9. nbumps: the number of seismic bumps recorded within previous shift.\n",
    "10. nbumps2: the number of seismic bumps (in energy range [10^2,10^3)) registered within previous shift.\n",
    "11. nbumps3: the number of seismic bumps (in energy range [10^3,10^4)) registered within previous shift.\n",
    "12. nbumps4: the number of seismic bumps (in energy range [10^4,10^5)) registered within previous shift.\n",
    "13. nbumps5: the number of seismic bumps (in energy range [10^5,10^6)) registered within the last shift.\n",
    "14. nbumps6: the number of seismic bumps (in energy range [10^6,10^7)) registered within previous shift.\n",
    "15. nbumps7: the number of seismic bumps (in energy range [10^7,10^8)) registered within previous shift.\n",
    "16. nbumps89: the number of seismic bumps (in energy range [10^8,10^10)) registered within previous shift.\n",
    "17. energy: total energy of seismic bumps registered within previous shift.\n",
    "18. maxenergy: the maximum energy of the seismic bumps registered within previous shift.\n",
    "19. class: the decision attribute - '1' means that high energy seismic bump occurred in the next shift\n",
    "('hazardous state'), '0' means that no high energy seismic bumps occurred in the next shift\n",
    "('non-hazardous state')."
   ]
  },
  {
   "cell_type": "markdown",
   "metadata": {},
   "source": [
    "# **II. IMPORT LIBRARIES**"
   ]
  },
  {
   "cell_type": "code",
   "execution_count": 1,
   "metadata": {},
   "outputs": [],
   "source": [
    "import pandas as pd\n",
    "import numpy as np\n",
    "import matplotlib.pyplot as plt\n",
    "import seaborn as sns\n",
    "import pickle\n",
    "from warnings import simplefilter\n",
    "\n",
    "from sklearn.model_selection import train_test_split\n",
    "from sklearn.feature_selection import SelectKBest\n",
    "from sklearn.feature_selection import chi2\n",
    "from sklearn.preprocessing import MinMaxScaler\n",
    "from sklearn.preprocessing import StandardScaler\n",
    "from sklearn.preprocessing import OrdinalEncoder\n",
    "from sklearn.linear_model import LogisticRegression\n",
    "from sklearn.svm import SVC\n",
    "from sklearn.ensemble import RandomForestClassifier\n",
    "from sklearn.ensemble import GradientBoostingClassifier\n",
    "from sklearn.model_selection import KFold\n",
    "from sklearn.model_selection import StratifiedKFold\n",
    "from sklearn.model_selection import GridSearchCV\n",
    "from sklearn.model_selection import cross_val_score\n",
    "from sklearn.metrics import classification_report, accuracy_score, ConfusionMatrixDisplay, confusion_matrix\n",
    "from sklearn.pipeline import Pipeline\n",
    "from sklearn.compose import ColumnTransformer\n",
    "from sklearn.exceptions import ConvergenceWarning\n",
    "\n",
    "from imblearn.over_sampling import RandomOverSampler\n",
    "\n",
    "from feature_engine.outliers import Winsorizer "
   ]
  },
  {
   "cell_type": "markdown",
   "metadata": {},
   "source": [
    "# **III. DATA LOADING & OVERVIEW**"
   ]
  },
  {
   "cell_type": "code",
   "execution_count": 2,
   "metadata": {},
   "outputs": [],
   "source": [
    "df = pd.read_csv('seismic-bumps.csv')"
   ]
  },
  {
   "cell_type": "code",
   "execution_count": 3,
   "metadata": {},
   "outputs": [
    {
     "data": {
      "text/html": [
       "<div>\n",
       "<style scoped>\n",
       "    .dataframe tbody tr th:only-of-type {\n",
       "        vertical-align: middle;\n",
       "    }\n",
       "\n",
       "    .dataframe tbody tr th {\n",
       "        vertical-align: top;\n",
       "    }\n",
       "\n",
       "    .dataframe thead th {\n",
       "        text-align: right;\n",
       "    }\n",
       "</style>\n",
       "<table border=\"1\" class=\"dataframe\">\n",
       "  <thead>\n",
       "    <tr style=\"text-align: right;\">\n",
       "      <th></th>\n",
       "      <th>seismic</th>\n",
       "      <th>seismoacoustic</th>\n",
       "      <th>shift</th>\n",
       "      <th>genergy</th>\n",
       "      <th>gpuls</th>\n",
       "      <th>gdenergy</th>\n",
       "      <th>gdpuls</th>\n",
       "      <th>hazard</th>\n",
       "      <th>nbumps</th>\n",
       "      <th>nbumps2</th>\n",
       "      <th>nbumps3</th>\n",
       "      <th>nbumps4</th>\n",
       "      <th>nbumps5</th>\n",
       "      <th>nbumps6</th>\n",
       "      <th>nbumps7</th>\n",
       "      <th>nbumps89</th>\n",
       "      <th>energy</th>\n",
       "      <th>maxenergy</th>\n",
       "      <th>class</th>\n",
       "    </tr>\n",
       "  </thead>\n",
       "  <tbody>\n",
       "    <tr>\n",
       "      <th>0</th>\n",
       "      <td>a</td>\n",
       "      <td>a</td>\n",
       "      <td>N</td>\n",
       "      <td>15180</td>\n",
       "      <td>48</td>\n",
       "      <td>-72</td>\n",
       "      <td>-72</td>\n",
       "      <td>a</td>\n",
       "      <td>0</td>\n",
       "      <td>0</td>\n",
       "      <td>0</td>\n",
       "      <td>0</td>\n",
       "      <td>0</td>\n",
       "      <td>0</td>\n",
       "      <td>0</td>\n",
       "      <td>0</td>\n",
       "      <td>0</td>\n",
       "      <td>0</td>\n",
       "      <td>0</td>\n",
       "    </tr>\n",
       "    <tr>\n",
       "      <th>1</th>\n",
       "      <td>a</td>\n",
       "      <td>a</td>\n",
       "      <td>N</td>\n",
       "      <td>14720</td>\n",
       "      <td>33</td>\n",
       "      <td>-70</td>\n",
       "      <td>-79</td>\n",
       "      <td>a</td>\n",
       "      <td>1</td>\n",
       "      <td>0</td>\n",
       "      <td>1</td>\n",
       "      <td>0</td>\n",
       "      <td>0</td>\n",
       "      <td>0</td>\n",
       "      <td>0</td>\n",
       "      <td>0</td>\n",
       "      <td>2000</td>\n",
       "      <td>2000</td>\n",
       "      <td>0</td>\n",
       "    </tr>\n",
       "    <tr>\n",
       "      <th>2</th>\n",
       "      <td>a</td>\n",
       "      <td>a</td>\n",
       "      <td>N</td>\n",
       "      <td>8050</td>\n",
       "      <td>30</td>\n",
       "      <td>-81</td>\n",
       "      <td>-78</td>\n",
       "      <td>a</td>\n",
       "      <td>0</td>\n",
       "      <td>0</td>\n",
       "      <td>0</td>\n",
       "      <td>0</td>\n",
       "      <td>0</td>\n",
       "      <td>0</td>\n",
       "      <td>0</td>\n",
       "      <td>0</td>\n",
       "      <td>0</td>\n",
       "      <td>0</td>\n",
       "      <td>0</td>\n",
       "    </tr>\n",
       "    <tr>\n",
       "      <th>3</th>\n",
       "      <td>a</td>\n",
       "      <td>a</td>\n",
       "      <td>N</td>\n",
       "      <td>28820</td>\n",
       "      <td>171</td>\n",
       "      <td>-23</td>\n",
       "      <td>40</td>\n",
       "      <td>a</td>\n",
       "      <td>1</td>\n",
       "      <td>0</td>\n",
       "      <td>1</td>\n",
       "      <td>0</td>\n",
       "      <td>0</td>\n",
       "      <td>0</td>\n",
       "      <td>0</td>\n",
       "      <td>0</td>\n",
       "      <td>3000</td>\n",
       "      <td>3000</td>\n",
       "      <td>0</td>\n",
       "    </tr>\n",
       "    <tr>\n",
       "      <th>4</th>\n",
       "      <td>a</td>\n",
       "      <td>a</td>\n",
       "      <td>N</td>\n",
       "      <td>12640</td>\n",
       "      <td>57</td>\n",
       "      <td>-63</td>\n",
       "      <td>-52</td>\n",
       "      <td>a</td>\n",
       "      <td>0</td>\n",
       "      <td>0</td>\n",
       "      <td>0</td>\n",
       "      <td>0</td>\n",
       "      <td>0</td>\n",
       "      <td>0</td>\n",
       "      <td>0</td>\n",
       "      <td>0</td>\n",
       "      <td>0</td>\n",
       "      <td>0</td>\n",
       "      <td>0</td>\n",
       "    </tr>\n",
       "    <tr>\n",
       "      <th>5</th>\n",
       "      <td>a</td>\n",
       "      <td>a</td>\n",
       "      <td>W</td>\n",
       "      <td>63760</td>\n",
       "      <td>195</td>\n",
       "      <td>-73</td>\n",
       "      <td>-65</td>\n",
       "      <td>a</td>\n",
       "      <td>0</td>\n",
       "      <td>0</td>\n",
       "      <td>0</td>\n",
       "      <td>0</td>\n",
       "      <td>0</td>\n",
       "      <td>0</td>\n",
       "      <td>0</td>\n",
       "      <td>0</td>\n",
       "      <td>0</td>\n",
       "      <td>0</td>\n",
       "      <td>0</td>\n",
       "    </tr>\n",
       "    <tr>\n",
       "      <th>6</th>\n",
       "      <td>a</td>\n",
       "      <td>a</td>\n",
       "      <td>W</td>\n",
       "      <td>207930</td>\n",
       "      <td>614</td>\n",
       "      <td>-6</td>\n",
       "      <td>18</td>\n",
       "      <td>a</td>\n",
       "      <td>2</td>\n",
       "      <td>2</td>\n",
       "      <td>0</td>\n",
       "      <td>0</td>\n",
       "      <td>0</td>\n",
       "      <td>0</td>\n",
       "      <td>0</td>\n",
       "      <td>0</td>\n",
       "      <td>1000</td>\n",
       "      <td>700</td>\n",
       "      <td>0</td>\n",
       "    </tr>\n",
       "    <tr>\n",
       "      <th>7</th>\n",
       "      <td>a</td>\n",
       "      <td>a</td>\n",
       "      <td>N</td>\n",
       "      <td>48990</td>\n",
       "      <td>194</td>\n",
       "      <td>-27</td>\n",
       "      <td>-3</td>\n",
       "      <td>a</td>\n",
       "      <td>1</td>\n",
       "      <td>0</td>\n",
       "      <td>1</td>\n",
       "      <td>0</td>\n",
       "      <td>0</td>\n",
       "      <td>0</td>\n",
       "      <td>0</td>\n",
       "      <td>0</td>\n",
       "      <td>4000</td>\n",
       "      <td>4000</td>\n",
       "      <td>0</td>\n",
       "    </tr>\n",
       "    <tr>\n",
       "      <th>8</th>\n",
       "      <td>a</td>\n",
       "      <td>a</td>\n",
       "      <td>N</td>\n",
       "      <td>100190</td>\n",
       "      <td>303</td>\n",
       "      <td>54</td>\n",
       "      <td>52</td>\n",
       "      <td>a</td>\n",
       "      <td>0</td>\n",
       "      <td>0</td>\n",
       "      <td>0</td>\n",
       "      <td>0</td>\n",
       "      <td>0</td>\n",
       "      <td>0</td>\n",
       "      <td>0</td>\n",
       "      <td>0</td>\n",
       "      <td>0</td>\n",
       "      <td>0</td>\n",
       "      <td>0</td>\n",
       "    </tr>\n",
       "    <tr>\n",
       "      <th>9</th>\n",
       "      <td>a</td>\n",
       "      <td>a</td>\n",
       "      <td>W</td>\n",
       "      <td>247620</td>\n",
       "      <td>675</td>\n",
       "      <td>4</td>\n",
       "      <td>25</td>\n",
       "      <td>a</td>\n",
       "      <td>1</td>\n",
       "      <td>1</td>\n",
       "      <td>0</td>\n",
       "      <td>0</td>\n",
       "      <td>0</td>\n",
       "      <td>0</td>\n",
       "      <td>0</td>\n",
       "      <td>0</td>\n",
       "      <td>500</td>\n",
       "      <td>500</td>\n",
       "      <td>0</td>\n",
       "    </tr>\n",
       "  </tbody>\n",
       "</table>\n",
       "</div>"
      ],
      "text/plain": [
       "  seismic seismoacoustic shift  genergy  gpuls  gdenergy  gdpuls hazard  \\\n",
       "0       a              a     N    15180     48       -72     -72      a   \n",
       "1       a              a     N    14720     33       -70     -79      a   \n",
       "2       a              a     N     8050     30       -81     -78      a   \n",
       "3       a              a     N    28820    171       -23      40      a   \n",
       "4       a              a     N    12640     57       -63     -52      a   \n",
       "5       a              a     W    63760    195       -73     -65      a   \n",
       "6       a              a     W   207930    614        -6      18      a   \n",
       "7       a              a     N    48990    194       -27      -3      a   \n",
       "8       a              a     N   100190    303        54      52      a   \n",
       "9       a              a     W   247620    675         4      25      a   \n",
       "\n",
       "   nbumps  nbumps2  nbumps3  nbumps4  nbumps5  nbumps6  nbumps7  nbumps89  \\\n",
       "0       0        0        0        0        0        0        0         0   \n",
       "1       1        0        1        0        0        0        0         0   \n",
       "2       0        0        0        0        0        0        0         0   \n",
       "3       1        0        1        0        0        0        0         0   \n",
       "4       0        0        0        0        0        0        0         0   \n",
       "5       0        0        0        0        0        0        0         0   \n",
       "6       2        2        0        0        0        0        0         0   \n",
       "7       1        0        1        0        0        0        0         0   \n",
       "8       0        0        0        0        0        0        0         0   \n",
       "9       1        1        0        0        0        0        0         0   \n",
       "\n",
       "   energy  maxenergy  class  \n",
       "0       0          0      0  \n",
       "1    2000       2000      0  \n",
       "2       0          0      0  \n",
       "3    3000       3000      0  \n",
       "4       0          0      0  \n",
       "5       0          0      0  \n",
       "6    1000        700      0  \n",
       "7    4000       4000      0  \n",
       "8       0          0      0  \n",
       "9     500        500      0  "
      ]
     },
     "execution_count": 3,
     "metadata": {},
     "output_type": "execute_result"
    }
   ],
   "source": [
    "df.head(10)"
   ]
  },
  {
   "cell_type": "code",
   "execution_count": 390,
   "metadata": {},
   "outputs": [
    {
     "data": {
      "text/html": [
       "<div>\n",
       "<style scoped>\n",
       "    .dataframe tbody tr th:only-of-type {\n",
       "        vertical-align: middle;\n",
       "    }\n",
       "\n",
       "    .dataframe tbody tr th {\n",
       "        vertical-align: top;\n",
       "    }\n",
       "\n",
       "    .dataframe thead th {\n",
       "        text-align: right;\n",
       "    }\n",
       "</style>\n",
       "<table border=\"1\" class=\"dataframe\">\n",
       "  <thead>\n",
       "    <tr style=\"text-align: right;\">\n",
       "      <th></th>\n",
       "      <th>seismic</th>\n",
       "      <th>seismoacoustic</th>\n",
       "      <th>shift</th>\n",
       "      <th>genergy</th>\n",
       "      <th>gpuls</th>\n",
       "      <th>gdenergy</th>\n",
       "      <th>gdpuls</th>\n",
       "      <th>hazard</th>\n",
       "      <th>nbumps</th>\n",
       "      <th>nbumps2</th>\n",
       "      <th>nbumps3</th>\n",
       "      <th>nbumps4</th>\n",
       "      <th>nbumps5</th>\n",
       "      <th>nbumps6</th>\n",
       "      <th>nbumps7</th>\n",
       "      <th>nbumps89</th>\n",
       "      <th>energy</th>\n",
       "      <th>maxenergy</th>\n",
       "      <th>class</th>\n",
       "    </tr>\n",
       "  </thead>\n",
       "  <tbody>\n",
       "    <tr>\n",
       "      <th>2581</th>\n",
       "      <td>b</td>\n",
       "      <td>a</td>\n",
       "      <td>W</td>\n",
       "      <td>26960</td>\n",
       "      <td>540</td>\n",
       "      <td>101</td>\n",
       "      <td>112</td>\n",
       "      <td>a</td>\n",
       "      <td>0</td>\n",
       "      <td>0</td>\n",
       "      <td>0</td>\n",
       "      <td>0</td>\n",
       "      <td>0</td>\n",
       "      <td>0</td>\n",
       "      <td>0</td>\n",
       "      <td>0</td>\n",
       "      <td>0</td>\n",
       "      <td>0</td>\n",
       "      <td>0</td>\n",
       "    </tr>\n",
       "    <tr>\n",
       "      <th>2582</th>\n",
       "      <td>a</td>\n",
       "      <td>a</td>\n",
       "      <td>W</td>\n",
       "      <td>16130</td>\n",
       "      <td>322</td>\n",
       "      <td>2</td>\n",
       "      <td>2</td>\n",
       "      <td>a</td>\n",
       "      <td>0</td>\n",
       "      <td>0</td>\n",
       "      <td>0</td>\n",
       "      <td>0</td>\n",
       "      <td>0</td>\n",
       "      <td>0</td>\n",
       "      <td>0</td>\n",
       "      <td>0</td>\n",
       "      <td>0</td>\n",
       "      <td>0</td>\n",
       "      <td>0</td>\n",
       "    </tr>\n",
       "    <tr>\n",
       "      <th>2583</th>\n",
       "      <td>a</td>\n",
       "      <td>a</td>\n",
       "      <td>W</td>\n",
       "      <td>12750</td>\n",
       "      <td>235</td>\n",
       "      <td>-10</td>\n",
       "      <td>-10</td>\n",
       "      <td>a</td>\n",
       "      <td>0</td>\n",
       "      <td>0</td>\n",
       "      <td>0</td>\n",
       "      <td>0</td>\n",
       "      <td>0</td>\n",
       "      <td>0</td>\n",
       "      <td>0</td>\n",
       "      <td>0</td>\n",
       "      <td>0</td>\n",
       "      <td>0</td>\n",
       "      <td>0</td>\n",
       "    </tr>\n",
       "  </tbody>\n",
       "</table>\n",
       "</div>"
      ],
      "text/plain": [
       "     seismic seismoacoustic shift  genergy  gpuls  gdenergy  gdpuls hazard  \\\n",
       "2581       b              a     W    26960    540       101     112      a   \n",
       "2582       a              a     W    16130    322         2       2      a   \n",
       "2583       a              a     W    12750    235       -10     -10      a   \n",
       "\n",
       "      nbumps  nbumps2  nbumps3  nbumps4  nbumps5  nbumps6  nbumps7  nbumps89  \\\n",
       "2581       0        0        0        0        0        0        0         0   \n",
       "2582       0        0        0        0        0        0        0         0   \n",
       "2583       0        0        0        0        0        0        0         0   \n",
       "\n",
       "      energy  maxenergy  class  \n",
       "2581       0          0      0  \n",
       "2582       0          0      0  \n",
       "2583       0          0      0  "
      ]
     },
     "execution_count": 390,
     "metadata": {},
     "output_type": "execute_result"
    }
   ],
   "source": [
    "df.tail(3)"
   ]
  },
  {
   "cell_type": "code",
   "execution_count": 391,
   "metadata": {},
   "outputs": [
    {
     "name": "stdout",
     "output_type": "stream",
     "text": [
      "<class 'pandas.core.frame.DataFrame'>\n",
      "RangeIndex: 2584 entries, 0 to 2583\n",
      "Data columns (total 19 columns):\n",
      " #   Column          Non-Null Count  Dtype \n",
      "---  ------          --------------  ----- \n",
      " 0   seismic         2584 non-null   object\n",
      " 1   seismoacoustic  2584 non-null   object\n",
      " 2   shift           2584 non-null   object\n",
      " 3   genergy         2584 non-null   int64 \n",
      " 4   gpuls           2584 non-null   int64 \n",
      " 5   gdenergy        2584 non-null   int64 \n",
      " 6   gdpuls          2584 non-null   int64 \n",
      " 7   hazard          2584 non-null   object\n",
      " 8   nbumps          2584 non-null   int64 \n",
      " 9   nbumps2         2584 non-null   int64 \n",
      " 10  nbumps3         2584 non-null   int64 \n",
      " 11  nbumps4         2584 non-null   int64 \n",
      " 12  nbumps5         2584 non-null   int64 \n",
      " 13  nbumps6         2584 non-null   int64 \n",
      " 14  nbumps7         2584 non-null   int64 \n",
      " 15  nbumps89        2584 non-null   int64 \n",
      " 16  energy          2584 non-null   int64 \n",
      " 17  maxenergy       2584 non-null   int64 \n",
      " 18  class           2584 non-null   int64 \n",
      "dtypes: int64(15), object(4)\n",
      "memory usage: 383.7+ KB\n"
     ]
    }
   ],
   "source": [
    "df.info()"
   ]
  },
  {
   "cell_type": "code",
   "execution_count": 392,
   "metadata": {},
   "outputs": [
    {
     "data": {
      "text/html": [
       "<div>\n",
       "<style scoped>\n",
       "    .dataframe tbody tr th:only-of-type {\n",
       "        vertical-align: middle;\n",
       "    }\n",
       "\n",
       "    .dataframe tbody tr th {\n",
       "        vertical-align: top;\n",
       "    }\n",
       "\n",
       "    .dataframe thead th {\n",
       "        text-align: right;\n",
       "    }\n",
       "</style>\n",
       "<table border=\"1\" class=\"dataframe\">\n",
       "  <thead>\n",
       "    <tr style=\"text-align: right;\">\n",
       "      <th></th>\n",
       "      <th>count</th>\n",
       "      <th>mean</th>\n",
       "      <th>std</th>\n",
       "      <th>min</th>\n",
       "      <th>25%</th>\n",
       "      <th>50%</th>\n",
       "      <th>75%</th>\n",
       "      <th>max</th>\n",
       "    </tr>\n",
       "  </thead>\n",
       "  <tbody>\n",
       "    <tr>\n",
       "      <th>genergy</th>\n",
       "      <td>2584.0</td>\n",
       "      <td>90242.523220</td>\n",
       "      <td>229200.508894</td>\n",
       "      <td>100.0</td>\n",
       "      <td>11660.0</td>\n",
       "      <td>25485.0</td>\n",
       "      <td>52832.50</td>\n",
       "      <td>2595650.0</td>\n",
       "    </tr>\n",
       "    <tr>\n",
       "      <th>gpuls</th>\n",
       "      <td>2584.0</td>\n",
       "      <td>538.579334</td>\n",
       "      <td>562.652536</td>\n",
       "      <td>2.0</td>\n",
       "      <td>190.0</td>\n",
       "      <td>379.0</td>\n",
       "      <td>669.00</td>\n",
       "      <td>4518.0</td>\n",
       "    </tr>\n",
       "    <tr>\n",
       "      <th>gdenergy</th>\n",
       "      <td>2584.0</td>\n",
       "      <td>12.375774</td>\n",
       "      <td>80.319051</td>\n",
       "      <td>-96.0</td>\n",
       "      <td>-37.0</td>\n",
       "      <td>-6.0</td>\n",
       "      <td>38.00</td>\n",
       "      <td>1245.0</td>\n",
       "    </tr>\n",
       "    <tr>\n",
       "      <th>gdpuls</th>\n",
       "      <td>2584.0</td>\n",
       "      <td>4.508901</td>\n",
       "      <td>63.166556</td>\n",
       "      <td>-96.0</td>\n",
       "      <td>-36.0</td>\n",
       "      <td>-6.0</td>\n",
       "      <td>30.25</td>\n",
       "      <td>838.0</td>\n",
       "    </tr>\n",
       "    <tr>\n",
       "      <th>nbumps</th>\n",
       "      <td>2584.0</td>\n",
       "      <td>0.859520</td>\n",
       "      <td>1.364616</td>\n",
       "      <td>0.0</td>\n",
       "      <td>0.0</td>\n",
       "      <td>0.0</td>\n",
       "      <td>1.00</td>\n",
       "      <td>9.0</td>\n",
       "    </tr>\n",
       "    <tr>\n",
       "      <th>nbumps2</th>\n",
       "      <td>2584.0</td>\n",
       "      <td>0.393576</td>\n",
       "      <td>0.783772</td>\n",
       "      <td>0.0</td>\n",
       "      <td>0.0</td>\n",
       "      <td>0.0</td>\n",
       "      <td>1.00</td>\n",
       "      <td>8.0</td>\n",
       "    </tr>\n",
       "    <tr>\n",
       "      <th>nbumps3</th>\n",
       "      <td>2584.0</td>\n",
       "      <td>0.392802</td>\n",
       "      <td>0.769710</td>\n",
       "      <td>0.0</td>\n",
       "      <td>0.0</td>\n",
       "      <td>0.0</td>\n",
       "      <td>1.00</td>\n",
       "      <td>7.0</td>\n",
       "    </tr>\n",
       "    <tr>\n",
       "      <th>nbumps4</th>\n",
       "      <td>2584.0</td>\n",
       "      <td>0.067724</td>\n",
       "      <td>0.279059</td>\n",
       "      <td>0.0</td>\n",
       "      <td>0.0</td>\n",
       "      <td>0.0</td>\n",
       "      <td>0.00</td>\n",
       "      <td>3.0</td>\n",
       "    </tr>\n",
       "    <tr>\n",
       "      <th>nbumps5</th>\n",
       "      <td>2584.0</td>\n",
       "      <td>0.004644</td>\n",
       "      <td>0.068001</td>\n",
       "      <td>0.0</td>\n",
       "      <td>0.0</td>\n",
       "      <td>0.0</td>\n",
       "      <td>0.00</td>\n",
       "      <td>1.0</td>\n",
       "    </tr>\n",
       "    <tr>\n",
       "      <th>nbumps6</th>\n",
       "      <td>2584.0</td>\n",
       "      <td>0.000000</td>\n",
       "      <td>0.000000</td>\n",
       "      <td>0.0</td>\n",
       "      <td>0.0</td>\n",
       "      <td>0.0</td>\n",
       "      <td>0.00</td>\n",
       "      <td>0.0</td>\n",
       "    </tr>\n",
       "    <tr>\n",
       "      <th>nbumps7</th>\n",
       "      <td>2584.0</td>\n",
       "      <td>0.000000</td>\n",
       "      <td>0.000000</td>\n",
       "      <td>0.0</td>\n",
       "      <td>0.0</td>\n",
       "      <td>0.0</td>\n",
       "      <td>0.00</td>\n",
       "      <td>0.0</td>\n",
       "    </tr>\n",
       "    <tr>\n",
       "      <th>nbumps89</th>\n",
       "      <td>2584.0</td>\n",
       "      <td>0.000000</td>\n",
       "      <td>0.000000</td>\n",
       "      <td>0.0</td>\n",
       "      <td>0.0</td>\n",
       "      <td>0.0</td>\n",
       "      <td>0.00</td>\n",
       "      <td>0.0</td>\n",
       "    </tr>\n",
       "    <tr>\n",
       "      <th>energy</th>\n",
       "      <td>2584.0</td>\n",
       "      <td>4975.270898</td>\n",
       "      <td>20450.833222</td>\n",
       "      <td>0.0</td>\n",
       "      <td>0.0</td>\n",
       "      <td>0.0</td>\n",
       "      <td>2600.00</td>\n",
       "      <td>402000.0</td>\n",
       "    </tr>\n",
       "    <tr>\n",
       "      <th>maxenergy</th>\n",
       "      <td>2584.0</td>\n",
       "      <td>4278.850619</td>\n",
       "      <td>19357.454882</td>\n",
       "      <td>0.0</td>\n",
       "      <td>0.0</td>\n",
       "      <td>0.0</td>\n",
       "      <td>2000.00</td>\n",
       "      <td>400000.0</td>\n",
       "    </tr>\n",
       "    <tr>\n",
       "      <th>class</th>\n",
       "      <td>2584.0</td>\n",
       "      <td>0.065789</td>\n",
       "      <td>0.247962</td>\n",
       "      <td>0.0</td>\n",
       "      <td>0.0</td>\n",
       "      <td>0.0</td>\n",
       "      <td>0.00</td>\n",
       "      <td>1.0</td>\n",
       "    </tr>\n",
       "  </tbody>\n",
       "</table>\n",
       "</div>"
      ],
      "text/plain": [
       "            count          mean            std    min      25%      50%  \\\n",
       "genergy    2584.0  90242.523220  229200.508894  100.0  11660.0  25485.0   \n",
       "gpuls      2584.0    538.579334     562.652536    2.0    190.0    379.0   \n",
       "gdenergy   2584.0     12.375774      80.319051  -96.0    -37.0     -6.0   \n",
       "gdpuls     2584.0      4.508901      63.166556  -96.0    -36.0     -6.0   \n",
       "nbumps     2584.0      0.859520       1.364616    0.0      0.0      0.0   \n",
       "nbumps2    2584.0      0.393576       0.783772    0.0      0.0      0.0   \n",
       "nbumps3    2584.0      0.392802       0.769710    0.0      0.0      0.0   \n",
       "nbumps4    2584.0      0.067724       0.279059    0.0      0.0      0.0   \n",
       "nbumps5    2584.0      0.004644       0.068001    0.0      0.0      0.0   \n",
       "nbumps6    2584.0      0.000000       0.000000    0.0      0.0      0.0   \n",
       "nbumps7    2584.0      0.000000       0.000000    0.0      0.0      0.0   \n",
       "nbumps89   2584.0      0.000000       0.000000    0.0      0.0      0.0   \n",
       "energy     2584.0   4975.270898   20450.833222    0.0      0.0      0.0   \n",
       "maxenergy  2584.0   4278.850619   19357.454882    0.0      0.0      0.0   \n",
       "class      2584.0      0.065789       0.247962    0.0      0.0      0.0   \n",
       "\n",
       "                75%        max  \n",
       "genergy    52832.50  2595650.0  \n",
       "gpuls        669.00     4518.0  \n",
       "gdenergy      38.00     1245.0  \n",
       "gdpuls        30.25      838.0  \n",
       "nbumps         1.00        9.0  \n",
       "nbumps2        1.00        8.0  \n",
       "nbumps3        1.00        7.0  \n",
       "nbumps4        0.00        3.0  \n",
       "nbumps5        0.00        1.0  \n",
       "nbumps6        0.00        0.0  \n",
       "nbumps7        0.00        0.0  \n",
       "nbumps89       0.00        0.0  \n",
       "energy      2600.00   402000.0  \n",
       "maxenergy   2000.00   400000.0  \n",
       "class          0.00        1.0  "
      ]
     },
     "execution_count": 392,
     "metadata": {},
     "output_type": "execute_result"
    }
   ],
   "source": [
    "df.describe().T"
   ]
  },
  {
   "cell_type": "markdown",
   "metadata": {},
   "source": [
    "Tidak ditemukan missing value pada data. Dari statistik deskriptif dapat terlihat kemungkinan adanya outliers berdasarkan nilai max yang sangat besar. Lalu pada kolom nbumps6, nbumps7, dan nbumps89 hanya mengandung satu nilai saja yaitu 0, penulis akan menghapus kolom ini karena tidak memberikan pengaruh untuk analisis kedepannya."
   ]
  },
  {
   "cell_type": "code",
   "execution_count": 393,
   "metadata": {},
   "outputs": [],
   "source": [
    "df.drop(columns=['nbumps6', 'nbumps7', 'nbumps89'], inplace=True)"
   ]
  },
  {
   "cell_type": "markdown",
   "metadata": {},
   "source": [
    "Untuk kolom-kolom yang memiliki nilai a, b, dan c akan diganti menggunakan 0, 1, dan 2 karena sama-sama menunjukkan tingkatan atau level bahaya dan untuk memudahkan proses analisa selanjutnya."
   ]
  },
  {
   "cell_type": "code",
   "execution_count": 394,
   "metadata": {},
   "outputs": [
    {
     "data": {
      "text/plain": [
       "0    1682\n",
       "1     902\n",
       "Name: seismic, dtype: int64"
      ]
     },
     "execution_count": 394,
     "metadata": {},
     "output_type": "execute_result"
    }
   ],
   "source": [
    "df.loc[:, 'seismic'] = df.loc[:, 'seismic'].replace('a', 0)\n",
    "df.loc[:, 'seismic'] = df.loc[:, 'seismic'].replace('b', 1)\n",
    "df['seismic'].value_counts()"
   ]
  },
  {
   "cell_type": "code",
   "execution_count": 395,
   "metadata": {},
   "outputs": [
    {
     "data": {
      "text/plain": [
       "0    1580\n",
       "1     956\n",
       "2      48\n",
       "Name: seismoacoustic, dtype: int64"
      ]
     },
     "execution_count": 395,
     "metadata": {},
     "output_type": "execute_result"
    }
   ],
   "source": [
    "df.loc[:, 'seismoacoustic'] = df.loc[:, 'seismoacoustic'].replace('a', 0)\n",
    "df.loc[:, 'seismoacoustic'] = df.loc[:, 'seismoacoustic'].replace('b', 1)\n",
    "df.loc[:, 'seismoacoustic'] = df.loc[:, 'seismoacoustic'].replace('c', 2)\n",
    "df['seismoacoustic'].value_counts()"
   ]
  },
  {
   "cell_type": "code",
   "execution_count": 396,
   "metadata": {},
   "outputs": [
    {
     "data": {
      "text/plain": [
       "0    2342\n",
       "1     212\n",
       "2      30\n",
       "Name: hazard, dtype: int64"
      ]
     },
     "execution_count": 396,
     "metadata": {},
     "output_type": "execute_result"
    }
   ],
   "source": [
    "df.loc[:, 'hazard'] = df.loc[:, 'hazard'].replace('a', 0)\n",
    "df.loc[:, 'hazard'] = df.loc[:, 'hazard'].replace('b', 1)\n",
    "df.loc[:, 'hazard'] = df.loc[:, 'hazard'].replace('c', 2)\n",
    "df['hazard'].value_counts()"
   ]
  },
  {
   "cell_type": "code",
   "execution_count": 397,
   "metadata": {},
   "outputs": [
    {
     "data": {
      "text/plain": [
       "1    1663\n",
       "0     921\n",
       "Name: shift, dtype: int64"
      ]
     },
     "execution_count": 397,
     "metadata": {},
     "output_type": "execute_result"
    }
   ],
   "source": [
    "df.loc[:, 'shift'] = df.loc[:, 'shift'].replace('N', 0)\n",
    "df.loc[:, 'shift'] = df.loc[:, 'shift'].replace('W', 1)\n",
    "df['shift'].value_counts()"
   ]
  },
  {
   "cell_type": "markdown",
   "metadata": {},
   "source": [
    "# **IV. EXPLORATORY DATA ANALYSIS**\n",
    "\n",
    "Pada section ini kita akan mencoba melakukan eksplorasi pada data yang digunakan dengan harapan ada informasi/insight yang akan membantu dalam proses analisis selanjutnya."
   ]
  },
  {
   "cell_type": "markdown",
   "metadata": {},
   "source": [
    "## IV.1. Kolom Class (Target)"
   ]
  },
  {
   "cell_type": "code",
   "execution_count": 398,
   "metadata": {},
   "outputs": [
    {
     "data": {
      "image/png": "[encoded data removed]",
      "text/plain": [
       "<Figure size 576x576 with 1 Axes>"
      ]
     },
     "metadata": {
      "needs_background": "light"
     },
     "output_type": "display_data"
    }
   ],
   "source": [
    "plt.figure(figsize=(8,8))\n",
    "ax = sns.countplot(data=df, x='class', palette='mako')\n",
    "ax.bar_label(ax.containers[0], label_type='edge')\n",
    "plt.xticks([0,1], ['No', 'Yes']);"
   ]
  },
  {
   "cell_type": "code",
   "execution_count": 399,
   "metadata": {},
   "outputs": [
    {
     "data": {
      "image/png": "[encoded data removed]",
      "text/plain": [
       "<Figure size 576x576 with 1 Axes>"
      ]
     },
     "metadata": {},
     "output_type": "display_data"
    }
   ],
   "source": [
    "plt.figure(figsize=(8,8), facecolor='white')\n",
    "df['class'].value_counts().plot(kind='pie', labels = ['',''], autopct='%1.1f%%', colors = ['darkslateblue','teal'])\n",
    "plt.legend(labels=['No', 'Yes']);"
   ]
  },
  {
   "cell_type": "markdown",
   "metadata": {},
   "source": [
    "Kolom class disini merujuk kepada kejadian bahaya/bencana yang terjadi, dimana Yes berarti ada bahaya/bencana yang terjadi dan No berarti tidak ada bahaya/bencana yang terjadi. Ketidakseimbangan pada kolom target kali ini sudah termasuk imbalance dengan proporsi No sebesar 93% dan Yes 7%."
   ]
  },
  {
   "cell_type": "markdown",
   "metadata": {},
   "source": [
    "## IV.2. Kolom Seismic"
   ]
  },
  {
   "cell_type": "code",
   "execution_count": 400,
   "metadata": {},
   "outputs": [
    {
     "data": {
      "image/png": "[encoded data removed]",
      "text/plain": [
       "<Figure size 576x576 with 1 Axes>"
      ]
     },
     "metadata": {
      "needs_background": "light"
     },
     "output_type": "display_data"
    }
   ],
   "source": [
    "plt.figure(figsize=(8,8))\n",
    "sns.countplot(data=df, x='seismic', hue='class', palette='mako');"
   ]
  },
  {
   "cell_type": "code",
   "execution_count": 401,
   "metadata": {},
   "outputs": [
    {
     "data": {
      "image/png": "[encoded data removed]",
      "text/plain": [
       "<Figure size 576x576 with 1 Axes>"
      ]
     },
     "metadata": {
      "needs_background": "light"
     },
     "output_type": "display_data"
    }
   ],
   "source": [
    "plt.figure(figsize=(8,8))\n",
    "sns.barplot(data=df, x='seismic', y='class', palette='mako', ci=None)\n",
    "plt.ylabel('% of Hazard');"
   ]
  },
  {
   "cell_type": "markdown",
   "metadata": {},
   "source": [
    "Pada kolom seismic ini menjelaskan tentang asesmen bahaya yang dilakukan berdasarkan gelombang seismic atau gelombang primernya saja. Nilai 0 berarti tidak ada kejadian bahaya sama sekali dan nilai 1 berarti ada kejadian bahaya yang terjadi namun tingkatannya rendah. Dan bisa dilihat pada grafik diatas peluang bahaya kedua variabel ini masih sangat rendah hanya di 10% saja. "
   ]
  },
  {
   "cell_type": "markdown",
   "metadata": {},
   "source": [
    "## IV.3. Kolom Seismoacoustic"
   ]
  },
  {
   "cell_type": "code",
   "execution_count": 402,
   "metadata": {},
   "outputs": [
    {
     "data": {
      "image/png": "[encoded data removed]",
      "text/plain": [
       "<Figure size 576x576 with 1 Axes>"
      ]
     },
     "metadata": {
      "needs_background": "light"
     },
     "output_type": "display_data"
    }
   ],
   "source": [
    "plt.figure(figsize=(8,8))\n",
    "sns.countplot(data=df, x='seismoacoustic', hue='class', palette='mako');"
   ]
  },
  {
   "cell_type": "code",
   "execution_count": 403,
   "metadata": {},
   "outputs": [
    {
     "data": {
      "image/png": "[encoded data removed]",
      "text/plain": [
       "<Figure size 576x576 with 1 Axes>"
      ]
     },
     "metadata": {
      "needs_background": "light"
     },
     "output_type": "display_data"
    }
   ],
   "source": [
    "plt.figure(figsize=(8,8))\n",
    "sns.barplot(data=df, x='seismoacoustic', y='class', palette='mako', ci=None)\n",
    "plt.ylabel('% of Hazard');"
   ]
  },
  {
   "cell_type": "markdown",
   "metadata": {},
   "source": [
    "Pada kolom seismoacoustic ini menjelaskan tentang asesmen bahaya yang dilakukan berdasarkan gelombang seismoacoustic-nya atau gelombang sekundernya saja. nilai 0 berarti tidak ada kejadian bahaya sama sekali, nilai 1 berarti ada kejadian bahaya yang terjadi namun tingkatannya rendah dan nilai 2 berarti ada kejadian bahaya yang terjadi dan tingkatnya tinggi. Dan bisa dilihat juga pada grafik diatas peluang bahaya dari ketiga variabel ini masih sangat rendah hanya di sekitar 6-7% saja."
   ]
  },
  {
   "cell_type": "markdown",
   "metadata": {},
   "source": [
    "## IV.4. Kolom Shift"
   ]
  },
  {
   "cell_type": "code",
   "execution_count": 404,
   "metadata": {},
   "outputs": [
    {
     "data": {
      "image/png": "[encoded data removed]",
      "text/plain": [
       "<Figure size 576x576 with 1 Axes>"
      ]
     },
     "metadata": {
      "needs_background": "light"
     },
     "output_type": "display_data"
    }
   ],
   "source": [
    "plt.figure(figsize=(8,8))\n",
    "sns.countplot(data=df, x='shift', hue='class', palette='mako');"
   ]
  },
  {
   "cell_type": "code",
   "execution_count": 405,
   "metadata": {},
   "outputs": [
    {
     "data": {
      "image/png": "[encoded data removed]",
      "text/plain": [
       "<Figure size 576x576 with 1 Axes>"
      ]
     },
     "metadata": {
      "needs_background": "light"
     },
     "output_type": "display_data"
    }
   ],
   "source": [
    "plt.figure(figsize=(8,8))\n",
    "sns.barplot(data=df, x='shift', y='class', palette='mako', ci=None)\n",
    "plt.ylabel('% of Hazard');"
   ]
  },
  {
   "cell_type": "markdown",
   "metadata": {},
   "source": [
    "Kolom ini menjelaskan kegiatan apa yang lebih berpeluang menimbulkan kondisi bahaya/bencana. Dimana 0 adalah kegiatan persiapan, dan 1 adalah kegiatan menambangnya. Dapat dilihat pada grafik bahwa kegiatan menambang lebih berpotensi menimbulkan kondisi bahaya/bencana dibandingkan kegiatan persiapan. "
   ]
  },
  {
   "cell_type": "markdown",
   "metadata": {},
   "source": [
    "## IV.5. Kolom Genergy"
   ]
  },
  {
   "cell_type": "code",
   "execution_count": 406,
   "metadata": {},
   "outputs": [
    {
     "data": {
      "text/plain": [
       "(0, 25000]           1272\n",
       "(25000, 50000]        640\n",
       "(50000, 100000]       305\n",
       "(100000, 200000]      129\n",
       "(500000, 3000000]     121\n",
       "(200000, 500000]      117\n",
       "Name: genergy_range, dtype: int64"
      ]
     },
     "execution_count": 406,
     "metadata": {},
     "output_type": "execute_result"
    }
   ],
   "source": [
    "df_copy = df.copy()\n",
    "df_copy['genergy_range'] = pd.cut(df_copy['genergy'], [0, 25000, 50000, 100000, 200000, 500000, 3000000])\n",
    "df_copy['genergy_range'].value_counts()"
   ]
  },
  {
   "cell_type": "code",
   "execution_count": 407,
   "metadata": {},
   "outputs": [
    {
     "data": {
      "image/png": "[encoded data removed]",
      "text/plain": [
       "<Figure size 864x576 with 1 Axes>"
      ]
     },
     "metadata": {
      "needs_background": "light"
     },
     "output_type": "display_data"
    }
   ],
   "source": [
    "plt.figure(figsize=(12,8))\n",
    "sns.countplot(data=df_copy, x='genergy_range', hue='class', palette='mako');"
   ]
  },
  {
   "cell_type": "code",
   "execution_count": 408,
   "metadata": {},
   "outputs": [
    {
     "data": {
      "image/png": "[encoded data removed]",
      "text/plain": [
       "<Figure size 864x576 with 1 Axes>"
      ]
     },
     "metadata": {
      "needs_background": "light"
     },
     "output_type": "display_data"
    }
   ],
   "source": [
    "plt.figure(figsize=(12,8))\n",
    "sns.barplot(data=df_copy, x='genergy_range', y='class', palette='mako', ci=None)\n",
    "plt.ylabel('% of Hazard');"
   ]
  },
  {
   "cell_type": "markdown",
   "metadata": {},
   "source": [
    "Kolom genergy ini menjelaskan tentang total energi seismic yang terekam oleh geophone pada satu shift. Terlihat sebuah pola bahwa semakin besar energi seismic yang terekam maka semakin tinggi juga peluang terjadinya kondisi bahaya/bencana. "
   ]
  },
  {
   "cell_type": "markdown",
   "metadata": {},
   "source": [
    "## IV.6. Kolom Gpuls"
   ]
  },
  {
   "cell_type": "code",
   "execution_count": 409,
   "metadata": {},
   "outputs": [
    {
     "data": {
      "text/plain": [
       "(0, 250]        856\n",
       "(250, 500]      761\n",
       "(500, 1000]     621\n",
       "(1000, 2000]    259\n",
       "(2000, 5000]     87\n",
       "Name: gpuls_range, dtype: int64"
      ]
     },
     "execution_count": 409,
     "metadata": {},
     "output_type": "execute_result"
    }
   ],
   "source": [
    "df_copy['gpuls_range'] = pd.cut(df_copy['gpuls'], [0, 250, 500, 1000, 2000, 5000])\n",
    "df_copy['gpuls_range'].value_counts()"
   ]
  },
  {
   "cell_type": "code",
   "execution_count": 410,
   "metadata": {},
   "outputs": [
    {
     "data": {
      "image/png": "[encoded data removed]",
      "text/plain": [
       "<Figure size 864x576 with 1 Axes>"
      ]
     },
     "metadata": {
      "needs_background": "light"
     },
     "output_type": "display_data"
    }
   ],
   "source": [
    "plt.figure(figsize=(12,8))\n",
    "sns.countplot(data=df_copy, x='gpuls_range', hue='class', palette='mako');"
   ]
  },
  {
   "cell_type": "code",
   "execution_count": 411,
   "metadata": {},
   "outputs": [
    {
     "data": {
      "image/png": "[encoded data removed]",
      "text/plain": [
       "<Figure size 864x576 with 1 Axes>"
      ]
     },
     "metadata": {
      "needs_background": "light"
     },
     "output_type": "display_data"
    }
   ],
   "source": [
    "plt.figure(figsize=(12,8))\n",
    "sns.barplot(data=df_copy, x='gpuls_range', y='class', palette='mako', ci=None)\n",
    "plt.ylabel('% of Hazard');"
   ]
  },
  {
   "cell_type": "markdown",
   "metadata": {},
   "source": [
    "Kolom gpuls ini menjelaskan seberapa banyak pulse atau denyut yang terekam oleh geophone pada satu shift. Sama seperti kolom genergy, terlihat sebuah pola dimana semakin banyak denyut yang terekam maka semakin tinggi pula peluang terjadinya kondisi bahaya/bencana."
   ]
  },
  {
   "cell_type": "markdown",
   "metadata": {},
   "source": [
    "## IV.7. Kolom Hazard"
   ]
  },
  {
   "cell_type": "code",
   "execution_count": 412,
   "metadata": {},
   "outputs": [
    {
     "data": {
      "image/png": "[encoded data removed]",
      "text/plain": [
       "<Figure size 576x576 with 1 Axes>"
      ]
     },
     "metadata": {
      "needs_background": "light"
     },
     "output_type": "display_data"
    }
   ],
   "source": [
    "plt.figure(figsize=(8,8))\n",
    "sns.countplot(data=df, x='hazard', hue='class', palette='mako');"
   ]
  },
  {
   "cell_type": "code",
   "execution_count": 413,
   "metadata": {},
   "outputs": [
    {
     "data": {
      "image/png": "[encoded data removed]",
      "text/plain": [
       "<Figure size 576x576 with 1 Axes>"
      ]
     },
     "metadata": {
      "needs_background": "light"
     },
     "output_type": "display_data"
    }
   ],
   "source": [
    "plt.figure(figsize=(8,8))\n",
    "sns.barplot(data=df, x='hazard', y='class', palette='mako', ci=None)\n",
    "plt.ylabel('% of Hazard');"
   ]
  },
  {
   "cell_type": "markdown",
   "metadata": {},
   "source": [
    "Pada kolom hazard ini menjelaskan tentang asesmen bahaya yang dilakukan berdasarkan rekaman mentah langsung dari geophone. nilai 0 berarti tidak ada kejadian bahaya sama sekali, nilai 1 berarti ada kejadian bahaya yang terjadi namun tingkatannya rendah dan nilai 2 berarti ada kejadian bahaya yang terjadi dan tingkatnya tinggi. Dan bisa dilihat juga pada grafik diatas peluang bahaya dari ketiga variabel ini masih sangat rendah hanya di sekitar 6% saja."
   ]
  },
  {
   "cell_type": "markdown",
   "metadata": {},
   "source": [
    "## IV.8. Kolom Energy"
   ]
  },
  {
   "cell_type": "code",
   "execution_count": 414,
   "metadata": {},
   "outputs": [
    {
     "data": {
      "text/plain": [
       "(-1, 1000]         1799\n",
       "(1000, 5000]        392\n",
       "(5000, 10000]       179\n",
       "(10000, 25000]       89\n",
       "(25000, 50000]       66\n",
       "(50000, 405000]      59\n",
       "Name: energy_range, dtype: int64"
      ]
     },
     "execution_count": 414,
     "metadata": {},
     "output_type": "execute_result"
    }
   ],
   "source": [
    "df_copy['energy_range'] = pd.cut(df_copy['energy'], [-1, 1000, 5000, 10000, 25000, 50000, 405000])\n",
    "df_copy['energy_range'].value_counts()"
   ]
  },
  {
   "cell_type": "code",
   "execution_count": 415,
   "metadata": {},
   "outputs": [
    {
     "data": {
      "image/png": "[encoded data removed]",
      "text/plain": [
       "<Figure size 720x576 with 1 Axes>"
      ]
     },
     "metadata": {
      "needs_background": "light"
     },
     "output_type": "display_data"
    }
   ],
   "source": [
    "plt.figure(figsize=(10,8))\n",
    "sns.countplot(data=df_copy, x='energy_range', hue='class', palette='mako');"
   ]
  },
  {
   "cell_type": "code",
   "execution_count": 416,
   "metadata": {},
   "outputs": [
    {
     "data": {
      "image/png": "[encoded data removed]",
      "text/plain": [
       "<Figure size 720x576 with 1 Axes>"
      ]
     },
     "metadata": {
      "needs_background": "light"
     },
     "output_type": "display_data"
    }
   ],
   "source": [
    "plt.figure(figsize=(10,8))\n",
    "sns.barplot(data=df_copy, x='energy_range', y='class', palette='mako', ci=None)\n",
    "plt.ylabel('% of Hazard');"
   ]
  },
  {
   "cell_type": "markdown",
   "metadata": {},
   "source": [
    "Kolom energy ini menjelaskan tentang total energi yang terekam oleh geophone. Melihat grafik di atas ditemukan hal yang menarik yaitu peluang tertinggi terjadinya kondisi bahaya/bencana berada pada rentang energi 10000-25000, namun setelah itu kemungkinannya menjadi turun. Hal ini berbeda dengan yang didapatkan pada kolom genergy di atas."
   ]
  },
  {
   "cell_type": "markdown",
   "metadata": {},
   "source": [
    "## IV.9. Kolom Maxenergy"
   ]
  },
  {
   "cell_type": "code",
   "execution_count": 417,
   "metadata": {},
   "outputs": [
    {
     "data": {
      "text/plain": [
       "(-1, 1000]         1875\n",
       "(1000, 5000]        396\n",
       "(5000, 10000]       164\n",
       "(25000, 50000]       59\n",
       "(50000, 400000]      46\n",
       "(10000, 25000]       44\n",
       "Name: maxenergy_range, dtype: int64"
      ]
     },
     "execution_count": 417,
     "metadata": {},
     "output_type": "execute_result"
    }
   ],
   "source": [
    "df_copy['maxenergy_range'] = pd.cut(df_copy['maxenergy'], [-1, 1000, 5000, 10000, 25000, 50000, 400000])\n",
    "df_copy['maxenergy_range'].value_counts()"
   ]
  },
  {
   "cell_type": "code",
   "execution_count": 418,
   "metadata": {},
   "outputs": [
    {
     "data": {
      "image/png": "[encoded data removed]",
      "text/plain": [
       "<Figure size 720x576 with 1 Axes>"
      ]
     },
     "metadata": {
      "needs_background": "light"
     },
     "output_type": "display_data"
    }
   ],
   "source": [
    "plt.figure(figsize=(10,8))\n",
    "sns.countplot(data=df_copy, x='maxenergy_range', hue='class', palette='mako');"
   ]
  },
  {
   "cell_type": "code",
   "execution_count": 419,
   "metadata": {},
   "outputs": [
    {
     "data": {
      "image/png": "[encoded data removed]",
      "text/plain": [
       "<Figure size 720x576 with 1 Axes>"
      ]
     },
     "metadata": {
      "needs_background": "light"
     },
     "output_type": "display_data"
    }
   ],
   "source": [
    "plt.figure(figsize=(10,8))\n",
    "sns.barplot(data=df_copy, x='maxenergy_range', y='class', palette='mako', ci=None)\n",
    "plt.ylabel('% of Hazard');"
   ]
  },
  {
   "cell_type": "markdown",
   "metadata": {},
   "source": [
    "Kolom maxenergy ini menjelaskan tentang energi maksimum yang terekam oleh geophone. Sama seperti grafik energy yang sebelumnya, ditemukan hal yang menarik yaitu peluang tertinggi terjadinya kondisi bahaya/bencana berada pada rentang energi 10000-25000, namun setelah itu kemungkinannya menjadi turun. Hal ini berbeda dengan yang didapatkan pada kolom genergy di atas."
   ]
  },
  {
   "cell_type": "code",
   "execution_count": 8,
   "metadata": {},
   "outputs": [
    {
     "data": {
      "image/png": "[encoded data removed]",
      "text/plain": [
       "<Figure size 576x576 with 1 Axes>"
      ]
     },
     "metadata": {
      "needs_background": "light"
     },
     "output_type": "display_data"
    }
   ],
   "source": [
    "plt.figure(figsize=(8,8))\n",
    "sns.barplot(data=df, x='nbumps5', y='class', palette='mako', ci=None)\n",
    "plt.ylabel('% of Hazard');"
   ]
  },
  {
   "cell_type": "markdown",
   "metadata": {},
   "source": [
    "# **V. DATA PREPROCESSING**"
   ]
  },
  {
   "cell_type": "markdown",
   "metadata": {},
   "source": [
    "Mengubah tipe data untuk kolom yang terlihat seperti numerik namun sebenarnya kategorikal. Ini akan memudahkan penulis dalam proses pemisahan kolom berdasarkan jenisnya."
   ]
  },
  {
   "cell_type": "code",
   "execution_count": 420,
   "metadata": {},
   "outputs": [],
   "source": [
    "df['seismic'] = df['seismic'].apply(str)\n",
    "df['seismoacoustic'] = df['seismoacoustic'].apply(str)\n",
    "df['shift'] = df['shift'].apply(str)\n",
    "df['hazard'] = df['hazard'].apply(str)\n",
    "df['nbumps'] = df['nbumps'].apply(str)\n",
    "df['nbumps2'] = df['nbumps2'].apply(str)\n",
    "df['nbumps3'] = df['nbumps3'].apply(str)\n",
    "df['nbumps4'] = df['nbumps4'].apply(str)\n",
    "df['nbumps5'] = df['nbumps5'].apply(str)"
   ]
  },
  {
   "cell_type": "markdown",
   "metadata": {},
   "source": [
    "## V.1. Pemisahan Data Inference"
   ]
  },
  {
   "cell_type": "code",
   "execution_count": 421,
   "metadata": {},
   "outputs": [
    {
     "data": {
      "text/html": [
       "<div>\n",
       "<style scoped>\n",
       "    .dataframe tbody tr th:only-of-type {\n",
       "        vertical-align: middle;\n",
       "    }\n",
       "\n",
       "    .dataframe tbody tr th {\n",
       "        vertical-align: top;\n",
       "    }\n",
       "\n",
       "    .dataframe thead th {\n",
       "        text-align: right;\n",
       "    }\n",
       "</style>\n",
       "<table border=\"1\" class=\"dataframe\">\n",
       "  <thead>\n",
       "    <tr style=\"text-align: right;\">\n",
       "      <th></th>\n",
       "      <th>seismic</th>\n",
       "      <th>seismoacoustic</th>\n",
       "      <th>shift</th>\n",
       "      <th>genergy</th>\n",
       "      <th>gpuls</th>\n",
       "      <th>gdenergy</th>\n",
       "      <th>gdpuls</th>\n",
       "      <th>hazard</th>\n",
       "      <th>nbumps</th>\n",
       "      <th>nbumps2</th>\n",
       "      <th>nbumps3</th>\n",
       "      <th>nbumps4</th>\n",
       "      <th>nbumps5</th>\n",
       "      <th>energy</th>\n",
       "      <th>maxenergy</th>\n",
       "      <th>class</th>\n",
       "    </tr>\n",
       "  </thead>\n",
       "  <tbody>\n",
       "    <tr>\n",
       "      <th>2099</th>\n",
       "      <td>0</td>\n",
       "      <td>0</td>\n",
       "      <td>0</td>\n",
       "      <td>5280</td>\n",
       "      <td>178</td>\n",
       "      <td>-29</td>\n",
       "      <td>-16</td>\n",
       "      <td>0</td>\n",
       "      <td>0</td>\n",
       "      <td>0</td>\n",
       "      <td>0</td>\n",
       "      <td>0</td>\n",
       "      <td>0</td>\n",
       "      <td>0</td>\n",
       "      <td>0</td>\n",
       "      <td>0</td>\n",
       "    </tr>\n",
       "    <tr>\n",
       "      <th>435</th>\n",
       "      <td>1</td>\n",
       "      <td>0</td>\n",
       "      <td>1</td>\n",
       "      <td>38170</td>\n",
       "      <td>784</td>\n",
       "      <td>-27</td>\n",
       "      <td>12</td>\n",
       "      <td>0</td>\n",
       "      <td>3</td>\n",
       "      <td>1</td>\n",
       "      <td>2</td>\n",
       "      <td>0</td>\n",
       "      <td>0</td>\n",
       "      <td>3500</td>\n",
       "      <td>2000</td>\n",
       "      <td>0</td>\n",
       "    </tr>\n",
       "    <tr>\n",
       "      <th>1729</th>\n",
       "      <td>1</td>\n",
       "      <td>0</td>\n",
       "      <td>0</td>\n",
       "      <td>10020</td>\n",
       "      <td>370</td>\n",
       "      <td>0</td>\n",
       "      <td>6</td>\n",
       "      <td>0</td>\n",
       "      <td>0</td>\n",
       "      <td>0</td>\n",
       "      <td>0</td>\n",
       "      <td>0</td>\n",
       "      <td>0</td>\n",
       "      <td>0</td>\n",
       "      <td>0</td>\n",
       "      <td>0</td>\n",
       "    </tr>\n",
       "    <tr>\n",
       "      <th>321</th>\n",
       "      <td>1</td>\n",
       "      <td>0</td>\n",
       "      <td>1</td>\n",
       "      <td>292040</td>\n",
       "      <td>1233</td>\n",
       "      <td>-33</td>\n",
       "      <td>-29</td>\n",
       "      <td>0</td>\n",
       "      <td>0</td>\n",
       "      <td>0</td>\n",
       "      <td>0</td>\n",
       "      <td>0</td>\n",
       "      <td>0</td>\n",
       "      <td>0</td>\n",
       "      <td>0</td>\n",
       "      <td>0</td>\n",
       "    </tr>\n",
       "    <tr>\n",
       "      <th>2582</th>\n",
       "      <td>0</td>\n",
       "      <td>0</td>\n",
       "      <td>1</td>\n",
       "      <td>16130</td>\n",
       "      <td>322</td>\n",
       "      <td>2</td>\n",
       "      <td>2</td>\n",
       "      <td>0</td>\n",
       "      <td>0</td>\n",
       "      <td>0</td>\n",
       "      <td>0</td>\n",
       "      <td>0</td>\n",
       "      <td>0</td>\n",
       "      <td>0</td>\n",
       "      <td>0</td>\n",
       "      <td>0</td>\n",
       "    </tr>\n",
       "  </tbody>\n",
       "</table>\n",
       "</div>"
      ],
      "text/plain": [
       "     seismic seismoacoustic shift  genergy  gpuls  gdenergy  gdpuls hazard  \\\n",
       "2099       0              0     0     5280    178       -29     -16      0   \n",
       "435        1              0     1    38170    784       -27      12      0   \n",
       "1729       1              0     0    10020    370         0       6      0   \n",
       "321        1              0     1   292040   1233       -33     -29      0   \n",
       "2582       0              0     1    16130    322         2       2      0   \n",
       "\n",
       "     nbumps nbumps2 nbumps3 nbumps4 nbumps5  energy  maxenergy  class  \n",
       "2099      0       0       0       0       0       0          0      0  \n",
       "435       3       1       2       0       0    3500       2000      0  \n",
       "1729      0       0       0       0       0       0          0      0  \n",
       "321       0       0       0       0       0       0          0      0  \n",
       "2582      0       0       0       0       0       0          0      0  "
      ]
     },
     "execution_count": 421,
     "metadata": {},
     "output_type": "execute_result"
    }
   ],
   "source": [
    "data_inf = df.sample(5, random_state=42)\n",
    "data_inf"
   ]
  },
  {
   "cell_type": "code",
   "execution_count": 422,
   "metadata": {},
   "outputs": [
    {
     "data": {
      "text/html": [
       "<div>\n",
       "<style scoped>\n",
       "    .dataframe tbody tr th:only-of-type {\n",
       "        vertical-align: middle;\n",
       "    }\n",
       "\n",
       "    .dataframe tbody tr th {\n",
       "        vertical-align: top;\n",
       "    }\n",
       "\n",
       "    .dataframe thead th {\n",
       "        text-align: right;\n",
       "    }\n",
       "</style>\n",
       "<table border=\"1\" class=\"dataframe\">\n",
       "  <thead>\n",
       "    <tr style=\"text-align: right;\">\n",
       "      <th></th>\n",
       "      <th>seismic</th>\n",
       "      <th>seismoacoustic</th>\n",
       "      <th>shift</th>\n",
       "      <th>genergy</th>\n",
       "      <th>gpuls</th>\n",
       "      <th>gdenergy</th>\n",
       "      <th>gdpuls</th>\n",
       "      <th>hazard</th>\n",
       "      <th>nbumps</th>\n",
       "      <th>nbumps2</th>\n",
       "      <th>nbumps3</th>\n",
       "      <th>nbumps4</th>\n",
       "      <th>nbumps5</th>\n",
       "      <th>energy</th>\n",
       "      <th>maxenergy</th>\n",
       "      <th>class</th>\n",
       "    </tr>\n",
       "  </thead>\n",
       "  <tbody>\n",
       "    <tr>\n",
       "      <th>0</th>\n",
       "      <td>0</td>\n",
       "      <td>0</td>\n",
       "      <td>0</td>\n",
       "      <td>15180</td>\n",
       "      <td>48</td>\n",
       "      <td>-72</td>\n",
       "      <td>-72</td>\n",
       "      <td>0</td>\n",
       "      <td>0</td>\n",
       "      <td>0</td>\n",
       "      <td>0</td>\n",
       "      <td>0</td>\n",
       "      <td>0</td>\n",
       "      <td>0</td>\n",
       "      <td>0</td>\n",
       "      <td>0</td>\n",
       "    </tr>\n",
       "    <tr>\n",
       "      <th>1</th>\n",
       "      <td>0</td>\n",
       "      <td>0</td>\n",
       "      <td>0</td>\n",
       "      <td>14720</td>\n",
       "      <td>33</td>\n",
       "      <td>-70</td>\n",
       "      <td>-79</td>\n",
       "      <td>0</td>\n",
       "      <td>1</td>\n",
       "      <td>0</td>\n",
       "      <td>1</td>\n",
       "      <td>0</td>\n",
       "      <td>0</td>\n",
       "      <td>2000</td>\n",
       "      <td>2000</td>\n",
       "      <td>0</td>\n",
       "    </tr>\n",
       "    <tr>\n",
       "      <th>2</th>\n",
       "      <td>0</td>\n",
       "      <td>0</td>\n",
       "      <td>0</td>\n",
       "      <td>8050</td>\n",
       "      <td>30</td>\n",
       "      <td>-81</td>\n",
       "      <td>-78</td>\n",
       "      <td>0</td>\n",
       "      <td>0</td>\n",
       "      <td>0</td>\n",
       "      <td>0</td>\n",
       "      <td>0</td>\n",
       "      <td>0</td>\n",
       "      <td>0</td>\n",
       "      <td>0</td>\n",
       "      <td>0</td>\n",
       "    </tr>\n",
       "    <tr>\n",
       "      <th>3</th>\n",
       "      <td>0</td>\n",
       "      <td>0</td>\n",
       "      <td>0</td>\n",
       "      <td>28820</td>\n",
       "      <td>171</td>\n",
       "      <td>-23</td>\n",
       "      <td>40</td>\n",
       "      <td>0</td>\n",
       "      <td>1</td>\n",
       "      <td>0</td>\n",
       "      <td>1</td>\n",
       "      <td>0</td>\n",
       "      <td>0</td>\n",
       "      <td>3000</td>\n",
       "      <td>3000</td>\n",
       "      <td>0</td>\n",
       "    </tr>\n",
       "    <tr>\n",
       "      <th>4</th>\n",
       "      <td>0</td>\n",
       "      <td>0</td>\n",
       "      <td>0</td>\n",
       "      <td>12640</td>\n",
       "      <td>57</td>\n",
       "      <td>-63</td>\n",
       "      <td>-52</td>\n",
       "      <td>0</td>\n",
       "      <td>0</td>\n",
       "      <td>0</td>\n",
       "      <td>0</td>\n",
       "      <td>0</td>\n",
       "      <td>0</td>\n",
       "      <td>0</td>\n",
       "      <td>0</td>\n",
       "      <td>0</td>\n",
       "    </tr>\n",
       "    <tr>\n",
       "      <th>...</th>\n",
       "      <td>...</td>\n",
       "      <td>...</td>\n",
       "      <td>...</td>\n",
       "      <td>...</td>\n",
       "      <td>...</td>\n",
       "      <td>...</td>\n",
       "      <td>...</td>\n",
       "      <td>...</td>\n",
       "      <td>...</td>\n",
       "      <td>...</td>\n",
       "      <td>...</td>\n",
       "      <td>...</td>\n",
       "      <td>...</td>\n",
       "      <td>...</td>\n",
       "      <td>...</td>\n",
       "      <td>...</td>\n",
       "    </tr>\n",
       "    <tr>\n",
       "      <th>2578</th>\n",
       "      <td>1</td>\n",
       "      <td>0</td>\n",
       "      <td>1</td>\n",
       "      <td>28910</td>\n",
       "      <td>307</td>\n",
       "      <td>115</td>\n",
       "      <td>20</td>\n",
       "      <td>0</td>\n",
       "      <td>0</td>\n",
       "      <td>0</td>\n",
       "      <td>0</td>\n",
       "      <td>0</td>\n",
       "      <td>0</td>\n",
       "      <td>0</td>\n",
       "      <td>0</td>\n",
       "      <td>0</td>\n",
       "    </tr>\n",
       "    <tr>\n",
       "      <th>2579</th>\n",
       "      <td>1</td>\n",
       "      <td>0</td>\n",
       "      <td>1</td>\n",
       "      <td>81410</td>\n",
       "      <td>785</td>\n",
       "      <td>432</td>\n",
       "      <td>151</td>\n",
       "      <td>1</td>\n",
       "      <td>0</td>\n",
       "      <td>0</td>\n",
       "      <td>0</td>\n",
       "      <td>0</td>\n",
       "      <td>0</td>\n",
       "      <td>0</td>\n",
       "      <td>0</td>\n",
       "      <td>0</td>\n",
       "    </tr>\n",
       "    <tr>\n",
       "      <th>2580</th>\n",
       "      <td>1</td>\n",
       "      <td>0</td>\n",
       "      <td>1</td>\n",
       "      <td>42110</td>\n",
       "      <td>555</td>\n",
       "      <td>213</td>\n",
       "      <td>118</td>\n",
       "      <td>0</td>\n",
       "      <td>0</td>\n",
       "      <td>0</td>\n",
       "      <td>0</td>\n",
       "      <td>0</td>\n",
       "      <td>0</td>\n",
       "      <td>0</td>\n",
       "      <td>0</td>\n",
       "      <td>0</td>\n",
       "    </tr>\n",
       "    <tr>\n",
       "      <th>2581</th>\n",
       "      <td>1</td>\n",
       "      <td>0</td>\n",
       "      <td>1</td>\n",
       "      <td>26960</td>\n",
       "      <td>540</td>\n",
       "      <td>101</td>\n",
       "      <td>112</td>\n",
       "      <td>0</td>\n",
       "      <td>0</td>\n",
       "      <td>0</td>\n",
       "      <td>0</td>\n",
       "      <td>0</td>\n",
       "      <td>0</td>\n",
       "      <td>0</td>\n",
       "      <td>0</td>\n",
       "      <td>0</td>\n",
       "    </tr>\n",
       "    <tr>\n",
       "      <th>2583</th>\n",
       "      <td>0</td>\n",
       "      <td>0</td>\n",
       "      <td>1</td>\n",
       "      <td>12750</td>\n",
       "      <td>235</td>\n",
       "      <td>-10</td>\n",
       "      <td>-10</td>\n",
       "      <td>0</td>\n",
       "      <td>0</td>\n",
       "      <td>0</td>\n",
       "      <td>0</td>\n",
       "      <td>0</td>\n",
       "      <td>0</td>\n",
       "      <td>0</td>\n",
       "      <td>0</td>\n",
       "      <td>0</td>\n",
       "    </tr>\n",
       "  </tbody>\n",
       "</table>\n",
       "<p>2579 rows × 16 columns</p>\n",
       "</div>"
      ],
      "text/plain": [
       "     seismic seismoacoustic shift  genergy  gpuls  gdenergy  gdpuls hazard  \\\n",
       "0          0              0     0    15180     48       -72     -72      0   \n",
       "1          0              0     0    14720     33       -70     -79      0   \n",
       "2          0              0     0     8050     30       -81     -78      0   \n",
       "3          0              0     0    28820    171       -23      40      0   \n",
       "4          0              0     0    12640     57       -63     -52      0   \n",
       "...      ...            ...   ...      ...    ...       ...     ...    ...   \n",
       "2578       1              0     1    28910    307       115      20      0   \n",
       "2579       1              0     1    81410    785       432     151      1   \n",
       "2580       1              0     1    42110    555       213     118      0   \n",
       "2581       1              0     1    26960    540       101     112      0   \n",
       "2583       0              0     1    12750    235       -10     -10      0   \n",
       "\n",
       "     nbumps nbumps2 nbumps3 nbumps4 nbumps5  energy  maxenergy  class  \n",
       "0         0       0       0       0       0       0          0      0  \n",
       "1         1       0       1       0       0    2000       2000      0  \n",
       "2         0       0       0       0       0       0          0      0  \n",
       "3         1       0       1       0       0    3000       3000      0  \n",
       "4         0       0       0       0       0       0          0      0  \n",
       "...     ...     ...     ...     ...     ...     ...        ...    ...  \n",
       "2578      0       0       0       0       0       0          0      0  \n",
       "2579      0       0       0       0       0       0          0      0  \n",
       "2580      0       0       0       0       0       0          0      0  \n",
       "2581      0       0       0       0       0       0          0      0  \n",
       "2583      0       0       0       0       0       0          0      0  \n",
       "\n",
       "[2579 rows x 16 columns]"
      ]
     },
     "execution_count": 422,
     "metadata": {},
     "output_type": "execute_result"
    }
   ],
   "source": [
    "data_train_test = df.drop(data_inf.index)\n",
    "data_train_test"
   ]
  },
  {
   "cell_type": "code",
   "execution_count": 423,
   "metadata": {},
   "outputs": [],
   "source": [
    "data_train_test.reset_index(drop=True, inplace=True)\n",
    "data_inf.reset_index(drop=True, inplace=True)"
   ]
  },
  {
   "cell_type": "markdown",
   "metadata": {},
   "source": [
    "## V.2. Pemisahan Data Train dan Test"
   ]
  },
  {
   "cell_type": "code",
   "execution_count": 424,
   "metadata": {},
   "outputs": [
    {
     "data": {
      "text/html": [
       "<div>\n",
       "<style scoped>\n",
       "    .dataframe tbody tr th:only-of-type {\n",
       "        vertical-align: middle;\n",
       "    }\n",
       "\n",
       "    .dataframe tbody tr th {\n",
       "        vertical-align: top;\n",
       "    }\n",
       "\n",
       "    .dataframe thead th {\n",
       "        text-align: right;\n",
       "    }\n",
       "</style>\n",
       "<table border=\"1\" class=\"dataframe\">\n",
       "  <thead>\n",
       "    <tr style=\"text-align: right;\">\n",
       "      <th></th>\n",
       "      <th>seismic</th>\n",
       "      <th>seismoacoustic</th>\n",
       "      <th>shift</th>\n",
       "      <th>genergy</th>\n",
       "      <th>gpuls</th>\n",
       "      <th>gdenergy</th>\n",
       "      <th>gdpuls</th>\n",
       "      <th>hazard</th>\n",
       "      <th>nbumps</th>\n",
       "      <th>nbumps2</th>\n",
       "      <th>nbumps3</th>\n",
       "      <th>nbumps4</th>\n",
       "      <th>nbumps5</th>\n",
       "      <th>energy</th>\n",
       "      <th>maxenergy</th>\n",
       "    </tr>\n",
       "  </thead>\n",
       "  <tbody>\n",
       "    <tr>\n",
       "      <th>0</th>\n",
       "      <td>0</td>\n",
       "      <td>0</td>\n",
       "      <td>0</td>\n",
       "      <td>15180</td>\n",
       "      <td>48</td>\n",
       "      <td>-72</td>\n",
       "      <td>-72</td>\n",
       "      <td>0</td>\n",
       "      <td>0</td>\n",
       "      <td>0</td>\n",
       "      <td>0</td>\n",
       "      <td>0</td>\n",
       "      <td>0</td>\n",
       "      <td>0</td>\n",
       "      <td>0</td>\n",
       "    </tr>\n",
       "    <tr>\n",
       "      <th>1</th>\n",
       "      <td>0</td>\n",
       "      <td>0</td>\n",
       "      <td>0</td>\n",
       "      <td>14720</td>\n",
       "      <td>33</td>\n",
       "      <td>-70</td>\n",
       "      <td>-79</td>\n",
       "      <td>0</td>\n",
       "      <td>1</td>\n",
       "      <td>0</td>\n",
       "      <td>1</td>\n",
       "      <td>0</td>\n",
       "      <td>0</td>\n",
       "      <td>2000</td>\n",
       "      <td>2000</td>\n",
       "    </tr>\n",
       "    <tr>\n",
       "      <th>2</th>\n",
       "      <td>0</td>\n",
       "      <td>0</td>\n",
       "      <td>0</td>\n",
       "      <td>8050</td>\n",
       "      <td>30</td>\n",
       "      <td>-81</td>\n",
       "      <td>-78</td>\n",
       "      <td>0</td>\n",
       "      <td>0</td>\n",
       "      <td>0</td>\n",
       "      <td>0</td>\n",
       "      <td>0</td>\n",
       "      <td>0</td>\n",
       "      <td>0</td>\n",
       "      <td>0</td>\n",
       "    </tr>\n",
       "    <tr>\n",
       "      <th>3</th>\n",
       "      <td>0</td>\n",
       "      <td>0</td>\n",
       "      <td>0</td>\n",
       "      <td>28820</td>\n",
       "      <td>171</td>\n",
       "      <td>-23</td>\n",
       "      <td>40</td>\n",
       "      <td>0</td>\n",
       "      <td>1</td>\n",
       "      <td>0</td>\n",
       "      <td>1</td>\n",
       "      <td>0</td>\n",
       "      <td>0</td>\n",
       "      <td>3000</td>\n",
       "      <td>3000</td>\n",
       "    </tr>\n",
       "    <tr>\n",
       "      <th>4</th>\n",
       "      <td>0</td>\n",
       "      <td>0</td>\n",
       "      <td>0</td>\n",
       "      <td>12640</td>\n",
       "      <td>57</td>\n",
       "      <td>-63</td>\n",
       "      <td>-52</td>\n",
       "      <td>0</td>\n",
       "      <td>0</td>\n",
       "      <td>0</td>\n",
       "      <td>0</td>\n",
       "      <td>0</td>\n",
       "      <td>0</td>\n",
       "      <td>0</td>\n",
       "      <td>0</td>\n",
       "    </tr>\n",
       "    <tr>\n",
       "      <th>...</th>\n",
       "      <td>...</td>\n",
       "      <td>...</td>\n",
       "      <td>...</td>\n",
       "      <td>...</td>\n",
       "      <td>...</td>\n",
       "      <td>...</td>\n",
       "      <td>...</td>\n",
       "      <td>...</td>\n",
       "      <td>...</td>\n",
       "      <td>...</td>\n",
       "      <td>...</td>\n",
       "      <td>...</td>\n",
       "      <td>...</td>\n",
       "      <td>...</td>\n",
       "      <td>...</td>\n",
       "    </tr>\n",
       "    <tr>\n",
       "      <th>2574</th>\n",
       "      <td>1</td>\n",
       "      <td>0</td>\n",
       "      <td>1</td>\n",
       "      <td>28910</td>\n",
       "      <td>307</td>\n",
       "      <td>115</td>\n",
       "      <td>20</td>\n",
       "      <td>0</td>\n",
       "      <td>0</td>\n",
       "      <td>0</td>\n",
       "      <td>0</td>\n",
       "      <td>0</td>\n",
       "      <td>0</td>\n",
       "      <td>0</td>\n",
       "      <td>0</td>\n",
       "    </tr>\n",
       "    <tr>\n",
       "      <th>2575</th>\n",
       "      <td>1</td>\n",
       "      <td>0</td>\n",
       "      <td>1</td>\n",
       "      <td>81410</td>\n",
       "      <td>785</td>\n",
       "      <td>432</td>\n",
       "      <td>151</td>\n",
       "      <td>1</td>\n",
       "      <td>0</td>\n",
       "      <td>0</td>\n",
       "      <td>0</td>\n",
       "      <td>0</td>\n",
       "      <td>0</td>\n",
       "      <td>0</td>\n",
       "      <td>0</td>\n",
       "    </tr>\n",
       "    <tr>\n",
       "      <th>2576</th>\n",
       "      <td>1</td>\n",
       "      <td>0</td>\n",
       "      <td>1</td>\n",
       "      <td>42110</td>\n",
       "      <td>555</td>\n",
       "      <td>213</td>\n",
       "      <td>118</td>\n",
       "      <td>0</td>\n",
       "      <td>0</td>\n",
       "      <td>0</td>\n",
       "      <td>0</td>\n",
       "      <td>0</td>\n",
       "      <td>0</td>\n",
       "      <td>0</td>\n",
       "      <td>0</td>\n",
       "    </tr>\n",
       "    <tr>\n",
       "      <th>2577</th>\n",
       "      <td>1</td>\n",
       "      <td>0</td>\n",
       "      <td>1</td>\n",
       "      <td>26960</td>\n",
       "      <td>540</td>\n",
       "      <td>101</td>\n",
       "      <td>112</td>\n",
       "      <td>0</td>\n",
       "      <td>0</td>\n",
       "      <td>0</td>\n",
       "      <td>0</td>\n",
       "      <td>0</td>\n",
       "      <td>0</td>\n",
       "      <td>0</td>\n",
       "      <td>0</td>\n",
       "    </tr>\n",
       "    <tr>\n",
       "      <th>2578</th>\n",
       "      <td>0</td>\n",
       "      <td>0</td>\n",
       "      <td>1</td>\n",
       "      <td>12750</td>\n",
       "      <td>235</td>\n",
       "      <td>-10</td>\n",
       "      <td>-10</td>\n",
       "      <td>0</td>\n",
       "      <td>0</td>\n",
       "      <td>0</td>\n",
       "      <td>0</td>\n",
       "      <td>0</td>\n",
       "      <td>0</td>\n",
       "      <td>0</td>\n",
       "      <td>0</td>\n",
       "    </tr>\n",
       "  </tbody>\n",
       "</table>\n",
       "<p>2579 rows × 15 columns</p>\n",
       "</div>"
      ],
      "text/plain": [
       "     seismic seismoacoustic shift  genergy  gpuls  gdenergy  gdpuls hazard  \\\n",
       "0          0              0     0    15180     48       -72     -72      0   \n",
       "1          0              0     0    14720     33       -70     -79      0   \n",
       "2          0              0     0     8050     30       -81     -78      0   \n",
       "3          0              0     0    28820    171       -23      40      0   \n",
       "4          0              0     0    12640     57       -63     -52      0   \n",
       "...      ...            ...   ...      ...    ...       ...     ...    ...   \n",
       "2574       1              0     1    28910    307       115      20      0   \n",
       "2575       1              0     1    81410    785       432     151      1   \n",
       "2576       1              0     1    42110    555       213     118      0   \n",
       "2577       1              0     1    26960    540       101     112      0   \n",
       "2578       0              0     1    12750    235       -10     -10      0   \n",
       "\n",
       "     nbumps nbumps2 nbumps3 nbumps4 nbumps5  energy  maxenergy  \n",
       "0         0       0       0       0       0       0          0  \n",
       "1         1       0       1       0       0    2000       2000  \n",
       "2         0       0       0       0       0       0          0  \n",
       "3         1       0       1       0       0    3000       3000  \n",
       "4         0       0       0       0       0       0          0  \n",
       "...     ...     ...     ...     ...     ...     ...        ...  \n",
       "2574      0       0       0       0       0       0          0  \n",
       "2575      0       0       0       0       0       0          0  \n",
       "2576      0       0       0       0       0       0          0  \n",
       "2577      0       0       0       0       0       0          0  \n",
       "2578      0       0       0       0       0       0          0  \n",
       "\n",
       "[2579 rows x 15 columns]"
      ]
     },
     "execution_count": 424,
     "metadata": {},
     "output_type": "execute_result"
    }
   ],
   "source": [
    "X = data_train_test.drop(columns='class', axis=1)\n",
    "y = data_train_test['class']\n",
    "X"
   ]
  },
  {
   "cell_type": "code",
   "execution_count": 425,
   "metadata": {},
   "outputs": [
    {
     "name": "stdout",
     "output_type": "stream",
     "text": [
      "Train size:  (1934, 16)\n",
      "Test size:  (645, 16)\n"
     ]
    }
   ],
   "source": [
    "train, test = train_test_split(data_train_test, stratify=y, test_size=0.25, random_state=42)\n",
    "\n",
    "print('Train size: ', train.shape)\n",
    "print('Test size: ', test.shape)"
   ]
  },
  {
   "cell_type": "markdown",
   "metadata": {},
   "source": [
    "## V.4. Feature Selection"
   ]
  },
  {
   "cell_type": "markdown",
   "metadata": {},
   "source": [
    "### V.4.a. Korelasi Kolom Numerikal"
   ]
  },
  {
   "cell_type": "code",
   "execution_count": 426,
   "metadata": {},
   "outputs": [
    {
     "data": {
      "image/png": "[encoded data removed]",
      "text/plain": [
       "<Figure size 1008x1008 with 2 Axes>"
      ]
     },
     "metadata": {
      "needs_background": "light"
     },
     "output_type": "display_data"
    }
   ],
   "source": [
    "plt.figure(figsize=(14,14))\n",
    "sns.heatmap(train.corr(), vmin=0, vmax=1, annot=True, cmap='Blues');"
   ]
  },
  {
   "cell_type": "markdown",
   "metadata": {},
   "source": [
    "### V.4.b. Korelasi Kolom Kategorikal"
   ]
  },
  {
   "cell_type": "code",
   "execution_count": 427,
   "metadata": {},
   "outputs": [
    {
     "data": {
      "text/plain": [
       "nbumps            273.662165\n",
       "nbumps3           141.972609\n",
       "nbumps2           125.663544\n",
       "shift              10.671143\n",
       "seismic             8.278329\n",
       "nbumps4             7.989644\n",
       "hazard              1.544010\n",
       "nbumps5             0.302934\n",
       "seismoacoustic      0.004231\n",
       "dtype: float64"
      ]
     },
     "execution_count": 427,
     "metadata": {},
     "output_type": "execute_result"
    }
   ],
   "source": [
    "cat_cols = train.select_dtypes(include=['object']).columns.to_list()\n",
    "cat_chi2 = train[cat_cols]\n",
    "\n",
    "cat_corr = SelectKBest(score_func=chi2, k=4)\n",
    "cat_corr.fit(cat_chi2, train['class'])\n",
    "cat_corr.scores_\n",
    "np.round(cat_corr.scores_)\n",
    "\n",
    "chi = pd.Series(cat_corr.scores_)\n",
    "chi.index = cat_chi2.columns\n",
    "chi.sort_values(ascending=False)"
   ]
  },
  {
   "cell_type": "markdown",
   "metadata": {},
   "source": [
    "Fitur yang akan digunakan pada proses pembuatan model dipilih berdasarkan nilai korelasi untuk kolom numerik dan perhitungan chi-square untuk kolom kategorikal. Kolom-kolom dengan nilai korelasi atau chi-square yang rendah akan dihapus karena tidak digunakan, kolom-kolom tersebut adalah gdenergy, gdpuls, energy, maxenergy, seismoacoustic dan nbumps5."
   ]
  },
  {
   "cell_type": "code",
   "execution_count": 428,
   "metadata": {},
   "outputs": [
    {
     "data": {
      "text/html": [
       "<div>\n",
       "<style scoped>\n",
       "    .dataframe tbody tr th:only-of-type {\n",
       "        vertical-align: middle;\n",
       "    }\n",
       "\n",
       "    .dataframe tbody tr th {\n",
       "        vertical-align: top;\n",
       "    }\n",
       "\n",
       "    .dataframe thead th {\n",
       "        text-align: right;\n",
       "    }\n",
       "</style>\n",
       "<table border=\"1\" class=\"dataframe\">\n",
       "  <thead>\n",
       "    <tr style=\"text-align: right;\">\n",
       "      <th></th>\n",
       "      <th>seismic</th>\n",
       "      <th>shift</th>\n",
       "      <th>genergy</th>\n",
       "      <th>gpuls</th>\n",
       "      <th>hazard</th>\n",
       "      <th>nbumps</th>\n",
       "      <th>nbumps2</th>\n",
       "      <th>nbumps3</th>\n",
       "      <th>nbumps4</th>\n",
       "      <th>class</th>\n",
       "    </tr>\n",
       "  </thead>\n",
       "  <tbody>\n",
       "    <tr>\n",
       "      <th>1048</th>\n",
       "      <td>0</td>\n",
       "      <td>0</td>\n",
       "      <td>1620</td>\n",
       "      <td>11</td>\n",
       "      <td>0</td>\n",
       "      <td>0</td>\n",
       "      <td>0</td>\n",
       "      <td>0</td>\n",
       "      <td>0</td>\n",
       "      <td>0</td>\n",
       "    </tr>\n",
       "    <tr>\n",
       "      <th>622</th>\n",
       "      <td>0</td>\n",
       "      <td>1</td>\n",
       "      <td>45350</td>\n",
       "      <td>469</td>\n",
       "      <td>0</td>\n",
       "      <td>4</td>\n",
       "      <td>1</td>\n",
       "      <td>3</td>\n",
       "      <td>0</td>\n",
       "      <td>0</td>\n",
       "    </tr>\n",
       "    <tr>\n",
       "      <th>729</th>\n",
       "      <td>0</td>\n",
       "      <td>0</td>\n",
       "      <td>4610</td>\n",
       "      <td>78</td>\n",
       "      <td>0</td>\n",
       "      <td>0</td>\n",
       "      <td>0</td>\n",
       "      <td>0</td>\n",
       "      <td>0</td>\n",
       "      <td>0</td>\n",
       "    </tr>\n",
       "    <tr>\n",
       "      <th>1689</th>\n",
       "      <td>0</td>\n",
       "      <td>0</td>\n",
       "      <td>135210</td>\n",
       "      <td>3261</td>\n",
       "      <td>1</td>\n",
       "      <td>2</td>\n",
       "      <td>0</td>\n",
       "      <td>1</td>\n",
       "      <td>0</td>\n",
       "      <td>0</td>\n",
       "    </tr>\n",
       "    <tr>\n",
       "      <th>456</th>\n",
       "      <td>0</td>\n",
       "      <td>0</td>\n",
       "      <td>6530</td>\n",
       "      <td>38</td>\n",
       "      <td>0</td>\n",
       "      <td>1</td>\n",
       "      <td>1</td>\n",
       "      <td>0</td>\n",
       "      <td>0</td>\n",
       "      <td>0</td>\n",
       "    </tr>\n",
       "    <tr>\n",
       "      <th>...</th>\n",
       "      <td>...</td>\n",
       "      <td>...</td>\n",
       "      <td>...</td>\n",
       "      <td>...</td>\n",
       "      <td>...</td>\n",
       "      <td>...</td>\n",
       "      <td>...</td>\n",
       "      <td>...</td>\n",
       "      <td>...</td>\n",
       "      <td>...</td>\n",
       "    </tr>\n",
       "    <tr>\n",
       "      <th>1422</th>\n",
       "      <td>0</td>\n",
       "      <td>0</td>\n",
       "      <td>5030</td>\n",
       "      <td>125</td>\n",
       "      <td>0</td>\n",
       "      <td>0</td>\n",
       "      <td>0</td>\n",
       "      <td>0</td>\n",
       "      <td>0</td>\n",
       "      <td>0</td>\n",
       "    </tr>\n",
       "    <tr>\n",
       "      <th>989</th>\n",
       "      <td>0</td>\n",
       "      <td>0</td>\n",
       "      <td>1160</td>\n",
       "      <td>20</td>\n",
       "      <td>0</td>\n",
       "      <td>0</td>\n",
       "      <td>0</td>\n",
       "      <td>0</td>\n",
       "      <td>0</td>\n",
       "      <td>0</td>\n",
       "    </tr>\n",
       "    <tr>\n",
       "      <th>1583</th>\n",
       "      <td>0</td>\n",
       "      <td>0</td>\n",
       "      <td>17390</td>\n",
       "      <td>720</td>\n",
       "      <td>0</td>\n",
       "      <td>0</td>\n",
       "      <td>0</td>\n",
       "      <td>0</td>\n",
       "      <td>0</td>\n",
       "      <td>0</td>\n",
       "    </tr>\n",
       "    <tr>\n",
       "      <th>2154</th>\n",
       "      <td>1</td>\n",
       "      <td>1</td>\n",
       "      <td>10220</td>\n",
       "      <td>408</td>\n",
       "      <td>0</td>\n",
       "      <td>0</td>\n",
       "      <td>0</td>\n",
       "      <td>0</td>\n",
       "      <td>0</td>\n",
       "      <td>0</td>\n",
       "    </tr>\n",
       "    <tr>\n",
       "      <th>2245</th>\n",
       "      <td>1</td>\n",
       "      <td>1</td>\n",
       "      <td>59360</td>\n",
       "      <td>1033</td>\n",
       "      <td>0</td>\n",
       "      <td>2</td>\n",
       "      <td>1</td>\n",
       "      <td>1</td>\n",
       "      <td>0</td>\n",
       "      <td>1</td>\n",
       "    </tr>\n",
       "  </tbody>\n",
       "</table>\n",
       "<p>1934 rows × 10 columns</p>\n",
       "</div>"
      ],
      "text/plain": [
       "     seismic shift  genergy  gpuls hazard nbumps nbumps2 nbumps3 nbumps4  \\\n",
       "1048       0     0     1620     11      0      0       0       0       0   \n",
       "622        0     1    45350    469      0      4       1       3       0   \n",
       "729        0     0     4610     78      0      0       0       0       0   \n",
       "1689       0     0   135210   3261      1      2       0       1       0   \n",
       "456        0     0     6530     38      0      1       1       0       0   \n",
       "...      ...   ...      ...    ...    ...    ...     ...     ...     ...   \n",
       "1422       0     0     5030    125      0      0       0       0       0   \n",
       "989        0     0     1160     20      0      0       0       0       0   \n",
       "1583       0     0    17390    720      0      0       0       0       0   \n",
       "2154       1     1    10220    408      0      0       0       0       0   \n",
       "2245       1     1    59360   1033      0      2       1       1       0   \n",
       "\n",
       "      class  \n",
       "1048      0  \n",
       "622       0  \n",
       "729       0  \n",
       "1689      0  \n",
       "456       0  \n",
       "...     ...  \n",
       "1422      0  \n",
       "989       0  \n",
       "1583      0  \n",
       "2154      0  \n",
       "2245      1  \n",
       "\n",
       "[1934 rows x 10 columns]"
      ]
     },
     "execution_count": 428,
     "metadata": {},
     "output_type": "execute_result"
    }
   ],
   "source": [
    "train.drop(columns=['gdenergy', 'gdpuls', 'energy', 'maxenergy', 'seismoacoustic', 'nbumps5'], inplace=True)\n",
    "test.drop(columns=['gdenergy', 'gdpuls', 'energy', 'maxenergy', 'seismoacoustic', 'nbumps5'], inplace=True)\n",
    "train"
   ]
  },
  {
   "cell_type": "markdown",
   "metadata": {},
   "source": [
    "## V.5. Handling Outliers\n",
    "\n",
    "Dari feature yang sudah terpilih diatas, kita masih memiliki 2 kolom dengan tipe numerik, sehingga perlu dilakukan pengecekan dan handling outlier terlebih dahulu pada data train."
   ]
  },
  {
   "cell_type": "code",
   "execution_count": 429,
   "metadata": {},
   "outputs": [],
   "source": [
    "# fungsi untuk menampilkan histogram dan boxplot\n",
    "\n",
    "def diagnostic_plots(data, feature):\n",
    "    plt.figure(figsize=(16,4))\n",
    "\n",
    "    plt.subplot(1, 2, 1)\n",
    "    sns.histplot(data[feature])\n",
    "    plt.title('Histogram')\n",
    "\n",
    "    plt.subplot(1, 2, 2)\n",
    "    sns.boxplot(y=data[feature])\n",
    "    plt.title('Boxplot')\n",
    "\n",
    "    plt.show()"
   ]
  },
  {
   "cell_type": "code",
   "execution_count": 430,
   "metadata": {},
   "outputs": [
    {
     "data": {
      "image/png": "[encoded data removed]",
      "text/plain": [
       "<Figure size 1152x288 with 2 Axes>"
      ]
     },
     "metadata": {
      "needs_background": "light"
     },
     "output_type": "display_data"
    },
    {
     "name": "stdout",
     "output_type": "stream",
     "text": [
      "\n",
      "Nilai Skewness:  4.7863065031439\n"
     ]
    }
   ],
   "source": [
    "diagnostic_plots(train, 'genergy')\n",
    "print('\\nNilai Skewness: ', train['genergy'].skew())"
   ]
  },
  {
   "cell_type": "markdown",
   "metadata": {},
   "source": [
    "Distribusi data kolom genergy ini termasuk extreme skew dengan nilai skewness sebesar 4.8 dan juga ditemukan adanya outliers. Untuk handling outliernya nanti akan digunakan metode Tukey's Rule dengan konstanta 3."
   ]
  },
  {
   "cell_type": "code",
   "execution_count": 431,
   "metadata": {},
   "outputs": [
    {
     "data": {
      "image/png": "[encoded data removed]",
      "text/plain": [
       "<Figure size 1152x288 with 2 Axes>"
      ]
     },
     "metadata": {
      "needs_background": "light"
     },
     "output_type": "display_data"
    },
    {
     "name": "stdout",
     "output_type": "stream",
     "text": [
      "\n",
      "Nilai Skewness:  2.3642059837814684\n"
     ]
    }
   ],
   "source": [
    "diagnostic_plots(train, 'gpuls')\n",
    "print('\\nNilai Skewness: ', train['gpuls'].skew())"
   ]
  },
  {
   "cell_type": "markdown",
   "metadata": {},
   "source": [
    "Distribusi data kolom gpuls ini termasuk extreme skew dengan nilai skewness sebesar 2.4 dan juga ditemukan adanya outliers. Untuk handling outliernya nanti akan digunakan metode Tukey's Rule dengan konstanta 3."
   ]
  },
  {
   "cell_type": "code",
   "execution_count": 432,
   "metadata": {},
   "outputs": [],
   "source": [
    "# fungsi untuk mencari batas atas dan bawah untuk outliers\n",
    "\n",
    "def find_skew_bound(data, feature, cons):\n",
    "    IQR = data[feature].quantile(0.75) - data[feature].quantile(0.25)\n",
    "\n",
    "    skew_lower_bound = data[feature].quantile(0.25) - (IQR * cons)\n",
    "    skew_upper_bound = data[feature].quantile(0.75) + (IQR * cons)\n",
    "\n",
    "    return skew_lower_bound, skew_upper_bound"
   ]
  },
  {
   "cell_type": "code",
   "execution_count": 433,
   "metadata": {},
   "outputs": [
    {
     "name": "stdout",
     "output_type": "stream",
     "text": [
      "Batas bawah genergy: -113570.0\n",
      "Batas atas genergy: 179905.0\n",
      "\n",
      "Outliers bawah genergy : 0\n",
      "Outliers atas genergy : 198\n"
     ]
    }
   ],
   "source": [
    "skew_lower_bound, skew_upper_bound = find_skew_bound(train, 'genergy', 3)\n",
    "skew_lower_bound, skew_upper_bound\n",
    "\n",
    "print('Batas bawah genergy:',skew_lower_bound)\n",
    "print('Batas atas genergy:',skew_upper_bound)\n",
    "print('')\n",
    "print('Outliers bawah genergy : {}'.format(len(train[train['genergy'] < skew_lower_bound])))\n",
    "print('Outliers atas genergy : {}'.format(len(train[train['genergy'] > skew_upper_bound])))"
   ]
  },
  {
   "cell_type": "code",
   "execution_count": 434,
   "metadata": {},
   "outputs": [
    {
     "name": "stdout",
     "output_type": "stream",
     "text": [
      "Batas bawah gpuls: -1245.0\n",
      "Batas atas gpuls: 2120.25\n",
      "\n",
      "Outliers bawah gpuls : 0\n",
      "Outliers atas gpuls : 50\n"
     ]
    }
   ],
   "source": [
    "skew_lower_bound, skew_upper_bound = find_skew_bound(train, 'gpuls', 3)\n",
    "skew_lower_bound, skew_upper_bound\n",
    "\n",
    "print('Batas bawah gpuls:',skew_lower_bound)\n",
    "print('Batas atas gpuls:',skew_upper_bound)\n",
    "print('')\n",
    "print('Outliers bawah gpuls : {}'.format(len(train[train['gpuls'] < skew_lower_bound])))\n",
    "print('Outliers atas gpuls : {}'.format(len(train[train['gpuls'] > skew_upper_bound])))"
   ]
  },
  {
   "cell_type": "code",
   "execution_count": 435,
   "metadata": {},
   "outputs": [],
   "source": [
    "capper = Winsorizer(capping_method='iqr', tail='both', fold=3, variables=['genergy', 'gpuls'])\n",
    "capper.fit(train)\n",
    "\n",
    "train_clean = capper.transform(train)\n",
    "test_clean = capper.transform(test)"
   ]
  },
  {
   "cell_type": "code",
   "execution_count": 436,
   "metadata": {},
   "outputs": [
    {
     "name": "stdout",
     "output_type": "stream",
     "text": [
      "train - Sebelum Capping\n",
      "            genergy        gpuls\n",
      "count  1.934000e+03  1934.000000\n",
      "mean   9.387403e+04   546.175801\n",
      "std    2.325839e+05   563.930053\n",
      "min    1.000000e+02     2.000000\n",
      "25%    1.220500e+04   197.250000\n",
      "50%    2.580500e+04   383.000000\n",
      "75%    5.413000e+04   678.000000\n",
      "max    2.196220e+06  4014.000000\n",
      "\n",
      "train - Setelah Capping\n",
      "             genergy        gpuls\n",
      "count    1934.000000  1934.000000\n",
      "mean    47259.095140   528.964064\n",
      "std     53846.921546   495.493632\n",
      "min       100.000000     2.000000\n",
      "25%     12205.000000   197.250000\n",
      "50%     25805.000000   383.000000\n",
      "75%     54130.000000   678.000000\n",
      "max    179905.000000  2120.250000\n"
     ]
    }
   ],
   "source": [
    "print('train - Sebelum Capping')\n",
    "print(train[['genergy', 'gpuls']].describe())\n",
    "print('')\n",
    "print('train - Setelah Capping')\n",
    "print(train_clean[['genergy', 'gpuls']].describe())"
   ]
  },
  {
   "cell_type": "markdown",
   "metadata": {},
   "source": [
    "Outliers pada kolom genergy dan gpuls sudah berhasil dihandling dengan menggunakan winsorizer, dapat dilihat dari perubahan nilai max sebelum dan sesudah handling."
   ]
  },
  {
   "cell_type": "code",
   "execution_count": 437,
   "metadata": {},
   "outputs": [],
   "source": [
    "X_train = train_clean.drop(columns='class')\n",
    "y_train = train_clean['class']\n",
    "\n",
    "X_test = test_clean.drop(columns='class')\n",
    "y_test = test_clean['class']"
   ]
  },
  {
   "cell_type": "markdown",
   "metadata": {},
   "source": [
    "## V.6. Pemisahan Kolom Kategorikal dan Numerikal\n",
    "\n",
    "Dilakukan pemisahan kolom berdasarkan tipe kolomnya. Hal ini dilakukan karena tiap jenis kolom akan berbeda perlakuan/treatment yang dilakukan nantinya. Untuk kolom numerikal dilakukan feature scaling dan untuk kolom kategorikal dilakukan feature encoding."
   ]
  },
  {
   "cell_type": "code",
   "execution_count": 438,
   "metadata": {},
   "outputs": [
    {
     "name": "stdout",
     "output_type": "stream",
     "text": [
      "Kolom numerikal: ['genergy', 'gpuls']\n",
      "Kolom kategorikal: ['seismic', 'shift', 'hazard', 'nbumps', 'nbumps2', 'nbumps3', 'nbumps4']\n"
     ]
    }
   ],
   "source": [
    "num_columns = X_train.select_dtypes(include=np.number).columns.to_list()\n",
    "cat_columns = X_train.select_dtypes(include=['object']).columns.to_list()\n",
    "\n",
    "print('Kolom numerikal:', num_columns)\n",
    "print('Kolom kategorikal:', cat_columns)"
   ]
  },
  {
   "cell_type": "code",
   "execution_count": 439,
   "metadata": {},
   "outputs": [],
   "source": [
    "X_train_num = X_train[num_columns]\n",
    "X_train_cat = X_train[cat_columns]\n",
    "\n",
    "X_test_num = X_test[num_columns]\n",
    "X_test_cat = X_test[cat_columns]"
   ]
  },
  {
   "cell_type": "markdown",
   "metadata": {},
   "source": [
    "## V.7. Feature Scaling\n",
    "\n",
    "Dilakukan untuk kolom/feature dengan tipe numerikal. Tujuannya untuk menyamakan/menyeragamkan range masing-masing featurenya, agar model lebih mudah dalam mempelajari pola/pattern dari feature ini."
   ]
  },
  {
   "cell_type": "code",
   "execution_count": 440,
   "metadata": {},
   "outputs": [
    {
     "data": {
      "text/html": [
       "<div>\n",
       "<style scoped>\n",
       "    .dataframe tbody tr th:only-of-type {\n",
       "        vertical-align: middle;\n",
       "    }\n",
       "\n",
       "    .dataframe tbody tr th {\n",
       "        vertical-align: top;\n",
       "    }\n",
       "\n",
       "    .dataframe thead th {\n",
       "        text-align: right;\n",
       "    }\n",
       "</style>\n",
       "<table border=\"1\" class=\"dataframe\">\n",
       "  <thead>\n",
       "    <tr style=\"text-align: right;\">\n",
       "      <th></th>\n",
       "      <th>genergy</th>\n",
       "      <th>gpuls</th>\n",
       "    </tr>\n",
       "  </thead>\n",
       "  <tbody>\n",
       "    <tr>\n",
       "      <th>1048</th>\n",
       "      <td>1620.0</td>\n",
       "      <td>11.00</td>\n",
       "    </tr>\n",
       "    <tr>\n",
       "      <th>622</th>\n",
       "      <td>45350.0</td>\n",
       "      <td>469.00</td>\n",
       "    </tr>\n",
       "    <tr>\n",
       "      <th>729</th>\n",
       "      <td>4610.0</td>\n",
       "      <td>78.00</td>\n",
       "    </tr>\n",
       "    <tr>\n",
       "      <th>1689</th>\n",
       "      <td>135210.0</td>\n",
       "      <td>2120.25</td>\n",
       "    </tr>\n",
       "    <tr>\n",
       "      <th>456</th>\n",
       "      <td>6530.0</td>\n",
       "      <td>38.00</td>\n",
       "    </tr>\n",
       "    <tr>\n",
       "      <th>...</th>\n",
       "      <td>...</td>\n",
       "      <td>...</td>\n",
       "    </tr>\n",
       "    <tr>\n",
       "      <th>1422</th>\n",
       "      <td>5030.0</td>\n",
       "      <td>125.00</td>\n",
       "    </tr>\n",
       "    <tr>\n",
       "      <th>989</th>\n",
       "      <td>1160.0</td>\n",
       "      <td>20.00</td>\n",
       "    </tr>\n",
       "    <tr>\n",
       "      <th>1583</th>\n",
       "      <td>17390.0</td>\n",
       "      <td>720.00</td>\n",
       "    </tr>\n",
       "    <tr>\n",
       "      <th>2154</th>\n",
       "      <td>10220.0</td>\n",
       "      <td>408.00</td>\n",
       "    </tr>\n",
       "    <tr>\n",
       "      <th>2245</th>\n",
       "      <td>59360.0</td>\n",
       "      <td>1033.00</td>\n",
       "    </tr>\n",
       "  </tbody>\n",
       "</table>\n",
       "<p>1934 rows × 2 columns</p>\n",
       "</div>"
      ],
      "text/plain": [
       "       genergy    gpuls\n",
       "1048    1620.0    11.00\n",
       "622    45350.0   469.00\n",
       "729     4610.0    78.00\n",
       "1689  135210.0  2120.25\n",
       "456     6530.0    38.00\n",
       "...        ...      ...\n",
       "1422    5030.0   125.00\n",
       "989     1160.0    20.00\n",
       "1583   17390.0   720.00\n",
       "2154   10220.0   408.00\n",
       "2245   59360.0  1033.00\n",
       "\n",
       "[1934 rows x 2 columns]"
      ]
     },
     "execution_count": 440,
     "metadata": {},
     "output_type": "execute_result"
    }
   ],
   "source": [
    "X_train_num"
   ]
  },
  {
   "cell_type": "code",
   "execution_count": 441,
   "metadata": {},
   "outputs": [
    {
     "data": {
      "text/plain": [
       "array([[0.0084536 , 0.00424879],\n",
       "       [0.25166152, 0.22046501],\n",
       "       [0.02508273, 0.03587867],\n",
       "       ...,\n",
       "       [0.09615973, 0.33895905],\n",
       "       [0.0562832 , 0.19166765],\n",
       "       [0.32957927, 0.48672253]])"
      ]
     },
     "execution_count": 441,
     "metadata": {},
     "output_type": "execute_result"
    }
   ],
   "source": [
    "scaler = MinMaxScaler()\n",
    "scaler.fit(X_train_num)\n",
    "\n",
    "X_train_num_scaled = scaler.transform(X_train_num)\n",
    "X_test_num_scaled = scaler.transform(X_test_num)\n",
    "\n",
    "X_train_num_scaled"
   ]
  },
  {
   "cell_type": "markdown",
   "metadata": {},
   "source": [
    "## V.8. Penggabungan Kembali Kolom Numerikal dengan Kategorikal\n",
    "\n",
    "Setelah masing-masing tipe kolom dilakukan treatment sesuai tipe kolomnya, maka selanjutnya kolom-kolom ini digabung kembali menjadi 1 dataframe seperti awal."
   ]
  },
  {
   "cell_type": "code",
   "execution_count": 442,
   "metadata": {},
   "outputs": [
    {
     "data": {
      "text/plain": [
       "array([[0.008453602513834433, 0.0042487902749911485, '0', ..., '0', '0',\n",
       "        '0'],\n",
       "       [0.2516615222046106, 0.22046500649120737, '0', ..., '1', '3', '0'],\n",
       "       [0.02508272851144295, 0.03587867343325859, '0', ..., '0', '0',\n",
       "        '0'],\n",
       "       ...,\n",
       "       [0.09615972859486666, 0.3389590463826272, '0', ..., '0', '0', '0'],\n",
       "       [0.05628319568421345, 0.19166765018293402, '1', ..., '0', '0',\n",
       "        '0'],\n",
       "       [0.3295792664275187, 0.48672253039065266, '1', ..., '1', '1', '0']],\n",
       "      dtype=object)"
      ]
     },
     "execution_count": 442,
     "metadata": {},
     "output_type": "execute_result"
    }
   ],
   "source": [
    "X_train_final = np.concatenate([X_train_num_scaled, X_train_cat], axis=1)\n",
    "X_test_final = np.concatenate([X_test_num_scaled, X_test_cat], axis=1)\n",
    "\n",
    "X_train_final"
   ]
  },
  {
   "cell_type": "code",
   "execution_count": 443,
   "metadata": {},
   "outputs": [
    {
     "data": {
      "text/html": [
       "<div>\n",
       "<style scoped>\n",
       "    .dataframe tbody tr th:only-of-type {\n",
       "        vertical-align: middle;\n",
       "    }\n",
       "\n",
       "    .dataframe tbody tr th {\n",
       "        vertical-align: top;\n",
       "    }\n",
       "\n",
       "    .dataframe thead th {\n",
       "        text-align: right;\n",
       "    }\n",
       "</style>\n",
       "<table border=\"1\" class=\"dataframe\">\n",
       "  <thead>\n",
       "    <tr style=\"text-align: right;\">\n",
       "      <th></th>\n",
       "      <th>0</th>\n",
       "      <th>1</th>\n",
       "      <th>2</th>\n",
       "      <th>3</th>\n",
       "      <th>4</th>\n",
       "      <th>5</th>\n",
       "      <th>6</th>\n",
       "      <th>7</th>\n",
       "      <th>8</th>\n",
       "    </tr>\n",
       "  </thead>\n",
       "  <tbody>\n",
       "    <tr>\n",
       "      <th>0</th>\n",
       "      <td>0.008454</td>\n",
       "      <td>0.004249</td>\n",
       "      <td>0</td>\n",
       "      <td>0</td>\n",
       "      <td>0</td>\n",
       "      <td>0</td>\n",
       "      <td>0</td>\n",
       "      <td>0</td>\n",
       "      <td>0</td>\n",
       "    </tr>\n",
       "    <tr>\n",
       "      <th>1</th>\n",
       "      <td>0.251662</td>\n",
       "      <td>0.220465</td>\n",
       "      <td>0</td>\n",
       "      <td>1</td>\n",
       "      <td>0</td>\n",
       "      <td>4</td>\n",
       "      <td>1</td>\n",
       "      <td>3</td>\n",
       "      <td>0</td>\n",
       "    </tr>\n",
       "    <tr>\n",
       "      <th>2</th>\n",
       "      <td>0.025083</td>\n",
       "      <td>0.035879</td>\n",
       "      <td>0</td>\n",
       "      <td>0</td>\n",
       "      <td>0</td>\n",
       "      <td>0</td>\n",
       "      <td>0</td>\n",
       "      <td>0</td>\n",
       "      <td>0</td>\n",
       "    </tr>\n",
       "    <tr>\n",
       "      <th>3</th>\n",
       "      <td>0.751425</td>\n",
       "      <td>1.0</td>\n",
       "      <td>0</td>\n",
       "      <td>0</td>\n",
       "      <td>1</td>\n",
       "      <td>2</td>\n",
       "      <td>0</td>\n",
       "      <td>1</td>\n",
       "      <td>0</td>\n",
       "    </tr>\n",
       "    <tr>\n",
       "      <th>4</th>\n",
       "      <td>0.035761</td>\n",
       "      <td>0.016995</td>\n",
       "      <td>0</td>\n",
       "      <td>0</td>\n",
       "      <td>0</td>\n",
       "      <td>1</td>\n",
       "      <td>1</td>\n",
       "      <td>0</td>\n",
       "      <td>0</td>\n",
       "    </tr>\n",
       "    <tr>\n",
       "      <th>...</th>\n",
       "      <td>...</td>\n",
       "      <td>...</td>\n",
       "      <td>...</td>\n",
       "      <td>...</td>\n",
       "      <td>...</td>\n",
       "      <td>...</td>\n",
       "      <td>...</td>\n",
       "      <td>...</td>\n",
       "      <td>...</td>\n",
       "    </tr>\n",
       "    <tr>\n",
       "      <th>1929</th>\n",
       "      <td>0.027419</td>\n",
       "      <td>0.058067</td>\n",
       "      <td>0</td>\n",
       "      <td>0</td>\n",
       "      <td>0</td>\n",
       "      <td>0</td>\n",
       "      <td>0</td>\n",
       "      <td>0</td>\n",
       "      <td>0</td>\n",
       "    </tr>\n",
       "    <tr>\n",
       "      <th>1930</th>\n",
       "      <td>0.005895</td>\n",
       "      <td>0.008498</td>\n",
       "      <td>0</td>\n",
       "      <td>0</td>\n",
       "      <td>0</td>\n",
       "      <td>0</td>\n",
       "      <td>0</td>\n",
       "      <td>0</td>\n",
       "      <td>0</td>\n",
       "    </tr>\n",
       "    <tr>\n",
       "      <th>1931</th>\n",
       "      <td>0.09616</td>\n",
       "      <td>0.338959</td>\n",
       "      <td>0</td>\n",
       "      <td>0</td>\n",
       "      <td>0</td>\n",
       "      <td>0</td>\n",
       "      <td>0</td>\n",
       "      <td>0</td>\n",
       "      <td>0</td>\n",
       "    </tr>\n",
       "    <tr>\n",
       "      <th>1932</th>\n",
       "      <td>0.056283</td>\n",
       "      <td>0.191668</td>\n",
       "      <td>1</td>\n",
       "      <td>1</td>\n",
       "      <td>0</td>\n",
       "      <td>0</td>\n",
       "      <td>0</td>\n",
       "      <td>0</td>\n",
       "      <td>0</td>\n",
       "    </tr>\n",
       "    <tr>\n",
       "      <th>1933</th>\n",
       "      <td>0.329579</td>\n",
       "      <td>0.486723</td>\n",
       "      <td>1</td>\n",
       "      <td>1</td>\n",
       "      <td>0</td>\n",
       "      <td>2</td>\n",
       "      <td>1</td>\n",
       "      <td>1</td>\n",
       "      <td>0</td>\n",
       "    </tr>\n",
       "  </tbody>\n",
       "</table>\n",
       "<p>1934 rows × 9 columns</p>\n",
       "</div>"
      ],
      "text/plain": [
       "             0         1  2  3  4  5  6  7  8\n",
       "0     0.008454  0.004249  0  0  0  0  0  0  0\n",
       "1     0.251662  0.220465  0  1  0  4  1  3  0\n",
       "2     0.025083  0.035879  0  0  0  0  0  0  0\n",
       "3     0.751425       1.0  0  0  1  2  0  1  0\n",
       "4     0.035761  0.016995  0  0  0  1  1  0  0\n",
       "...        ...       ... .. .. .. .. .. .. ..\n",
       "1929  0.027419  0.058067  0  0  0  0  0  0  0\n",
       "1930  0.005895  0.008498  0  0  0  0  0  0  0\n",
       "1931   0.09616  0.338959  0  0  0  0  0  0  0\n",
       "1932  0.056283  0.191668  1  1  0  0  0  0  0\n",
       "1933  0.329579  0.486723  1  1  0  2  1  1  0\n",
       "\n",
       "[1934 rows x 9 columns]"
      ]
     },
     "execution_count": 443,
     "metadata": {},
     "output_type": "execute_result"
    }
   ],
   "source": [
    "X_train_final_df = pd.DataFrame(X_train_final)\n",
    "X_train_final_df"
   ]
  },
  {
   "cell_type": "code",
   "execution_count": 444,
   "metadata": {},
   "outputs": [
    {
     "data": {
      "text/plain": [
       "1048    0\n",
       "622     0\n",
       "729     0\n",
       "1689    0\n",
       "456     0\n",
       "       ..\n",
       "1422    0\n",
       "989     0\n",
       "1583    0\n",
       "2154    0\n",
       "2245    1\n",
       "Name: class, Length: 1934, dtype: int64"
      ]
     },
     "execution_count": 444,
     "metadata": {},
     "output_type": "execute_result"
    }
   ],
   "source": [
    "y_train"
   ]
  },
  {
   "cell_type": "markdown",
   "metadata": {},
   "source": [
    "## V.9. Handling Imbalance\n",
    "\n",
    "Seperti yang diketahui dari proses EDA di atas bahwa kolom target yang dimiliki termasuk kedalam extreme imbalance dengan proporsi 93% dan 7%. Perlu dilakukan handling imbalance terlebih dahulu agar model bisa mempelajari data minoritas dengan lebih baik. "
   ]
  },
  {
   "cell_type": "code",
   "execution_count": 445,
   "metadata": {},
   "outputs": [
    {
     "data": {
      "text/plain": [
       "0    1807\n",
       "1    1807\n",
       "Name: class, dtype: int64"
      ]
     },
     "execution_count": 445,
     "metadata": {},
     "output_type": "execute_result"
    }
   ],
   "source": [
    "ros = RandomOverSampler(random_state = 42)\n",
    "X_train_balanced, y_train_balanced = ros.fit_resample(X_train_final, y_train)\n",
    "y_train_balanced.value_counts()"
   ]
  },
  {
   "cell_type": "code",
   "execution_count": 446,
   "metadata": {},
   "outputs": [
    {
     "data": {
      "text/html": [
       "<div>\n",
       "<style scoped>\n",
       "    .dataframe tbody tr th:only-of-type {\n",
       "        vertical-align: middle;\n",
       "    }\n",
       "\n",
       "    .dataframe tbody tr th {\n",
       "        vertical-align: top;\n",
       "    }\n",
       "\n",
       "    .dataframe thead th {\n",
       "        text-align: right;\n",
       "    }\n",
       "</style>\n",
       "<table border=\"1\" class=\"dataframe\">\n",
       "  <thead>\n",
       "    <tr style=\"text-align: right;\">\n",
       "      <th></th>\n",
       "      <th>0</th>\n",
       "      <th>1</th>\n",
       "      <th>2</th>\n",
       "      <th>3</th>\n",
       "      <th>4</th>\n",
       "      <th>5</th>\n",
       "      <th>6</th>\n",
       "      <th>7</th>\n",
       "      <th>8</th>\n",
       "    </tr>\n",
       "  </thead>\n",
       "  <tbody>\n",
       "    <tr>\n",
       "      <th>0</th>\n",
       "      <td>0.008454</td>\n",
       "      <td>0.004249</td>\n",
       "      <td>0</td>\n",
       "      <td>0</td>\n",
       "      <td>0</td>\n",
       "      <td>0</td>\n",
       "      <td>0</td>\n",
       "      <td>0</td>\n",
       "      <td>0</td>\n",
       "    </tr>\n",
       "    <tr>\n",
       "      <th>1</th>\n",
       "      <td>0.251662</td>\n",
       "      <td>0.220465</td>\n",
       "      <td>0</td>\n",
       "      <td>1</td>\n",
       "      <td>0</td>\n",
       "      <td>4</td>\n",
       "      <td>1</td>\n",
       "      <td>3</td>\n",
       "      <td>0</td>\n",
       "    </tr>\n",
       "    <tr>\n",
       "      <th>2</th>\n",
       "      <td>0.025083</td>\n",
       "      <td>0.035879</td>\n",
       "      <td>0</td>\n",
       "      <td>0</td>\n",
       "      <td>0</td>\n",
       "      <td>0</td>\n",
       "      <td>0</td>\n",
       "      <td>0</td>\n",
       "      <td>0</td>\n",
       "    </tr>\n",
       "    <tr>\n",
       "      <th>3</th>\n",
       "      <td>0.751425</td>\n",
       "      <td>1.0</td>\n",
       "      <td>0</td>\n",
       "      <td>0</td>\n",
       "      <td>1</td>\n",
       "      <td>2</td>\n",
       "      <td>0</td>\n",
       "      <td>1</td>\n",
       "      <td>0</td>\n",
       "    </tr>\n",
       "    <tr>\n",
       "      <th>4</th>\n",
       "      <td>0.035761</td>\n",
       "      <td>0.016995</td>\n",
       "      <td>0</td>\n",
       "      <td>0</td>\n",
       "      <td>0</td>\n",
       "      <td>1</td>\n",
       "      <td>1</td>\n",
       "      <td>0</td>\n",
       "      <td>0</td>\n",
       "    </tr>\n",
       "    <tr>\n",
       "      <th>...</th>\n",
       "      <td>...</td>\n",
       "      <td>...</td>\n",
       "      <td>...</td>\n",
       "      <td>...</td>\n",
       "      <td>...</td>\n",
       "      <td>...</td>\n",
       "      <td>...</td>\n",
       "      <td>...</td>\n",
       "      <td>...</td>\n",
       "    </tr>\n",
       "    <tr>\n",
       "      <th>3609</th>\n",
       "      <td>1.0</td>\n",
       "      <td>1.0</td>\n",
       "      <td>1</td>\n",
       "      <td>1</td>\n",
       "      <td>0</td>\n",
       "      <td>3</td>\n",
       "      <td>1</td>\n",
       "      <td>1</td>\n",
       "      <td>1</td>\n",
       "    </tr>\n",
       "    <tr>\n",
       "      <th>3610</th>\n",
       "      <td>0.332249</td>\n",
       "      <td>0.327629</td>\n",
       "      <td>0</td>\n",
       "      <td>1</td>\n",
       "      <td>0</td>\n",
       "      <td>2</td>\n",
       "      <td>1</td>\n",
       "      <td>1</td>\n",
       "      <td>0</td>\n",
       "    </tr>\n",
       "    <tr>\n",
       "      <th>3611</th>\n",
       "      <td>0.284364</td>\n",
       "      <td>0.444707</td>\n",
       "      <td>1</td>\n",
       "      <td>1</td>\n",
       "      <td>0</td>\n",
       "      <td>2</td>\n",
       "      <td>0</td>\n",
       "      <td>2</td>\n",
       "      <td>0</td>\n",
       "    </tr>\n",
       "    <tr>\n",
       "      <th>3612</th>\n",
       "      <td>0.115458</td>\n",
       "      <td>0.220937</td>\n",
       "      <td>1</td>\n",
       "      <td>1</td>\n",
       "      <td>0</td>\n",
       "      <td>0</td>\n",
       "      <td>0</td>\n",
       "      <td>0</td>\n",
       "      <td>0</td>\n",
       "    </tr>\n",
       "    <tr>\n",
       "      <th>3613</th>\n",
       "      <td>0.114902</td>\n",
       "      <td>0.152012</td>\n",
       "      <td>0</td>\n",
       "      <td>1</td>\n",
       "      <td>0</td>\n",
       "      <td>1</td>\n",
       "      <td>1</td>\n",
       "      <td>0</td>\n",
       "      <td>0</td>\n",
       "    </tr>\n",
       "  </tbody>\n",
       "</table>\n",
       "<p>3614 rows × 9 columns</p>\n",
       "</div>"
      ],
      "text/plain": [
       "             0         1  2  3  4  5  6  7  8\n",
       "0     0.008454  0.004249  0  0  0  0  0  0  0\n",
       "1     0.251662  0.220465  0  1  0  4  1  3  0\n",
       "2     0.025083  0.035879  0  0  0  0  0  0  0\n",
       "3     0.751425       1.0  0  0  1  2  0  1  0\n",
       "4     0.035761  0.016995  0  0  0  1  1  0  0\n",
       "...        ...       ... .. .. .. .. .. .. ..\n",
       "3609       1.0       1.0  1  1  0  3  1  1  1\n",
       "3610  0.332249  0.327629  0  1  0  2  1  1  0\n",
       "3611  0.284364  0.444707  1  1  0  2  0  2  0\n",
       "3612  0.115458  0.220937  1  1  0  0  0  0  0\n",
       "3613  0.114902  0.152012  0  1  0  1  1  0  0\n",
       "\n",
       "[3614 rows x 9 columns]"
      ]
     },
     "execution_count": 446,
     "metadata": {},
     "output_type": "execute_result"
    }
   ],
   "source": [
    "X_train_balanced_df = pd.DataFrame(X_train_balanced)\n",
    "X_train_balanced_df"
   ]
  },
  {
   "cell_type": "markdown",
   "metadata": {},
   "source": [
    "# **VI. MODELLING**\n",
    "\n",
    "Pada bagian ini, penulis akan mencoba membuat beberapa model untuk melihat model mana yang memiliki performa terbaik untuk data ini. Model yang dibuat adalah Logistic Regression, Support Vector Machine, Random Forest, dan Gradient Boosting."
   ]
  },
  {
   "cell_type": "markdown",
   "metadata": {},
   "source": [
    "## VI.1. LOGISTIC REGRESSION"
   ]
  },
  {
   "cell_type": "markdown",
   "metadata": {},
   "source": [
    "### VI.1.a. MODEL DEFINITION\n",
    "\n",
    "Untuk pembuatan model awal ini digunakan hyperparameter default."
   ]
  },
  {
   "cell_type": "code",
   "execution_count": 447,
   "metadata": {},
   "outputs": [],
   "source": [
    "log_model = LogisticRegression(random_state=42)"
   ]
  },
  {
   "cell_type": "markdown",
   "metadata": {},
   "source": [
    "### VI.1.b. MODEL TRAINING"
   ]
  },
  {
   "cell_type": "code",
   "execution_count": 448,
   "metadata": {},
   "outputs": [
    {
     "data": {
      "text/html": [
       "<style>#sk-container-id-45 {color: black;background-color: white;}#sk-container-id-45 pre{padding: 0;}#sk-container-id-45 div.sk-toggleable {background-color: white;}#sk-container-id-45 label.sk-toggleable__label {cursor: pointer;display: block;width: 100%;margin-bottom: 0;padding: 0.3em;box-sizing: border-box;text-align: center;}#sk-container-id-45 label.sk-toggleable__label-arrow:before {content: \"▸\";float: left;margin-right: 0.25em;color: #696969;}#sk-container-id-45 label.sk-toggleable__label-arrow:hover:before {color: black;}#sk-container-id-45 div.sk-estimator:hover label.sk-toggleable__label-arrow:before {color: black;}#sk-container-id-45 div.sk-toggleable__content {max-height: 0;max-width: 0;overflow: hidden;text-align: left;background-color: #f0f8ff;}#sk-container-id-45 div.sk-toggleable__content pre {margin: 0.2em;color: black;border-radius: 0.25em;background-color: #f0f8ff;}#sk-container-id-45 input.sk-toggleable__control:checked~div.sk-toggleable__content {max-height: 200px;max-width: 100%;overflow: auto;}#sk-container-id-45 input.sk-toggleable__control:checked~label.sk-toggleable__label-arrow:before {content: \"▾\";}#sk-container-id-45 div.sk-estimator input.sk-toggleable__control:checked~label.sk-toggleable__label {background-color: #d4ebff;}#sk-container-id-45 div.sk-label input.sk-toggleable__control:checked~label.sk-toggleable__label {background-color: #d4ebff;}#sk-container-id-45 input.sk-hidden--visually {border: 0;clip: rect(1px 1px 1px 1px);clip: rect(1px, 1px, 1px, 1px);height: 1px;margin: -1px;overflow: hidden;padding: 0;position: absolute;width: 1px;}#sk-container-id-45 div.sk-estimator {font-family: monospace;background-color: #f0f8ff;border: 1px dotted black;border-radius: 0.25em;box-sizing: border-box;margin-bottom: 0.5em;}#sk-container-id-45 div.sk-estimator:hover {background-color: #d4ebff;}#sk-container-id-45 div.sk-parallel-item::after {content: \"\";width: 100%;border-bottom: 1px solid gray;flex-grow: 1;}#sk-container-id-45 div.sk-label:hover label.sk-toggleable__label {background-color: #d4ebff;}#sk-container-id-45 div.sk-serial::before {content: \"\";position: absolute;border-left: 1px solid gray;box-sizing: border-box;top: 0;bottom: 0;left: 50%;z-index: 0;}#sk-container-id-45 div.sk-serial {display: flex;flex-direction: column;align-items: center;background-color: white;padding-right: 0.2em;padding-left: 0.2em;position: relative;}#sk-container-id-45 div.sk-item {position: relative;z-index: 1;}#sk-container-id-45 div.sk-parallel {display: flex;align-items: stretch;justify-content: center;background-color: white;position: relative;}#sk-container-id-45 div.sk-item::before, #sk-container-id-45 div.sk-parallel-item::before {content: \"\";position: absolute;border-left: 1px solid gray;box-sizing: border-box;top: 0;bottom: 0;left: 50%;z-index: -1;}#sk-container-id-45 div.sk-parallel-item {display: flex;flex-direction: column;z-index: 1;position: relative;background-color: white;}#sk-container-id-45 div.sk-parallel-item:first-child::after {align-self: flex-end;width: 50%;}#sk-container-id-45 div.sk-parallel-item:last-child::after {align-self: flex-start;width: 50%;}#sk-container-id-45 div.sk-parallel-item:only-child::after {width: 0;}#sk-container-id-45 div.sk-dashed-wrapped {border: 1px dashed gray;margin: 0 0.4em 0.5em 0.4em;box-sizing: border-box;padding-bottom: 0.4em;background-color: white;}#sk-container-id-45 div.sk-label label {font-family: monospace;font-weight: bold;display: inline-block;line-height: 1.2em;}#sk-container-id-45 div.sk-label-container {text-align: center;}#sk-container-id-45 div.sk-container {/* jupyter's `normalize.less` sets `[hidden] { display: none; }` but bootstrap.min.css set `[hidden] { display: none !important; }` so we also need the `!important` here to be able to override the default hidden behavior on the sphinx rendered scikit-learn.org. See: https://github.com/scikit-learn/scikit-learn/issues/21755 */display: inline-block !important;position: relative;}#sk-container-id-45 div.sk-text-repr-fallback {display: none;}</style><div id=\"sk-container-id-45\" class=\"sk-top-container\"><div class=\"sk-text-repr-fallback\"><pre>LogisticRegression(random_state=42)</pre><b>In a Jupyter environment, please rerun this cell to show the HTML representation or trust the notebook. <br />On GitHub, the HTML representation is unable to render, please try loading this page with nbviewer.org.</b></div><div class=\"sk-container\" hidden><div class=\"sk-item\"><div class=\"sk-estimator sk-toggleable\"><input class=\"sk-toggleable__control sk-hidden--visually\" id=\"sk-estimator-id-131\" type=\"checkbox\" checked><label for=\"sk-estimator-id-131\" class=\"sk-toggleable__label sk-toggleable__label-arrow\">LogisticRegression</label><div class=\"sk-toggleable__content\"><pre>LogisticRegression(random_state=42)</pre></div></div></div></div></div>"
      ],
      "text/plain": [
       "LogisticRegression(random_state=42)"
      ]
     },
     "execution_count": 448,
     "metadata": {},
     "output_type": "execute_result"
    }
   ],
   "source": [
    "log_model.fit(X_train_balanced, y_train_balanced)"
   ]
  },
  {
   "cell_type": "markdown",
   "metadata": {},
   "source": [
    "### VI.1.c. MODEL EVALUATION"
   ]
  },
  {
   "cell_type": "code",
   "execution_count": 449,
   "metadata": {},
   "outputs": [
    {
     "name": "stdout",
     "output_type": "stream",
     "text": [
      "Train Mean Accuracy: 0.680 | Train Std Accuracy: 0.049\n",
      "Test Mean Accuracy: 0.930  | Test Std Accuracy: 0.017\n"
     ]
    }
   ],
   "source": [
    "kfold = KFold(n_splits=10)\n",
    "log_train_cross_val = cross_val_score(log_model, X_train_balanced, y_train_balanced, cv=kfold, scoring='accuracy')\n",
    "log_test_cross_val = cross_val_score(log_model, X_test_final, y_test, cv=kfold, scoring='accuracy')\n",
    "\n",
    "print(f'Train Mean Accuracy:','{:.3f}'.format(np.mean(log_train_cross_val)), '| Train Std Accuracy:','{:.3f}'.format(np.std(log_train_cross_val)))\n",
    "print(f'Test Mean Accuracy:','{:.3f}'.format(np.mean(log_test_cross_val)), ' | Test Std Accuracy:','{:.3f}'.format(np.std(log_test_cross_val)))"
   ]
  },
  {
   "cell_type": "code",
   "execution_count": 450,
   "metadata": {},
   "outputs": [
    {
     "name": "stdout",
     "output_type": "stream",
     "text": [
      "========== TRAINING ==========\n",
      "              precision    recall  f1-score   support\n",
      "\n",
      "           0       0.71      0.78      0.74      1807\n",
      "           1       0.75      0.68      0.71      1807\n",
      "\n",
      "    accuracy                           0.73      3614\n",
      "   macro avg       0.73      0.73      0.73      3614\n",
      "weighted avg       0.73      0.73      0.73      3614\n",
      "\n",
      "\n",
      "\n",
      "========== TEST ==========\n",
      "              precision    recall  f1-score   support\n",
      "\n",
      "           0       0.97      0.80      0.87       602\n",
      "           1       0.18      0.63      0.28        43\n",
      "\n",
      "    accuracy                           0.79       645\n",
      "   macro avg       0.57      0.71      0.58       645\n",
      "weighted avg       0.92      0.79      0.83       645\n",
      "\n"
     ]
    },
    {
     "data": {
      "image/png": "[encoded data removed]",
      "text/plain": [
       "<Figure size 432x288 with 2 Axes>"
      ]
     },
     "metadata": {
      "needs_background": "light"
     },
     "output_type": "display_data"
    }
   ],
   "source": [
    "y_pred_train_log = log_model.predict(X_train_balanced)\n",
    "y_pred_test_log = log_model.predict(X_test_final)\n",
    "\n",
    "print(\"=\"*10,\"TRAINING\",\"=\"*10)\n",
    "print(classification_report(y_train_balanced, y_pred_train_log, zero_division=0))\n",
    "print(\"\\n\")\n",
    "print(\"=\"*10,\"TEST\",\"=\"*10)\n",
    "print(classification_report(y_test, y_pred_test_log, zero_division=0))\n",
    "\n",
    "cm = confusion_matrix(y_test, y_pred_test_log, labels=log_model.classes_)\n",
    "disp = ConfusionMatrixDisplay(confusion_matrix=cm, display_labels=log_model.classes_)\n",
    "\n",
    "disp.plot(cmap='magma')\n",
    "plt.show()"
   ]
  },
  {
   "cell_type": "markdown",
   "metadata": {},
   "source": [
    "Dari model Logistic Regression, didapatkan nilai recall sebesar 0.80 untuk label 0 (kejadian tidak berbahaya) dan 0.63 untuk label 1 (kejadian berbahaya). Nilai recall ini bisa diinterpretasikan sebagai:\n",
    "- Dari seluruh kejadian tidak berbahaya, model berhasil melakukan klasifikasi dengan tepat untuk 80% kejadian dan ada 20% kejadian tidak berbahaya yang salah klasifikasi menjadi kejadian berbahaya.\n",
    "- Dari seluruh kejadian berbahaya, model hanya berhasil melakukan klasifikasi dengan tepat untuk 63% kejadian saja. Berarti ada 37% kejadian berbahaya yang diklasifikasi model sebagai kejadian tidak berbahaya."
   ]
  },
  {
   "cell_type": "markdown",
   "metadata": {},
   "source": [
    "## VI.2. SUPPORT VECTOR MACHINE (SVM)"
   ]
  },
  {
   "cell_type": "markdown",
   "metadata": {},
   "source": [
    "### VI.2.a. MODEL DEFINITION\n",
    "\n",
    "Untuk pembuatan model awal ini digunakan hyperparameter default."
   ]
  },
  {
   "cell_type": "code",
   "execution_count": 451,
   "metadata": {},
   "outputs": [],
   "source": [
    "svm_model = SVC(random_state=42)"
   ]
  },
  {
   "cell_type": "markdown",
   "metadata": {},
   "source": [
    "### VI.2.b. MODEL TRAINING"
   ]
  },
  {
   "cell_type": "code",
   "execution_count": 452,
   "metadata": {},
   "outputs": [
    {
     "data": {
      "text/html": [
       "<style>#sk-container-id-46 {color: black;background-color: white;}#sk-container-id-46 pre{padding: 0;}#sk-container-id-46 div.sk-toggleable {background-color: white;}#sk-container-id-46 label.sk-toggleable__label {cursor: pointer;display: block;width: 100%;margin-bottom: 0;padding: 0.3em;box-sizing: border-box;text-align: center;}#sk-container-id-46 label.sk-toggleable__label-arrow:before {content: \"▸\";float: left;margin-right: 0.25em;color: #696969;}#sk-container-id-46 label.sk-toggleable__label-arrow:hover:before {color: black;}#sk-container-id-46 div.sk-estimator:hover label.sk-toggleable__label-arrow:before {color: black;}#sk-container-id-46 div.sk-toggleable__content {max-height: 0;max-width: 0;overflow: hidden;text-align: left;background-color: #f0f8ff;}#sk-container-id-46 div.sk-toggleable__content pre {margin: 0.2em;color: black;border-radius: 0.25em;background-color: #f0f8ff;}#sk-container-id-46 input.sk-toggleable__control:checked~div.sk-toggleable__content {max-height: 200px;max-width: 100%;overflow: auto;}#sk-container-id-46 input.sk-toggleable__control:checked~label.sk-toggleable__label-arrow:before {content: \"▾\";}#sk-container-id-46 div.sk-estimator input.sk-toggleable__control:checked~label.sk-toggleable__label {background-color: #d4ebff;}#sk-container-id-46 div.sk-label input.sk-toggleable__control:checked~label.sk-toggleable__label {background-color: #d4ebff;}#sk-container-id-46 input.sk-hidden--visually {border: 0;clip: rect(1px 1px 1px 1px);clip: rect(1px, 1px, 1px, 1px);height: 1px;margin: -1px;overflow: hidden;padding: 0;position: absolute;width: 1px;}#sk-container-id-46 div.sk-estimator {font-family: monospace;background-color: #f0f8ff;border: 1px dotted black;border-radius: 0.25em;box-sizing: border-box;margin-bottom: 0.5em;}#sk-container-id-46 div.sk-estimator:hover {background-color: #d4ebff;}#sk-container-id-46 div.sk-parallel-item::after {content: \"\";width: 100%;border-bottom: 1px solid gray;flex-grow: 1;}#sk-container-id-46 div.sk-label:hover label.sk-toggleable__label {background-color: #d4ebff;}#sk-container-id-46 div.sk-serial::before {content: \"\";position: absolute;border-left: 1px solid gray;box-sizing: border-box;top: 0;bottom: 0;left: 50%;z-index: 0;}#sk-container-id-46 div.sk-serial {display: flex;flex-direction: column;align-items: center;background-color: white;padding-right: 0.2em;padding-left: 0.2em;position: relative;}#sk-container-id-46 div.sk-item {position: relative;z-index: 1;}#sk-container-id-46 div.sk-parallel {display: flex;align-items: stretch;justify-content: center;background-color: white;position: relative;}#sk-container-id-46 div.sk-item::before, #sk-container-id-46 div.sk-parallel-item::before {content: \"\";position: absolute;border-left: 1px solid gray;box-sizing: border-box;top: 0;bottom: 0;left: 50%;z-index: -1;}#sk-container-id-46 div.sk-parallel-item {display: flex;flex-direction: column;z-index: 1;position: relative;background-color: white;}#sk-container-id-46 div.sk-parallel-item:first-child::after {align-self: flex-end;width: 50%;}#sk-container-id-46 div.sk-parallel-item:last-child::after {align-self: flex-start;width: 50%;}#sk-container-id-46 div.sk-parallel-item:only-child::after {width: 0;}#sk-container-id-46 div.sk-dashed-wrapped {border: 1px dashed gray;margin: 0 0.4em 0.5em 0.4em;box-sizing: border-box;padding-bottom: 0.4em;background-color: white;}#sk-container-id-46 div.sk-label label {font-family: monospace;font-weight: bold;display: inline-block;line-height: 1.2em;}#sk-container-id-46 div.sk-label-container {text-align: center;}#sk-container-id-46 div.sk-container {/* jupyter's `normalize.less` sets `[hidden] { display: none; }` but bootstrap.min.css set `[hidden] { display: none !important; }` so we also need the `!important` here to be able to override the default hidden behavior on the sphinx rendered scikit-learn.org. See: https://github.com/scikit-learn/scikit-learn/issues/21755 */display: inline-block !important;position: relative;}#sk-container-id-46 div.sk-text-repr-fallback {display: none;}</style><div id=\"sk-container-id-46\" class=\"sk-top-container\"><div class=\"sk-text-repr-fallback\"><pre>SVC(random_state=42)</pre><b>In a Jupyter environment, please rerun this cell to show the HTML representation or trust the notebook. <br />On GitHub, the HTML representation is unable to render, please try loading this page with nbviewer.org.</b></div><div class=\"sk-container\" hidden><div class=\"sk-item\"><div class=\"sk-estimator sk-toggleable\"><input class=\"sk-toggleable__control sk-hidden--visually\" id=\"sk-estimator-id-132\" type=\"checkbox\" checked><label for=\"sk-estimator-id-132\" class=\"sk-toggleable__label sk-toggleable__label-arrow\">SVC</label><div class=\"sk-toggleable__content\"><pre>SVC(random_state=42)</pre></div></div></div></div></div>"
      ],
      "text/plain": [
       "SVC(random_state=42)"
      ]
     },
     "execution_count": 452,
     "metadata": {},
     "output_type": "execute_result"
    }
   ],
   "source": [
    "svm_model.fit(X_train_balanced, y_train_balanced)"
   ]
  },
  {
   "cell_type": "markdown",
   "metadata": {},
   "source": [
    "### VI.2.c. MODEL EVALUATION"
   ]
  },
  {
   "cell_type": "code",
   "execution_count": 453,
   "metadata": {},
   "outputs": [
    {
     "name": "stdout",
     "output_type": "stream",
     "text": [
      "Train Mean Accuracy: 0.707 | Train Std Accuracy: 0.031\n",
      "Test Mean Accuracy: 0.933  | Test Std Accuracy: 0.018\n"
     ]
    }
   ],
   "source": [
    "kfold = KFold(n_splits=10)\n",
    "svm_train_cross_val = cross_val_score(svm_model, X_train_balanced, y_train_balanced, cv=kfold, scoring='accuracy')\n",
    "svm_test_cross_val = cross_val_score(svm_model, X_test_final, y_test, cv=kfold, scoring='accuracy')\n",
    "\n",
    "print(f'Train Mean Accuracy:','{:.3f}'.format(np.mean(svm_train_cross_val)), '| Train Std Accuracy:','{:.3f}'.format(np.std(svm_train_cross_val)))\n",
    "print(f'Test Mean Accuracy:','{:.3f}'.format(np.mean(svm_test_cross_val)), ' | Test Std Accuracy:','{:.3f}'.format(np.std(svm_test_cross_val)))"
   ]
  },
  {
   "cell_type": "code",
   "execution_count": 454,
   "metadata": {},
   "outputs": [
    {
     "name": "stdout",
     "output_type": "stream",
     "text": [
      "========== TRAINING ==========\n",
      "              precision    recall  f1-score   support\n",
      "\n",
      "           0       0.72      0.81      0.76      1807\n",
      "           1       0.78      0.69      0.73      1807\n",
      "\n",
      "    accuracy                           0.75      3614\n",
      "   macro avg       0.75      0.75      0.75      3614\n",
      "weighted avg       0.75      0.75      0.75      3614\n",
      "\n",
      "\n",
      "\n",
      "========== TEST ==========\n",
      "              precision    recall  f1-score   support\n",
      "\n",
      "           0       0.96      0.83      0.89       602\n",
      "           1       0.19      0.56      0.28        43\n",
      "\n",
      "    accuracy                           0.81       645\n",
      "   macro avg       0.58      0.69      0.59       645\n",
      "weighted avg       0.91      0.81      0.85       645\n",
      "\n"
     ]
    },
    {
     "data": {
      "image/png": "[encoded data removed]",
      "text/plain": [
       "<Figure size 432x288 with 2 Axes>"
      ]
     },
     "metadata": {
      "needs_background": "light"
     },
     "output_type": "display_data"
    }
   ],
   "source": [
    "y_pred_train_svm = svm_model.predict(X_train_balanced)\n",
    "y_pred_test_svm = svm_model.predict(X_test_final)\n",
    "\n",
    "print(\"=\"*10,\"TRAINING\",\"=\"*10)\n",
    "print(classification_report(y_train_balanced, y_pred_train_svm, zero_division=0))\n",
    "print(\"\\n\")\n",
    "print(\"=\"*10,\"TEST\",\"=\"*10)\n",
    "print(classification_report(y_test, y_pred_test_svm, zero_division=0))\n",
    "\n",
    "cm = confusion_matrix(y_test, y_pred_test_svm, labels=svm_model.classes_)\n",
    "disp = ConfusionMatrixDisplay(confusion_matrix=cm, display_labels=svm_model.classes_)\n",
    "\n",
    "disp.plot(cmap='magma')\n",
    "plt.show()"
   ]
  },
  {
   "cell_type": "markdown",
   "metadata": {},
   "source": [
    "Dari model Support Vector Machine (SVM), didapatkan nilai recall sebesar 0.83 untuk label 0 (kejadian tidak berbahaya) dan 0.56 untuk label 1 (kejadian berbahaya). Nilai recall ini bisa diinterpretasikan sebagai:\n",
    "- Dari seluruh kejadian tidak berbahaya, model berhasil melakukan klasifikasi dengan tepat untuk 83% kejadian dan ada 17% kejadian tidak berbahaya yang salah klasifikasi menjadi kejadian berbahaya.\n",
    "- Dari seluruh kejadian berbahaya, model hanya berhasil melakukan klasifikasi dengan tepat untuk 56% kejadian saja. Berarti ada 44% kejadian berbahaya yang diklasifikasi model sebagai kejadian tidak berbahaya."
   ]
  },
  {
   "cell_type": "markdown",
   "metadata": {},
   "source": [
    "## VI.3. RANDOM FOREST"
   ]
  },
  {
   "cell_type": "markdown",
   "metadata": {},
   "source": [
    "### VI.3.a. MODEL DEFINITION\n",
    "\n",
    "Untuk pembuatan model awal ini digunakan hyperparameter default."
   ]
  },
  {
   "cell_type": "code",
   "execution_count": 455,
   "metadata": {},
   "outputs": [],
   "source": [
    "rf_model = RandomForestClassifier(random_state=42)"
   ]
  },
  {
   "cell_type": "markdown",
   "metadata": {},
   "source": [
    "### VI.3.b. MODEL TRAINING"
   ]
  },
  {
   "cell_type": "code",
   "execution_count": 456,
   "metadata": {},
   "outputs": [
    {
     "data": {
      "text/html": [
       "<style>#sk-container-id-47 {color: black;background-color: white;}#sk-container-id-47 pre{padding: 0;}#sk-container-id-47 div.sk-toggleable {background-color: white;}#sk-container-id-47 label.sk-toggleable__label {cursor: pointer;display: block;width: 100%;margin-bottom: 0;padding: 0.3em;box-sizing: border-box;text-align: center;}#sk-container-id-47 label.sk-toggleable__label-arrow:before {content: \"▸\";float: left;margin-right: 0.25em;color: #696969;}#sk-container-id-47 label.sk-toggleable__label-arrow:hover:before {color: black;}#sk-container-id-47 div.sk-estimator:hover label.sk-toggleable__label-arrow:before {color: black;}#sk-container-id-47 div.sk-toggleable__content {max-height: 0;max-width: 0;overflow: hidden;text-align: left;background-color: #f0f8ff;}#sk-container-id-47 div.sk-toggleable__content pre {margin: 0.2em;color: black;border-radius: 0.25em;background-color: #f0f8ff;}#sk-container-id-47 input.sk-toggleable__control:checked~div.sk-toggleable__content {max-height: 200px;max-width: 100%;overflow: auto;}#sk-container-id-47 input.sk-toggleable__control:checked~label.sk-toggleable__label-arrow:before {content: \"▾\";}#sk-container-id-47 div.sk-estimator input.sk-toggleable__control:checked~label.sk-toggleable__label {background-color: #d4ebff;}#sk-container-id-47 div.sk-label input.sk-toggleable__control:checked~label.sk-toggleable__label {background-color: #d4ebff;}#sk-container-id-47 input.sk-hidden--visually {border: 0;clip: rect(1px 1px 1px 1px);clip: rect(1px, 1px, 1px, 1px);height: 1px;margin: -1px;overflow: hidden;padding: 0;position: absolute;width: 1px;}#sk-container-id-47 div.sk-estimator {font-family: monospace;background-color: #f0f8ff;border: 1px dotted black;border-radius: 0.25em;box-sizing: border-box;margin-bottom: 0.5em;}#sk-container-id-47 div.sk-estimator:hover {background-color: #d4ebff;}#sk-container-id-47 div.sk-parallel-item::after {content: \"\";width: 100%;border-bottom: 1px solid gray;flex-grow: 1;}#sk-container-id-47 div.sk-label:hover label.sk-toggleable__label {background-color: #d4ebff;}#sk-container-id-47 div.sk-serial::before {content: \"\";position: absolute;border-left: 1px solid gray;box-sizing: border-box;top: 0;bottom: 0;left: 50%;z-index: 0;}#sk-container-id-47 div.sk-serial {display: flex;flex-direction: column;align-items: center;background-color: white;padding-right: 0.2em;padding-left: 0.2em;position: relative;}#sk-container-id-47 div.sk-item {position: relative;z-index: 1;}#sk-container-id-47 div.sk-parallel {display: flex;align-items: stretch;justify-content: center;background-color: white;position: relative;}#sk-container-id-47 div.sk-item::before, #sk-container-id-47 div.sk-parallel-item::before {content: \"\";position: absolute;border-left: 1px solid gray;box-sizing: border-box;top: 0;bottom: 0;left: 50%;z-index: -1;}#sk-container-id-47 div.sk-parallel-item {display: flex;flex-direction: column;z-index: 1;position: relative;background-color: white;}#sk-container-id-47 div.sk-parallel-item:first-child::after {align-self: flex-end;width: 50%;}#sk-container-id-47 div.sk-parallel-item:last-child::after {align-self: flex-start;width: 50%;}#sk-container-id-47 div.sk-parallel-item:only-child::after {width: 0;}#sk-container-id-47 div.sk-dashed-wrapped {border: 1px dashed gray;margin: 0 0.4em 0.5em 0.4em;box-sizing: border-box;padding-bottom: 0.4em;background-color: white;}#sk-container-id-47 div.sk-label label {font-family: monospace;font-weight: bold;display: inline-block;line-height: 1.2em;}#sk-container-id-47 div.sk-label-container {text-align: center;}#sk-container-id-47 div.sk-container {/* jupyter's `normalize.less` sets `[hidden] { display: none; }` but bootstrap.min.css set `[hidden] { display: none !important; }` so we also need the `!important` here to be able to override the default hidden behavior on the sphinx rendered scikit-learn.org. See: https://github.com/scikit-learn/scikit-learn/issues/21755 */display: inline-block !important;position: relative;}#sk-container-id-47 div.sk-text-repr-fallback {display: none;}</style><div id=\"sk-container-id-47\" class=\"sk-top-container\"><div class=\"sk-text-repr-fallback\"><pre>RandomForestClassifier(random_state=42)</pre><b>In a Jupyter environment, please rerun this cell to show the HTML representation or trust the notebook. <br />On GitHub, the HTML representation is unable to render, please try loading this page with nbviewer.org.</b></div><div class=\"sk-container\" hidden><div class=\"sk-item\"><div class=\"sk-estimator sk-toggleable\"><input class=\"sk-toggleable__control sk-hidden--visually\" id=\"sk-estimator-id-133\" type=\"checkbox\" checked><label for=\"sk-estimator-id-133\" class=\"sk-toggleable__label sk-toggleable__label-arrow\">RandomForestClassifier</label><div class=\"sk-toggleable__content\"><pre>RandomForestClassifier(random_state=42)</pre></div></div></div></div></div>"
      ],
      "text/plain": [
       "RandomForestClassifier(random_state=42)"
      ]
     },
     "execution_count": 456,
     "metadata": {},
     "output_type": "execute_result"
    }
   ],
   "source": [
    "rf_model.fit(X_train_balanced, y_train_balanced)"
   ]
  },
  {
   "cell_type": "markdown",
   "metadata": {},
   "source": [
    "### VI.3.c. MODEL EVALUATION"
   ]
  },
  {
   "cell_type": "code",
   "execution_count": 457,
   "metadata": {},
   "outputs": [
    {
     "name": "stdout",
     "output_type": "stream",
     "text": [
      "Train Mean Accuracy: 0.976 | Train Std Accuracy: 0.025\n",
      "Test Mean Accuracy: 0.919  | Test Std Accuracy: 0.024\n"
     ]
    }
   ],
   "source": [
    "kfold = KFold(n_splits=10)\n",
    "rf_train_cross_val = cross_val_score(rf_model, X_train_balanced, y_train_balanced, cv=kfold, scoring='accuracy')\n",
    "rf_test_cross_val = cross_val_score(rf_model, X_test_final, y_test, cv=kfold, scoring='accuracy')\n",
    "\n",
    "print(f'Train Mean Accuracy:','{:.3f}'.format(np.mean(rf_train_cross_val)), '| Train Std Accuracy:','{:.3f}'.format(np.std(rf_train_cross_val)))\n",
    "print(f'Test Mean Accuracy:','{:.3f}'.format(np.mean(rf_test_cross_val)), ' | Test Std Accuracy:','{:.3f}'.format(np.std(rf_test_cross_val)))"
   ]
  },
  {
   "cell_type": "code",
   "execution_count": 458,
   "metadata": {},
   "outputs": [
    {
     "name": "stdout",
     "output_type": "stream",
     "text": [
      "========== TRAINING ==========\n",
      "              precision    recall  f1-score   support\n",
      "\n",
      "           0       1.00      1.00      1.00      1807\n",
      "           1       1.00      1.00      1.00      1807\n",
      "\n",
      "    accuracy                           1.00      3614\n",
      "   macro avg       1.00      1.00      1.00      3614\n",
      "weighted avg       1.00      1.00      1.00      3614\n",
      "\n",
      "\n",
      "\n",
      "========== TEST ==========\n",
      "              precision    recall  f1-score   support\n",
      "\n",
      "           0       0.94      0.97      0.95       602\n",
      "           1       0.12      0.07      0.09        43\n",
      "\n",
      "    accuracy                           0.91       645\n",
      "   macro avg       0.53      0.52      0.52       645\n",
      "weighted avg       0.88      0.91      0.89       645\n",
      "\n"
     ]
    },
    {
     "data": {
      "image/png": "[encoded data removed]",
      "text/plain": [
       "<Figure size 432x288 with 2 Axes>"
      ]
     },
     "metadata": {
      "needs_background": "light"
     },
     "output_type": "display_data"
    }
   ],
   "source": [
    "y_pred_train_rf = rf_model.predict(X_train_balanced)\n",
    "y_pred_test_rf = rf_model.predict(X_test_final)\n",
    "\n",
    "print(\"=\"*10,\"TRAINING\",\"=\"*10)\n",
    "print(classification_report(y_train_balanced, y_pred_train_rf, zero_division=0))\n",
    "print(\"\\n\")\n",
    "print(\"=\"*10,\"TEST\",\"=\"*10)\n",
    "print(classification_report(y_test, y_pred_test_rf, zero_division=0))\n",
    "\n",
    "cm = confusion_matrix(y_test, y_pred_test_rf, labels=rf_model.classes_)\n",
    "disp = ConfusionMatrixDisplay(confusion_matrix=cm, display_labels=rf_model.classes_)\n",
    "\n",
    "disp.plot(cmap='magma')\n",
    "plt.show()"
   ]
  },
  {
   "cell_type": "markdown",
   "metadata": {},
   "source": [
    "Dari model Random Forest, didapatkan nilai recall sebesar 0.97 untuk label 0 (kejadian tidak berbahaya) dan 0.07 untuk label 1 (kejadian berbahaya). Nilai recall ini bisa diinterpretasikan sebagai:\n",
    "- Dari seluruh kejadian tidak berbahaya, model berhasil melakukan klasifikasi dengan tepat untuk 97% kejadian dan ada 3% kejadian tidak berbahaya yang salah klasifikasi menjadi kejadian berbahaya.\n",
    "- Dari seluruh kejadian berbahaya, model hanya berhasil melakukan klasifikasi dengan tepat untuk 7% kejadian saja. Berarti ada 93% kejadian berbahaya yang diklasifikasi model sebagai kejadian tidak berbahaya."
   ]
  },
  {
   "cell_type": "markdown",
   "metadata": {},
   "source": [
    "## VI.4. GRADIENT BOOSTING"
   ]
  },
  {
   "cell_type": "markdown",
   "metadata": {},
   "source": [
    "### VI.4.a. MODEL DEFINITION\n",
    "\n",
    "Untuk pembuatan model awal ini digunakan hyperparameter default."
   ]
  },
  {
   "cell_type": "code",
   "execution_count": 459,
   "metadata": {},
   "outputs": [],
   "source": [
    "gb_model = GradientBoostingClassifier(random_state=42)"
   ]
  },
  {
   "cell_type": "markdown",
   "metadata": {},
   "source": [
    "\n",
    "### VI.4.b. MODEL TRAINING"
   ]
  },
  {
   "cell_type": "code",
   "execution_count": 460,
   "metadata": {},
   "outputs": [
    {
     "data": {
      "text/html": [
       "<style>#sk-container-id-48 {color: black;background-color: white;}#sk-container-id-48 pre{padding: 0;}#sk-container-id-48 div.sk-toggleable {background-color: white;}#sk-container-id-48 label.sk-toggleable__label {cursor: pointer;display: block;width: 100%;margin-bottom: 0;padding: 0.3em;box-sizing: border-box;text-align: center;}#sk-container-id-48 label.sk-toggleable__label-arrow:before {content: \"▸\";float: left;margin-right: 0.25em;color: #696969;}#sk-container-id-48 label.sk-toggleable__label-arrow:hover:before {color: black;}#sk-container-id-48 div.sk-estimator:hover label.sk-toggleable__label-arrow:before {color: black;}#sk-container-id-48 div.sk-toggleable__content {max-height: 0;max-width: 0;overflow: hidden;text-align: left;background-color: #f0f8ff;}#sk-container-id-48 div.sk-toggleable__content pre {margin: 0.2em;color: black;border-radius: 0.25em;background-color: #f0f8ff;}#sk-container-id-48 input.sk-toggleable__control:checked~div.sk-toggleable__content {max-height: 200px;max-width: 100%;overflow: auto;}#sk-container-id-48 input.sk-toggleable__control:checked~label.sk-toggleable__label-arrow:before {content: \"▾\";}#sk-container-id-48 div.sk-estimator input.sk-toggleable__control:checked~label.sk-toggleable__label {background-color: #d4ebff;}#sk-container-id-48 div.sk-label input.sk-toggleable__control:checked~label.sk-toggleable__label {background-color: #d4ebff;}#sk-container-id-48 input.sk-hidden--visually {border: 0;clip: rect(1px 1px 1px 1px);clip: rect(1px, 1px, 1px, 1px);height: 1px;margin: -1px;overflow: hidden;padding: 0;position: absolute;width: 1px;}#sk-container-id-48 div.sk-estimator {font-family: monospace;background-color: #f0f8ff;border: 1px dotted black;border-radius: 0.25em;box-sizing: border-box;margin-bottom: 0.5em;}#sk-container-id-48 div.sk-estimator:hover {background-color: #d4ebff;}#sk-container-id-48 div.sk-parallel-item::after {content: \"\";width: 100%;border-bottom: 1px solid gray;flex-grow: 1;}#sk-container-id-48 div.sk-label:hover label.sk-toggleable__label {background-color: #d4ebff;}#sk-container-id-48 div.sk-serial::before {content: \"\";position: absolute;border-left: 1px solid gray;box-sizing: border-box;top: 0;bottom: 0;left: 50%;z-index: 0;}#sk-container-id-48 div.sk-serial {display: flex;flex-direction: column;align-items: center;background-color: white;padding-right: 0.2em;padding-left: 0.2em;position: relative;}#sk-container-id-48 div.sk-item {position: relative;z-index: 1;}#sk-container-id-48 div.sk-parallel {display: flex;align-items: stretch;justify-content: center;background-color: white;position: relative;}#sk-container-id-48 div.sk-item::before, #sk-container-id-48 div.sk-parallel-item::before {content: \"\";position: absolute;border-left: 1px solid gray;box-sizing: border-box;top: 0;bottom: 0;left: 50%;z-index: -1;}#sk-container-id-48 div.sk-parallel-item {display: flex;flex-direction: column;z-index: 1;position: relative;background-color: white;}#sk-container-id-48 div.sk-parallel-item:first-child::after {align-self: flex-end;width: 50%;}#sk-container-id-48 div.sk-parallel-item:last-child::after {align-self: flex-start;width: 50%;}#sk-container-id-48 div.sk-parallel-item:only-child::after {width: 0;}#sk-container-id-48 div.sk-dashed-wrapped {border: 1px dashed gray;margin: 0 0.4em 0.5em 0.4em;box-sizing: border-box;padding-bottom: 0.4em;background-color: white;}#sk-container-id-48 div.sk-label label {font-family: monospace;font-weight: bold;display: inline-block;line-height: 1.2em;}#sk-container-id-48 div.sk-label-container {text-align: center;}#sk-container-id-48 div.sk-container {/* jupyter's `normalize.less` sets `[hidden] { display: none; }` but bootstrap.min.css set `[hidden] { display: none !important; }` so we also need the `!important` here to be able to override the default hidden behavior on the sphinx rendered scikit-learn.org. See: https://github.com/scikit-learn/scikit-learn/issues/21755 */display: inline-block !important;position: relative;}#sk-container-id-48 div.sk-text-repr-fallback {display: none;}</style><div id=\"sk-container-id-48\" class=\"sk-top-container\"><div class=\"sk-text-repr-fallback\"><pre>GradientBoostingClassifier(random_state=42)</pre><b>In a Jupyter environment, please rerun this cell to show the HTML representation or trust the notebook. <br />On GitHub, the HTML representation is unable to render, please try loading this page with nbviewer.org.</b></div><div class=\"sk-container\" hidden><div class=\"sk-item\"><div class=\"sk-estimator sk-toggleable\"><input class=\"sk-toggleable__control sk-hidden--visually\" id=\"sk-estimator-id-134\" type=\"checkbox\" checked><label for=\"sk-estimator-id-134\" class=\"sk-toggleable__label sk-toggleable__label-arrow\">GradientBoostingClassifier</label><div class=\"sk-toggleable__content\"><pre>GradientBoostingClassifier(random_state=42)</pre></div></div></div></div></div>"
      ],
      "text/plain": [
       "GradientBoostingClassifier(random_state=42)"
      ]
     },
     "execution_count": 460,
     "metadata": {},
     "output_type": "execute_result"
    }
   ],
   "source": [
    "gb_model.fit(X_train_balanced, y_train_balanced)"
   ]
  },
  {
   "cell_type": "markdown",
   "metadata": {},
   "source": [
    "\n",
    "### VI.4.c. MODEL EVALUATION"
   ]
  },
  {
   "cell_type": "code",
   "execution_count": 461,
   "metadata": {},
   "outputs": [
    {
     "name": "stdout",
     "output_type": "stream",
     "text": [
      "Train Mean Accuracy: 0.832 | Train Std Accuracy: 0.026\n",
      "Test Mean Accuracy: 0.924  | Test Std Accuracy: 0.019\n"
     ]
    }
   ],
   "source": [
    "kfold = KFold(n_splits=10)\n",
    "gb_train_cross_val = cross_val_score(gb_model, X_train_balanced, y_train_balanced, cv=kfold, scoring='accuracy')\n",
    "gb_test_cross_val = cross_val_score(gb_model, X_test_final, y_test, cv=kfold, scoring='accuracy')\n",
    "\n",
    "print(f'Train Mean Accuracy:','{:.3f}'.format(np.mean(gb_train_cross_val)), '| Train Std Accuracy:','{:.3f}'.format(np.std(gb_train_cross_val)))\n",
    "print(f'Test Mean Accuracy:','{:.3f}'.format(np.mean(gb_test_cross_val)), ' | Test Std Accuracy:','{:.3f}'.format(np.std(gb_test_cross_val)))"
   ]
  },
  {
   "cell_type": "code",
   "execution_count": 462,
   "metadata": {},
   "outputs": [
    {
     "name": "stdout",
     "output_type": "stream",
     "text": [
      "========== TRAINING ==========\n",
      "              precision    recall  f1-score   support\n",
      "\n",
      "           0       0.88      0.86      0.87      1807\n",
      "           1       0.86      0.89      0.87      1807\n",
      "\n",
      "    accuracy                           0.87      3614\n",
      "   macro avg       0.87      0.87      0.87      3614\n",
      "weighted avg       0.87      0.87      0.87      3614\n",
      "\n",
      "\n",
      "\n",
      "========== TEST ==========\n",
      "              precision    recall  f1-score   support\n",
      "\n",
      "           0       0.96      0.86      0.91       602\n",
      "           1       0.19      0.47      0.27        43\n",
      "\n",
      "    accuracy                           0.83       645\n",
      "   macro avg       0.57      0.66      0.59       645\n",
      "weighted avg       0.91      0.83      0.86       645\n",
      "\n"
     ]
    },
    {
     "data": {
      "image/png": "[encoded data removed]",
      "text/plain": [
       "<Figure size 432x288 with 2 Axes>"
      ]
     },
     "metadata": {
      "needs_background": "light"
     },
     "output_type": "display_data"
    }
   ],
   "source": [
    "y_pred_train_gb = gb_model.predict(X_train_balanced)\n",
    "y_pred_test_gb = gb_model.predict(X_test_final)\n",
    "\n",
    "print(\"=\"*10,\"TRAINING\",\"=\"*10)\n",
    "print(classification_report(y_train_balanced, y_pred_train_gb, zero_division=0))\n",
    "print(\"\\n\")\n",
    "print(\"=\"*10,\"TEST\",\"=\"*10)\n",
    "print(classification_report(y_test, y_pred_test_gb, zero_division=0))\n",
    "\n",
    "cm = confusion_matrix(y_test, y_pred_test_gb, labels=gb_model.classes_)\n",
    "disp = ConfusionMatrixDisplay(confusion_matrix=cm, display_labels=gb_model.classes_)\n",
    "\n",
    "disp.plot(cmap='magma')\n",
    "plt.show()"
   ]
  },
  {
   "cell_type": "markdown",
   "metadata": {},
   "source": [
    "Dari model Gradient Boosting, didapatkan nilai recall sebesar 0.86 untuk label 0 (kejadian tidak berbahaya) dan 0.47 untuk label 1 (kejadian berbahaya). Nilai recall ini bisa diinterpretasikan sebagai:\n",
    "- Dari seluruh kejadian tidak berbahaya, model berhasil melakukan klasifikasi dengan tepat untuk 86% kejadian dan ada 14% kejadian tidak berbahaya yang salah klasifikasi menjadi kejadian berbahaya.\n",
    "- Dari seluruh kejadian berbahaya, model hanya berhasil melakukan klasifikasi dengan tepat untuk 47% kejadian saja. Berarti ada 53% kejadian berbahaya yang diklasifikasi model sebagai kejadian tidak berbahaya."
   ]
  },
  {
   "cell_type": "markdown",
   "metadata": {},
   "source": [
    "## VI.5. MODEL OVERALL ANALYSIS\n",
    "\n",
    "Disini penulis membuat sebanyak empat buah model dengan tujuan untuk mencari model mana yang performanya paling baik dalam melakukan prediksi terjadinya kejadian berbahaya (hazardous state). Metric yang akan menjadi patokan untuk pemilihan model terbaiknya adalah accuracy dan recall. Nilai accuracy disini digunakan sebagai ukuran performa sebuah model. Nilai recall menjadi metric yang penting dalam analisis kali ini, karena metric ini menunjukkan tingkat kesalahan klasifikasi atau yang sering disebut sebagai False Positive dan False Negative pada model.\n",
    "\n",
    "Pada kasus kali ini sebagai pihak perusahaan tentu saja kita tidak ingin sampai terjadi salah prediksi kejadian. Ketika ada kejadian berbahaya namun kita prediksi sebagai kejadian tidak berbahaya (False Negatif) maka akan sangat fatal akibatnya bagi para pekerja yang berada di lokasi tambang, akibatnya bisa sampai menyebabkan para pekerja kita meninggal dunia. Tentu hal ini akan berdampak besar untuk perusahaan, pihak regulator pasti akan mempertanyakan standard HSE yang dimiliki perusahaan, dan bisa saja izin usaha perusahaan akan dicabut jika sampai terjadi kejadian yang merenggut nyawa para pekerja kita.\n",
    "\n",
    "Kembali ke model yang sudah dibuat, berikut adalah nilai accuracy dan recall dari empat model:\n",
    "\n",
    "| Model                  | Train Accuracy | Test Accuaracy | Recall 0 Test | Recall 1 Test |\n",
    "| :---                   |    :---:       |      :---:     |     :---:     |    :---:      |\n",
    "| Logistic Regression    | 0.73           | 0.79           | 0.80          | 0.63          |\n",
    "| Support Vector Machine | 0.75           | 0.81           | 0.83          | 0.56          |\n",
    "| Random Forest          | 1.00           | 0.91           | 0.97          | 0.07          |\n",
    "| Gradient Boosting      | 0.87           | 0.83           | 0.86          | 0.47          |\n",
    "\n",
    "Secara umum semua model yang dibuat memiliki nilai accuracy data train dan test yang sudah cukup baik, kecuali untuk model Random Forest ini cenderung overfit. Lalu walaupun sudah dilakukan handling imbalance pada data target, namun di semua model nilai recall untuk label 1 (kejadian berbahaya) masih lebih rendah apabila dibandingkan dengan nilai recall label 0 (kejadian tidak berbahaya).\n",
    "\n",
    "Penulis memilih model **Logistic Regression** dan **SVM** sebagai model terbaik dibandingkan dengan model lainnya. Pemilihan model ini berdasarkan dari nilai recall untuk label 0 dan 1 yang cukup tinggi dibandingkan dengan dua model lainnya.\n",
    "\n",
    "Selanjutnya model yang sudah dipilih ini akan dilakukan improvement dengan mencari hyperparameter yang tepat menggunakan bantuan fungsi GridSearchCV. Harapannya setelah dilakukan improvement performa model akan semakin baik dibandingkan dengan model dengan parameter default."
   ]
  },
  {
   "cell_type": "markdown",
   "metadata": {},
   "source": [
    "# **VII. MODEL IMPROVEMENT**"
   ]
  },
  {
   "cell_type": "markdown",
   "metadata": {},
   "source": [
    "## HYPERPARAMETER TUNING WITH GRIDSEARCH\n",
    "\n",
    "Hyperparameter tuning bertujuan untuk mencari hyperparameter apa saja yang paling optimal untuk model yang digunakan. Untuk membantu mencari hyperparameter yang paling optimal digunakan bantuan dari fungsi GridSearchCV. GridSearchCV merupakan salah satu metode hyperparameter yang cukup sering digunakan, pada dasarnya cara kerja GridSearchCV ini adalah menjalankan semua kemungkinan kombinasi hyperparameter ke dalam model yang dibuat. Oleh karena itu salah satu kelemahan dari GridSearchCV ini adalah running timenya cenderung lebih lama jika dibandingkan dengan metode hyperparameter yang lain."
   ]
  },
  {
   "cell_type": "markdown",
   "metadata": {},
   "source": [
    "## VII.1. LOGISTIC REGRESSION IMPROVEMENT"
   ]
  },
  {
   "cell_type": "code",
   "execution_count": 463,
   "metadata": {},
   "outputs": [
    {
     "data": {
      "text/plain": [
       "{'penalty': ['l2'],\n",
       " 'C': [0.4, 0.5, 0.6, 0.7],\n",
       " 'solver': ['liblinear', 'lbfgs', 'saga'],\n",
       " 'max_iter': [500, 800, 1000, 1500],\n",
       " 'random_state': [42]}"
      ]
     },
     "execution_count": 463,
     "metadata": {},
     "output_type": "execute_result"
    }
   ],
   "source": [
    "C = [0.4, 0.5, 0.6, 0.7]\n",
    "solver = ['liblinear','lbfgs', 'saga']\n",
    "max_iter = [500, 800, 1000, 1500]\n",
    "lr_param_grid = {'penalty': ['l2'],\n",
    "               'C': C,\n",
    "               'solver': solver,\n",
    "               'max_iter': max_iter,\n",
    "               'random_state': [42]}\n",
    "lr_param_grid"
   ]
  },
  {
   "cell_type": "code",
   "execution_count": 464,
   "metadata": {},
   "outputs": [
    {
     "data": {
      "text/html": [
       "<style>#sk-container-id-49 {color: black;background-color: white;}#sk-container-id-49 pre{padding: 0;}#sk-container-id-49 div.sk-toggleable {background-color: white;}#sk-container-id-49 label.sk-toggleable__label {cursor: pointer;display: block;width: 100%;margin-bottom: 0;padding: 0.3em;box-sizing: border-box;text-align: center;}#sk-container-id-49 label.sk-toggleable__label-arrow:before {content: \"▸\";float: left;margin-right: 0.25em;color: #696969;}#sk-container-id-49 label.sk-toggleable__label-arrow:hover:before {color: black;}#sk-container-id-49 div.sk-estimator:hover label.sk-toggleable__label-arrow:before {color: black;}#sk-container-id-49 div.sk-toggleable__content {max-height: 0;max-width: 0;overflow: hidden;text-align: left;background-color: #f0f8ff;}#sk-container-id-49 div.sk-toggleable__content pre {margin: 0.2em;color: black;border-radius: 0.25em;background-color: #f0f8ff;}#sk-container-id-49 input.sk-toggleable__control:checked~div.sk-toggleable__content {max-height: 200px;max-width: 100%;overflow: auto;}#sk-container-id-49 input.sk-toggleable__control:checked~label.sk-toggleable__label-arrow:before {content: \"▾\";}#sk-container-id-49 div.sk-estimator input.sk-toggleable__control:checked~label.sk-toggleable__label {background-color: #d4ebff;}#sk-container-id-49 div.sk-label input.sk-toggleable__control:checked~label.sk-toggleable__label {background-color: #d4ebff;}#sk-container-id-49 input.sk-hidden--visually {border: 0;clip: rect(1px 1px 1px 1px);clip: rect(1px, 1px, 1px, 1px);height: 1px;margin: -1px;overflow: hidden;padding: 0;position: absolute;width: 1px;}#sk-container-id-49 div.sk-estimator {font-family: monospace;background-color: #f0f8ff;border: 1px dotted black;border-radius: 0.25em;box-sizing: border-box;margin-bottom: 0.5em;}#sk-container-id-49 div.sk-estimator:hover {background-color: #d4ebff;}#sk-container-id-49 div.sk-parallel-item::after {content: \"\";width: 100%;border-bottom: 1px solid gray;flex-grow: 1;}#sk-container-id-49 div.sk-label:hover label.sk-toggleable__label {background-color: #d4ebff;}#sk-container-id-49 div.sk-serial::before {content: \"\";position: absolute;border-left: 1px solid gray;box-sizing: border-box;top: 0;bottom: 0;left: 50%;z-index: 0;}#sk-container-id-49 div.sk-serial {display: flex;flex-direction: column;align-items: center;background-color: white;padding-right: 0.2em;padding-left: 0.2em;position: relative;}#sk-container-id-49 div.sk-item {position: relative;z-index: 1;}#sk-container-id-49 div.sk-parallel {display: flex;align-items: stretch;justify-content: center;background-color: white;position: relative;}#sk-container-id-49 div.sk-item::before, #sk-container-id-49 div.sk-parallel-item::before {content: \"\";position: absolute;border-left: 1px solid gray;box-sizing: border-box;top: 0;bottom: 0;left: 50%;z-index: -1;}#sk-container-id-49 div.sk-parallel-item {display: flex;flex-direction: column;z-index: 1;position: relative;background-color: white;}#sk-container-id-49 div.sk-parallel-item:first-child::after {align-self: flex-end;width: 50%;}#sk-container-id-49 div.sk-parallel-item:last-child::after {align-self: flex-start;width: 50%;}#sk-container-id-49 div.sk-parallel-item:only-child::after {width: 0;}#sk-container-id-49 div.sk-dashed-wrapped {border: 1px dashed gray;margin: 0 0.4em 0.5em 0.4em;box-sizing: border-box;padding-bottom: 0.4em;background-color: white;}#sk-container-id-49 div.sk-label label {font-family: monospace;font-weight: bold;display: inline-block;line-height: 1.2em;}#sk-container-id-49 div.sk-label-container {text-align: center;}#sk-container-id-49 div.sk-container {/* jupyter's `normalize.less` sets `[hidden] { display: none; }` but bootstrap.min.css set `[hidden] { display: none !important; }` so we also need the `!important` here to be able to override the default hidden behavior on the sphinx rendered scikit-learn.org. See: https://github.com/scikit-learn/scikit-learn/issues/21755 */display: inline-block !important;position: relative;}#sk-container-id-49 div.sk-text-repr-fallback {display: none;}</style><div id=\"sk-container-id-49\" class=\"sk-top-container\"><div class=\"sk-text-repr-fallback\"><pre>GridSearchCV(cv=5, estimator=LogisticRegression(), n_jobs=-1,\n",
       "             param_grid={&#x27;C&#x27;: [0.4, 0.5, 0.6, 0.7],\n",
       "                         &#x27;max_iter&#x27;: [500, 800, 1000, 1500], &#x27;penalty&#x27;: [&#x27;l2&#x27;],\n",
       "                         &#x27;random_state&#x27;: [42],\n",
       "                         &#x27;solver&#x27;: [&#x27;liblinear&#x27;, &#x27;lbfgs&#x27;, &#x27;saga&#x27;]})</pre><b>In a Jupyter environment, please rerun this cell to show the HTML representation or trust the notebook. <br />On GitHub, the HTML representation is unable to render, please try loading this page with nbviewer.org.</b></div><div class=\"sk-container\" hidden><div class=\"sk-item sk-dashed-wrapped\"><div class=\"sk-label-container\"><div class=\"sk-label sk-toggleable\"><input class=\"sk-toggleable__control sk-hidden--visually\" id=\"sk-estimator-id-135\" type=\"checkbox\" ><label for=\"sk-estimator-id-135\" class=\"sk-toggleable__label sk-toggleable__label-arrow\">GridSearchCV</label><div class=\"sk-toggleable__content\"><pre>GridSearchCV(cv=5, estimator=LogisticRegression(), n_jobs=-1,\n",
       "             param_grid={&#x27;C&#x27;: [0.4, 0.5, 0.6, 0.7],\n",
       "                         &#x27;max_iter&#x27;: [500, 800, 1000, 1500], &#x27;penalty&#x27;: [&#x27;l2&#x27;],\n",
       "                         &#x27;random_state&#x27;: [42],\n",
       "                         &#x27;solver&#x27;: [&#x27;liblinear&#x27;, &#x27;lbfgs&#x27;, &#x27;saga&#x27;]})</pre></div></div></div><div class=\"sk-parallel\"><div class=\"sk-parallel-item\"><div class=\"sk-item\"><div class=\"sk-label-container\"><div class=\"sk-label sk-toggleable\"><input class=\"sk-toggleable__control sk-hidden--visually\" id=\"sk-estimator-id-136\" type=\"checkbox\" ><label for=\"sk-estimator-id-136\" class=\"sk-toggleable__label sk-toggleable__label-arrow\">estimator: LogisticRegression</label><div class=\"sk-toggleable__content\"><pre>LogisticRegression()</pre></div></div></div><div class=\"sk-serial\"><div class=\"sk-item\"><div class=\"sk-estimator sk-toggleable\"><input class=\"sk-toggleable__control sk-hidden--visually\" id=\"sk-estimator-id-137\" type=\"checkbox\" ><label for=\"sk-estimator-id-137\" class=\"sk-toggleable__label sk-toggleable__label-arrow\">LogisticRegression</label><div class=\"sk-toggleable__content\"><pre>LogisticRegression()</pre></div></div></div></div></div></div></div></div></div></div>"
      ],
      "text/plain": [
       "GridSearchCV(cv=5, estimator=LogisticRegression(), n_jobs=-1,\n",
       "             param_grid={'C': [0.4, 0.5, 0.6, 0.7],\n",
       "                         'max_iter': [500, 800, 1000, 1500], 'penalty': ['l2'],\n",
       "                         'random_state': [42],\n",
       "                         'solver': ['liblinear', 'lbfgs', 'saga']})"
      ]
     },
     "execution_count": 464,
     "metadata": {},
     "output_type": "execute_result"
    }
   ],
   "source": [
    "lr_gridcv = GridSearchCV(estimator=LogisticRegression(), \n",
    "                         param_grid=lr_param_grid,\n",
    "                         cv=5,  \n",
    "                         n_jobs=-1)\n",
    "lr_gridcv.fit(X_train_balanced, y_train_balanced)"
   ]
  },
  {
   "cell_type": "code",
   "execution_count": 465,
   "metadata": {},
   "outputs": [
    {
     "data": {
      "text/plain": [
       "{'C': 0.5,\n",
       " 'max_iter': 500,\n",
       " 'penalty': 'l2',\n",
       " 'random_state': 42,\n",
       " 'solver': 'liblinear'}"
      ]
     },
     "execution_count": 465,
     "metadata": {},
     "output_type": "execute_result"
    }
   ],
   "source": [
    "lr_gridcv.best_params_"
   ]
  },
  {
   "cell_type": "code",
   "execution_count": 466,
   "metadata": {},
   "outputs": [],
   "source": [
    "lr_gridcv_best = lr_gridcv.best_estimator_"
   ]
  },
  {
   "cell_type": "code",
   "execution_count": 467,
   "metadata": {},
   "outputs": [
    {
     "name": "stdout",
     "output_type": "stream",
     "text": [
      "Accuracy - Before: 0.786046511627907\n",
      "Accuracy - After: 0.7844961240310078\n",
      "========== TEST-BEFORE ==========\n",
      "              precision    recall  f1-score   support\n",
      "\n",
      "           0       0.97      0.80      0.87       602\n",
      "           1       0.18      0.63      0.28        43\n",
      "\n",
      "    accuracy                           0.79       645\n",
      "   macro avg       0.57      0.71      0.58       645\n",
      "weighted avg       0.92      0.79      0.83       645\n",
      "\n",
      "========== TEST-AFTER ==========\n",
      "              precision    recall  f1-score   support\n",
      "\n",
      "           0       0.97      0.80      0.87       602\n",
      "           1       0.18      0.63      0.28        43\n",
      "\n",
      "    accuracy                           0.78       645\n",
      "   macro avg       0.57      0.71      0.58       645\n",
      "weighted avg       0.92      0.78      0.83       645\n",
      "\n"
     ]
    },
    {
     "data": {
      "image/png": "[encoded data removed]",
      "text/plain": [
       "<Figure size 432x288 with 2 Axes>"
      ]
     },
     "metadata": {
      "needs_background": "light"
     },
     "output_type": "display_data"
    }
   ],
   "source": [
    "y_pred_test_best_lr = lr_gridcv_best.predict(X_test_final)\n",
    "print('Accuracy - Before:', accuracy_score(y_test, y_pred_test_log))\n",
    "print('Accuracy - After:', accuracy_score(y_test, y_pred_test_best_lr))\n",
    "\n",
    "print(\"=\"*10,\"TEST-BEFORE\",\"=\"*10)\n",
    "print(classification_report(y_test, y_pred_test_log, zero_division=0))\n",
    "print(\"=\"*10,\"TEST-AFTER\",\"=\"*10)\n",
    "print(classification_report(y_test, y_pred_test_best_lr, zero_division=0))\n",
    "\n",
    "cm = confusion_matrix(y_test, y_pred_test_best_lr, labels=lr_gridcv_best.classes_)\n",
    "disp = ConfusionMatrixDisplay(confusion_matrix=cm, display_labels=lr_gridcv_best.classes_)\n",
    "\n",
    "disp.plot(cmap='magma')\n",
    "plt.show()"
   ]
  },
  {
   "cell_type": "markdown",
   "metadata": {},
   "source": [
    "## VII.2. SUPPORT VECTOR MACHINE IMPROVEMENT"
   ]
  },
  {
   "cell_type": "code",
   "execution_count": 468,
   "metadata": {},
   "outputs": [
    {
     "data": {
      "text/plain": [
       "{'C': [0.1, 0.2, 0.3],\n",
       " 'kernel': ['linear', 'poly', 'rbf', 'sigmoid'],\n",
       " 'gamma': ['scale', 'auto'],\n",
       " 'max_iter': [1000, 1500],\n",
       " 'random_state': [42]}"
      ]
     },
     "execution_count": 468,
     "metadata": {},
     "output_type": "execute_result"
    }
   ],
   "source": [
    "C = [0.1, 0.2, 0.3]\n",
    "kernel = ['linear', 'poly', 'rbf', 'sigmoid']\n",
    "gamma = ['scale', 'auto']\n",
    "max_iter = [1000, 1500]\n",
    "svm_param_grid = {'C': C,\n",
    "                  'kernel': kernel,\n",
    "                  'gamma': gamma,\n",
    "                  'max_iter': max_iter,\n",
    "                  'random_state': [42]}\n",
    "svm_param_grid"
   ]
  },
  {
   "cell_type": "code",
   "execution_count": 484,
   "metadata": {},
   "outputs": [
    {
     "data": {
      "text/html": [
       "<style>#sk-container-id-53 {color: black;background-color: white;}#sk-container-id-53 pre{padding: 0;}#sk-container-id-53 div.sk-toggleable {background-color: white;}#sk-container-id-53 label.sk-toggleable__label {cursor: pointer;display: block;width: 100%;margin-bottom: 0;padding: 0.3em;box-sizing: border-box;text-align: center;}#sk-container-id-53 label.sk-toggleable__label-arrow:before {content: \"▸\";float: left;margin-right: 0.25em;color: #696969;}#sk-container-id-53 label.sk-toggleable__label-arrow:hover:before {color: black;}#sk-container-id-53 div.sk-estimator:hover label.sk-toggleable__label-arrow:before {color: black;}#sk-container-id-53 div.sk-toggleable__content {max-height: 0;max-width: 0;overflow: hidden;text-align: left;background-color: #f0f8ff;}#sk-container-id-53 div.sk-toggleable__content pre {margin: 0.2em;color: black;border-radius: 0.25em;background-color: #f0f8ff;}#sk-container-id-53 input.sk-toggleable__control:checked~div.sk-toggleable__content {max-height: 200px;max-width: 100%;overflow: auto;}#sk-container-id-53 input.sk-toggleable__control:checked~label.sk-toggleable__label-arrow:before {content: \"▾\";}#sk-container-id-53 div.sk-estimator input.sk-toggleable__control:checked~label.sk-toggleable__label {background-color: #d4ebff;}#sk-container-id-53 div.sk-label input.sk-toggleable__control:checked~label.sk-toggleable__label {background-color: #d4ebff;}#sk-container-id-53 input.sk-hidden--visually {border: 0;clip: rect(1px 1px 1px 1px);clip: rect(1px, 1px, 1px, 1px);height: 1px;margin: -1px;overflow: hidden;padding: 0;position: absolute;width: 1px;}#sk-container-id-53 div.sk-estimator {font-family: monospace;background-color: #f0f8ff;border: 1px dotted black;border-radius: 0.25em;box-sizing: border-box;margin-bottom: 0.5em;}#sk-container-id-53 div.sk-estimator:hover {background-color: #d4ebff;}#sk-container-id-53 div.sk-parallel-item::after {content: \"\";width: 100%;border-bottom: 1px solid gray;flex-grow: 1;}#sk-container-id-53 div.sk-label:hover label.sk-toggleable__label {background-color: #d4ebff;}#sk-container-id-53 div.sk-serial::before {content: \"\";position: absolute;border-left: 1px solid gray;box-sizing: border-box;top: 0;bottom: 0;left: 50%;z-index: 0;}#sk-container-id-53 div.sk-serial {display: flex;flex-direction: column;align-items: center;background-color: white;padding-right: 0.2em;padding-left: 0.2em;position: relative;}#sk-container-id-53 div.sk-item {position: relative;z-index: 1;}#sk-container-id-53 div.sk-parallel {display: flex;align-items: stretch;justify-content: center;background-color: white;position: relative;}#sk-container-id-53 div.sk-item::before, #sk-container-id-53 div.sk-parallel-item::before {content: \"\";position: absolute;border-left: 1px solid gray;box-sizing: border-box;top: 0;bottom: 0;left: 50%;z-index: -1;}#sk-container-id-53 div.sk-parallel-item {display: flex;flex-direction: column;z-index: 1;position: relative;background-color: white;}#sk-container-id-53 div.sk-parallel-item:first-child::after {align-self: flex-end;width: 50%;}#sk-container-id-53 div.sk-parallel-item:last-child::after {align-self: flex-start;width: 50%;}#sk-container-id-53 div.sk-parallel-item:only-child::after {width: 0;}#sk-container-id-53 div.sk-dashed-wrapped {border: 1px dashed gray;margin: 0 0.4em 0.5em 0.4em;box-sizing: border-box;padding-bottom: 0.4em;background-color: white;}#sk-container-id-53 div.sk-label label {font-family: monospace;font-weight: bold;display: inline-block;line-height: 1.2em;}#sk-container-id-53 div.sk-label-container {text-align: center;}#sk-container-id-53 div.sk-container {/* jupyter's `normalize.less` sets `[hidden] { display: none; }` but bootstrap.min.css set `[hidden] { display: none !important; }` so we also need the `!important` here to be able to override the default hidden behavior on the sphinx rendered scikit-learn.org. See: https://github.com/scikit-learn/scikit-learn/issues/21755 */display: inline-block !important;position: relative;}#sk-container-id-53 div.sk-text-repr-fallback {display: none;}</style><div id=\"sk-container-id-53\" class=\"sk-top-container\"><div class=\"sk-text-repr-fallback\"><pre>GridSearchCV(cv=5, estimator=SVC(), n_jobs=-1,\n",
       "             param_grid={&#x27;C&#x27;: [0.1, 0.2, 0.3], &#x27;gamma&#x27;: [&#x27;scale&#x27;, &#x27;auto&#x27;],\n",
       "                         &#x27;kernel&#x27;: [&#x27;linear&#x27;, &#x27;poly&#x27;, &#x27;rbf&#x27;, &#x27;sigmoid&#x27;],\n",
       "                         &#x27;max_iter&#x27;: [1000, 1500], &#x27;random_state&#x27;: [42]})</pre><b>In a Jupyter environment, please rerun this cell to show the HTML representation or trust the notebook. <br />On GitHub, the HTML representation is unable to render, please try loading this page with nbviewer.org.</b></div><div class=\"sk-container\" hidden><div class=\"sk-item sk-dashed-wrapped\"><div class=\"sk-label-container\"><div class=\"sk-label sk-toggleable\"><input class=\"sk-toggleable__control sk-hidden--visually\" id=\"sk-estimator-id-150\" type=\"checkbox\" ><label for=\"sk-estimator-id-150\" class=\"sk-toggleable__label sk-toggleable__label-arrow\">GridSearchCV</label><div class=\"sk-toggleable__content\"><pre>GridSearchCV(cv=5, estimator=SVC(), n_jobs=-1,\n",
       "             param_grid={&#x27;C&#x27;: [0.1, 0.2, 0.3], &#x27;gamma&#x27;: [&#x27;scale&#x27;, &#x27;auto&#x27;],\n",
       "                         &#x27;kernel&#x27;: [&#x27;linear&#x27;, &#x27;poly&#x27;, &#x27;rbf&#x27;, &#x27;sigmoid&#x27;],\n",
       "                         &#x27;max_iter&#x27;: [1000, 1500], &#x27;random_state&#x27;: [42]})</pre></div></div></div><div class=\"sk-parallel\"><div class=\"sk-parallel-item\"><div class=\"sk-item\"><div class=\"sk-label-container\"><div class=\"sk-label sk-toggleable\"><input class=\"sk-toggleable__control sk-hidden--visually\" id=\"sk-estimator-id-151\" type=\"checkbox\" ><label for=\"sk-estimator-id-151\" class=\"sk-toggleable__label sk-toggleable__label-arrow\">estimator: SVC</label><div class=\"sk-toggleable__content\"><pre>SVC()</pre></div></div></div><div class=\"sk-serial\"><div class=\"sk-item\"><div class=\"sk-estimator sk-toggleable\"><input class=\"sk-toggleable__control sk-hidden--visually\" id=\"sk-estimator-id-152\" type=\"checkbox\" ><label for=\"sk-estimator-id-152\" class=\"sk-toggleable__label sk-toggleable__label-arrow\">SVC</label><div class=\"sk-toggleable__content\"><pre>SVC()</pre></div></div></div></div></div></div></div></div></div></div>"
      ],
      "text/plain": [
       "GridSearchCV(cv=5, estimator=SVC(), n_jobs=-1,\n",
       "             param_grid={'C': [0.1, 0.2, 0.3], 'gamma': ['scale', 'auto'],\n",
       "                         'kernel': ['linear', 'poly', 'rbf', 'sigmoid'],\n",
       "                         'max_iter': [1000, 1500], 'random_state': [42]})"
      ]
     },
     "execution_count": 484,
     "metadata": {},
     "output_type": "execute_result"
    }
   ],
   "source": [
    "simplefilter(\"ignore\", category=ConvergenceWarning)\n",
    "\n",
    "svm_gridcv = GridSearchCV(estimator=SVC(), \n",
    "                         param_grid=svm_param_grid,\n",
    "                         cv=5,  \n",
    "                         n_jobs=-1)\n",
    "svm_gridcv.fit(X_train_balanced, y_train_balanced)"
   ]
  },
  {
   "cell_type": "code",
   "execution_count": 470,
   "metadata": {},
   "outputs": [
    {
     "data": {
      "text/plain": [
       "{'C': 0.3,\n",
       " 'gamma': 'scale',\n",
       " 'kernel': 'rbf',\n",
       " 'max_iter': 1500,\n",
       " 'random_state': 42}"
      ]
     },
     "execution_count": 470,
     "metadata": {},
     "output_type": "execute_result"
    }
   ],
   "source": [
    "svm_gridcv.best_params_"
   ]
  },
  {
   "cell_type": "code",
   "execution_count": 471,
   "metadata": {},
   "outputs": [],
   "source": [
    "svm_gridcv_best = svm_gridcv.best_estimator_"
   ]
  },
  {
   "cell_type": "code",
   "execution_count": 472,
   "metadata": {},
   "outputs": [
    {
     "name": "stdout",
     "output_type": "stream",
     "text": [
      "Accuracy - Before: 0.8124031007751938\n",
      "Accuracy - After: 0.8155038759689922\n",
      "========== TEST-BEFORE ==========\n",
      "              precision    recall  f1-score   support\n",
      "\n",
      "           0       0.96      0.83      0.89       602\n",
      "           1       0.19      0.56      0.28        43\n",
      "\n",
      "    accuracy                           0.81       645\n",
      "   macro avg       0.58      0.69      0.59       645\n",
      "weighted avg       0.91      0.81      0.85       645\n",
      "\n",
      "========== TEST-AFTER ==========\n",
      "              precision    recall  f1-score   support\n",
      "\n",
      "           0       0.97      0.83      0.89       602\n",
      "           1       0.21      0.63      0.31        43\n",
      "\n",
      "    accuracy                           0.82       645\n",
      "   macro avg       0.59      0.73      0.60       645\n",
      "weighted avg       0.92      0.82      0.85       645\n",
      "\n"
     ]
    },
    {
     "data": {
      "image/png": "[encoded data removed]",
      "text/plain": [
       "<Figure size 432x288 with 2 Axes>"
      ]
     },
     "metadata": {
      "needs_background": "light"
     },
     "output_type": "display_data"
    }
   ],
   "source": [
    "y_pred_test_best_svm = svm_gridcv_best.predict(X_test_final)\n",
    "print('Accuracy - Before:', accuracy_score(y_test, y_pred_test_svm))\n",
    "print('Accuracy - After:', accuracy_score(y_test, y_pred_test_best_svm))\n",
    "\n",
    "print(\"=\"*10,\"TEST-BEFORE\",\"=\"*10)\n",
    "print(classification_report(y_test, y_pred_test_svm, zero_division=0))\n",
    "print(\"=\"*10,\"TEST-AFTER\",\"=\"*10)\n",
    "print(classification_report(y_test, y_pred_test_best_svm, zero_division=0))\n",
    "\n",
    "cm = confusion_matrix(y_test, y_pred_test_best_svm, labels=svm_gridcv_best.classes_)\n",
    "disp = ConfusionMatrixDisplay(confusion_matrix=cm, display_labels=svm_gridcv_best.classes_)\n",
    "\n",
    "disp.plot(cmap='magma')\n",
    "plt.show()"
   ]
  },
  {
   "cell_type": "markdown",
   "metadata": {},
   "source": [
    "Hasil dari model improvement menggunakan GridSearchCV:\n",
    "\n",
    "| Model                  | Accuracy    | Recall 0    | Recall 1    |\n",
    "|  :---                  |  :----:     |    :----:   |   :----:    |\n",
    "| Logistic Regression    | 0.79 > 0.78 | 0.80 > 0.80 | 0.63 > 0.63 |\n",
    "| Support Vector Machine | 0.81 > 0.82 | 0.83 > 0.83 | 0.56 > 0.63 |\n",
    "\n",
    "Setelah dilakukan improvement dengan melakukan hyperparameter tuning menggunakan GridSearchCV, untuk model Logistic Regression tidak mengalami kenaikan performa sama sekali, malah untuk nilai accuracy-nya turun sedikit. Hal yang berbeda kita temukan pada model SVM, disini untuk nilai accuracy-nya naik walaupun hanya 1%, namun untuk nilai recall label 1 dimana ini adalah false negatif mengalami kenaikan yang cukup sigifikan sekitar 7%. Jadi untuk model terbaik yang didapatkan pada hasil analisis kali ini adalah model **Support Vector Machine (SVM)**."
   ]
  },
  {
   "cell_type": "markdown",
   "metadata": {},
   "source": [
    "# **VIII. MODEL INFERENCE USING PIPELINE**\n",
    "\n",
    "Pada section ini akan dicoba untuk model memprediksi data inference atau data baru yang belum pernah dilihat sebelumnya."
   ]
  },
  {
   "cell_type": "code",
   "execution_count": 473,
   "metadata": {},
   "outputs": [
    {
     "data": {
      "text/html": [
       "<div>\n",
       "<style scoped>\n",
       "    .dataframe tbody tr th:only-of-type {\n",
       "        vertical-align: middle;\n",
       "    }\n",
       "\n",
       "    .dataframe tbody tr th {\n",
       "        vertical-align: top;\n",
       "    }\n",
       "\n",
       "    .dataframe thead th {\n",
       "        text-align: right;\n",
       "    }\n",
       "</style>\n",
       "<table border=\"1\" class=\"dataframe\">\n",
       "  <thead>\n",
       "    <tr style=\"text-align: right;\">\n",
       "      <th></th>\n",
       "      <th>seismic</th>\n",
       "      <th>seismoacoustic</th>\n",
       "      <th>shift</th>\n",
       "      <th>genergy</th>\n",
       "      <th>gpuls</th>\n",
       "      <th>gdenergy</th>\n",
       "      <th>gdpuls</th>\n",
       "      <th>hazard</th>\n",
       "      <th>nbumps</th>\n",
       "      <th>nbumps2</th>\n",
       "      <th>nbumps3</th>\n",
       "      <th>nbumps4</th>\n",
       "      <th>nbumps5</th>\n",
       "      <th>energy</th>\n",
       "      <th>maxenergy</th>\n",
       "      <th>class</th>\n",
       "    </tr>\n",
       "  </thead>\n",
       "  <tbody>\n",
       "    <tr>\n",
       "      <th>0</th>\n",
       "      <td>0</td>\n",
       "      <td>0</td>\n",
       "      <td>0</td>\n",
       "      <td>5280</td>\n",
       "      <td>178</td>\n",
       "      <td>-29</td>\n",
       "      <td>-16</td>\n",
       "      <td>0</td>\n",
       "      <td>0</td>\n",
       "      <td>0</td>\n",
       "      <td>0</td>\n",
       "      <td>0</td>\n",
       "      <td>0</td>\n",
       "      <td>0</td>\n",
       "      <td>0</td>\n",
       "      <td>0</td>\n",
       "    </tr>\n",
       "    <tr>\n",
       "      <th>1</th>\n",
       "      <td>1</td>\n",
       "      <td>0</td>\n",
       "      <td>1</td>\n",
       "      <td>38170</td>\n",
       "      <td>784</td>\n",
       "      <td>-27</td>\n",
       "      <td>12</td>\n",
       "      <td>0</td>\n",
       "      <td>3</td>\n",
       "      <td>1</td>\n",
       "      <td>2</td>\n",
       "      <td>0</td>\n",
       "      <td>0</td>\n",
       "      <td>3500</td>\n",
       "      <td>2000</td>\n",
       "      <td>0</td>\n",
       "    </tr>\n",
       "    <tr>\n",
       "      <th>2</th>\n",
       "      <td>1</td>\n",
       "      <td>0</td>\n",
       "      <td>0</td>\n",
       "      <td>10020</td>\n",
       "      <td>370</td>\n",
       "      <td>0</td>\n",
       "      <td>6</td>\n",
       "      <td>0</td>\n",
       "      <td>0</td>\n",
       "      <td>0</td>\n",
       "      <td>0</td>\n",
       "      <td>0</td>\n",
       "      <td>0</td>\n",
       "      <td>0</td>\n",
       "      <td>0</td>\n",
       "      <td>0</td>\n",
       "    </tr>\n",
       "    <tr>\n",
       "      <th>3</th>\n",
       "      <td>1</td>\n",
       "      <td>0</td>\n",
       "      <td>1</td>\n",
       "      <td>292040</td>\n",
       "      <td>1233</td>\n",
       "      <td>-33</td>\n",
       "      <td>-29</td>\n",
       "      <td>0</td>\n",
       "      <td>0</td>\n",
       "      <td>0</td>\n",
       "      <td>0</td>\n",
       "      <td>0</td>\n",
       "      <td>0</td>\n",
       "      <td>0</td>\n",
       "      <td>0</td>\n",
       "      <td>0</td>\n",
       "    </tr>\n",
       "    <tr>\n",
       "      <th>4</th>\n",
       "      <td>0</td>\n",
       "      <td>0</td>\n",
       "      <td>1</td>\n",
       "      <td>16130</td>\n",
       "      <td>322</td>\n",
       "      <td>2</td>\n",
       "      <td>2</td>\n",
       "      <td>0</td>\n",
       "      <td>0</td>\n",
       "      <td>0</td>\n",
       "      <td>0</td>\n",
       "      <td>0</td>\n",
       "      <td>0</td>\n",
       "      <td>0</td>\n",
       "      <td>0</td>\n",
       "      <td>0</td>\n",
       "    </tr>\n",
       "  </tbody>\n",
       "</table>\n",
       "</div>"
      ],
      "text/plain": [
       "  seismic seismoacoustic shift  genergy  gpuls  gdenergy  gdpuls hazard  \\\n",
       "0       0              0     0     5280    178       -29     -16      0   \n",
       "1       1              0     1    38170    784       -27      12      0   \n",
       "2       1              0     0    10020    370         0       6      0   \n",
       "3       1              0     1   292040   1233       -33     -29      0   \n",
       "4       0              0     1    16130    322         2       2      0   \n",
       "\n",
       "  nbumps nbumps2 nbumps3 nbumps4 nbumps5  energy  maxenergy  class  \n",
       "0      0       0       0       0       0       0          0      0  \n",
       "1      3       1       2       0       0    3500       2000      0  \n",
       "2      0       0       0       0       0       0          0      0  \n",
       "3      0       0       0       0       0       0          0      0  \n",
       "4      0       0       0       0       0       0          0      0  "
      ]
     },
     "execution_count": 473,
     "metadata": {},
     "output_type": "execute_result"
    }
   ],
   "source": [
    "data_inf"
   ]
  },
  {
   "cell_type": "code",
   "execution_count": 474,
   "metadata": {},
   "outputs": [],
   "source": [
    "num_col = X_train_num.columns.values\n",
    "\n",
    "num_pipe = Pipeline([\n",
    "    ('outlier', capper),\n",
    "    ('scaling', scaler)\n",
    "])\n",
    "\n",
    "preprocess = ColumnTransformer(transformers=[\n",
    "    ('num', num_pipe, num_col)\n",
    "])\n",
    "\n",
    "pipe = Pipeline([('preprocessing', preprocess), ('classifier', svm_gridcv_best)], memory='cache_folder')"
   ]
  },
  {
   "cell_type": "code",
   "execution_count": 475,
   "metadata": {},
   "outputs": [
    {
     "data": {
      "text/html": [
       "<style>#sk-container-id-51 {color: black;background-color: white;}#sk-container-id-51 pre{padding: 0;}#sk-container-id-51 div.sk-toggleable {background-color: white;}#sk-container-id-51 label.sk-toggleable__label {cursor: pointer;display: block;width: 100%;margin-bottom: 0;padding: 0.3em;box-sizing: border-box;text-align: center;}#sk-container-id-51 label.sk-toggleable__label-arrow:before {content: \"▸\";float: left;margin-right: 0.25em;color: #696969;}#sk-container-id-51 label.sk-toggleable__label-arrow:hover:before {color: black;}#sk-container-id-51 div.sk-estimator:hover label.sk-toggleable__label-arrow:before {color: black;}#sk-container-id-51 div.sk-toggleable__content {max-height: 0;max-width: 0;overflow: hidden;text-align: left;background-color: #f0f8ff;}#sk-container-id-51 div.sk-toggleable__content pre {margin: 0.2em;color: black;border-radius: 0.25em;background-color: #f0f8ff;}#sk-container-id-51 input.sk-toggleable__control:checked~div.sk-toggleable__content {max-height: 200px;max-width: 100%;overflow: auto;}#sk-container-id-51 input.sk-toggleable__control:checked~label.sk-toggleable__label-arrow:before {content: \"▾\";}#sk-container-id-51 div.sk-estimator input.sk-toggleable__control:checked~label.sk-toggleable__label {background-color: #d4ebff;}#sk-container-id-51 div.sk-label input.sk-toggleable__control:checked~label.sk-toggleable__label {background-color: #d4ebff;}#sk-container-id-51 input.sk-hidden--visually {border: 0;clip: rect(1px 1px 1px 1px);clip: rect(1px, 1px, 1px, 1px);height: 1px;margin: -1px;overflow: hidden;padding: 0;position: absolute;width: 1px;}#sk-container-id-51 div.sk-estimator {font-family: monospace;background-color: #f0f8ff;border: 1px dotted black;border-radius: 0.25em;box-sizing: border-box;margin-bottom: 0.5em;}#sk-container-id-51 div.sk-estimator:hover {background-color: #d4ebff;}#sk-container-id-51 div.sk-parallel-item::after {content: \"\";width: 100%;border-bottom: 1px solid gray;flex-grow: 1;}#sk-container-id-51 div.sk-label:hover label.sk-toggleable__label {background-color: #d4ebff;}#sk-container-id-51 div.sk-serial::before {content: \"\";position: absolute;border-left: 1px solid gray;box-sizing: border-box;top: 0;bottom: 0;left: 50%;z-index: 0;}#sk-container-id-51 div.sk-serial {display: flex;flex-direction: column;align-items: center;background-color: white;padding-right: 0.2em;padding-left: 0.2em;position: relative;}#sk-container-id-51 div.sk-item {position: relative;z-index: 1;}#sk-container-id-51 div.sk-parallel {display: flex;align-items: stretch;justify-content: center;background-color: white;position: relative;}#sk-container-id-51 div.sk-item::before, #sk-container-id-51 div.sk-parallel-item::before {content: \"\";position: absolute;border-left: 1px solid gray;box-sizing: border-box;top: 0;bottom: 0;left: 50%;z-index: -1;}#sk-container-id-51 div.sk-parallel-item {display: flex;flex-direction: column;z-index: 1;position: relative;background-color: white;}#sk-container-id-51 div.sk-parallel-item:first-child::after {align-self: flex-end;width: 50%;}#sk-container-id-51 div.sk-parallel-item:last-child::after {align-self: flex-start;width: 50%;}#sk-container-id-51 div.sk-parallel-item:only-child::after {width: 0;}#sk-container-id-51 div.sk-dashed-wrapped {border: 1px dashed gray;margin: 0 0.4em 0.5em 0.4em;box-sizing: border-box;padding-bottom: 0.4em;background-color: white;}#sk-container-id-51 div.sk-label label {font-family: monospace;font-weight: bold;display: inline-block;line-height: 1.2em;}#sk-container-id-51 div.sk-label-container {text-align: center;}#sk-container-id-51 div.sk-container {/* jupyter's `normalize.less` sets `[hidden] { display: none; }` but bootstrap.min.css set `[hidden] { display: none !important; }` so we also need the `!important` here to be able to override the default hidden behavior on the sphinx rendered scikit-learn.org. See: https://github.com/scikit-learn/scikit-learn/issues/21755 */display: inline-block !important;position: relative;}#sk-container-id-51 div.sk-text-repr-fallback {display: none;}</style><div id=\"sk-container-id-51\" class=\"sk-top-container\"><div class=\"sk-text-repr-fallback\"><pre>Pipeline(memory=&#x27;cache_folder&#x27;,\n",
       "         steps=[(&#x27;preprocessing&#x27;,\n",
       "                 ColumnTransformer(transformers=[(&#x27;num&#x27;,\n",
       "                                                  Pipeline(steps=[(&#x27;outlier&#x27;,\n",
       "                                                                   Winsorizer(capping_method=&#x27;iqr&#x27;,\n",
       "                                                                              tail=&#x27;both&#x27;,\n",
       "                                                                              variables=[&#x27;genergy&#x27;,\n",
       "                                                                                         &#x27;gpuls&#x27;])),\n",
       "                                                                  (&#x27;scaling&#x27;,\n",
       "                                                                   MinMaxScaler())]),\n",
       "                                                  array([&#x27;genergy&#x27;, &#x27;gpuls&#x27;], dtype=object))])),\n",
       "                (&#x27;classifier&#x27;, SVC(C=0.3, max_iter=1500, random_state=42))])</pre><b>In a Jupyter environment, please rerun this cell to show the HTML representation or trust the notebook. <br />On GitHub, the HTML representation is unable to render, please try loading this page with nbviewer.org.</b></div><div class=\"sk-container\" hidden><div class=\"sk-item sk-dashed-wrapped\"><div class=\"sk-label-container\"><div class=\"sk-label sk-toggleable\"><input class=\"sk-toggleable__control sk-hidden--visually\" id=\"sk-estimator-id-141\" type=\"checkbox\" ><label for=\"sk-estimator-id-141\" class=\"sk-toggleable__label sk-toggleable__label-arrow\">Pipeline</label><div class=\"sk-toggleable__content\"><pre>Pipeline(memory=&#x27;cache_folder&#x27;,\n",
       "         steps=[(&#x27;preprocessing&#x27;,\n",
       "                 ColumnTransformer(transformers=[(&#x27;num&#x27;,\n",
       "                                                  Pipeline(steps=[(&#x27;outlier&#x27;,\n",
       "                                                                   Winsorizer(capping_method=&#x27;iqr&#x27;,\n",
       "                                                                              tail=&#x27;both&#x27;,\n",
       "                                                                              variables=[&#x27;genergy&#x27;,\n",
       "                                                                                         &#x27;gpuls&#x27;])),\n",
       "                                                                  (&#x27;scaling&#x27;,\n",
       "                                                                   MinMaxScaler())]),\n",
       "                                                  array([&#x27;genergy&#x27;, &#x27;gpuls&#x27;], dtype=object))])),\n",
       "                (&#x27;classifier&#x27;, SVC(C=0.3, max_iter=1500, random_state=42))])</pre></div></div></div><div class=\"sk-serial\"><div class=\"sk-item sk-dashed-wrapped\"><div class=\"sk-label-container\"><div class=\"sk-label sk-toggleable\"><input class=\"sk-toggleable__control sk-hidden--visually\" id=\"sk-estimator-id-142\" type=\"checkbox\" ><label for=\"sk-estimator-id-142\" class=\"sk-toggleable__label sk-toggleable__label-arrow\">preprocessing: ColumnTransformer</label><div class=\"sk-toggleable__content\"><pre>ColumnTransformer(transformers=[(&#x27;num&#x27;,\n",
       "                                 Pipeline(steps=[(&#x27;outlier&#x27;,\n",
       "                                                  Winsorizer(capping_method=&#x27;iqr&#x27;,\n",
       "                                                             tail=&#x27;both&#x27;,\n",
       "                                                             variables=[&#x27;genergy&#x27;,\n",
       "                                                                        &#x27;gpuls&#x27;])),\n",
       "                                                 (&#x27;scaling&#x27;, MinMaxScaler())]),\n",
       "                                 array([&#x27;genergy&#x27;, &#x27;gpuls&#x27;], dtype=object))])</pre></div></div></div><div class=\"sk-parallel\"><div class=\"sk-parallel-item\"><div class=\"sk-item\"><div class=\"sk-label-container\"><div class=\"sk-label sk-toggleable\"><input class=\"sk-toggleable__control sk-hidden--visually\" id=\"sk-estimator-id-143\" type=\"checkbox\" ><label for=\"sk-estimator-id-143\" class=\"sk-toggleable__label sk-toggleable__label-arrow\">num</label><div class=\"sk-toggleable__content\"><pre>[&#x27;genergy&#x27; &#x27;gpuls&#x27;]</pre></div></div></div><div class=\"sk-serial\"><div class=\"sk-item\"><div class=\"sk-serial\"><div class=\"sk-item\"><div class=\"sk-estimator sk-toggleable\"><input class=\"sk-toggleable__control sk-hidden--visually\" id=\"sk-estimator-id-144\" type=\"checkbox\" ><label for=\"sk-estimator-id-144\" class=\"sk-toggleable__label sk-toggleable__label-arrow\">Winsorizer</label><div class=\"sk-toggleable__content\"><pre>Winsorizer(capping_method=&#x27;iqr&#x27;, tail=&#x27;both&#x27;, variables=[&#x27;genergy&#x27;, &#x27;gpuls&#x27;])</pre></div></div></div><div class=\"sk-item\"><div class=\"sk-estimator sk-toggleable\"><input class=\"sk-toggleable__control sk-hidden--visually\" id=\"sk-estimator-id-145\" type=\"checkbox\" ><label for=\"sk-estimator-id-145\" class=\"sk-toggleable__label sk-toggleable__label-arrow\">MinMaxScaler</label><div class=\"sk-toggleable__content\"><pre>MinMaxScaler()</pre></div></div></div></div></div></div></div></div></div></div><div class=\"sk-item\"><div class=\"sk-estimator sk-toggleable\"><input class=\"sk-toggleable__control sk-hidden--visually\" id=\"sk-estimator-id-146\" type=\"checkbox\" ><label for=\"sk-estimator-id-146\" class=\"sk-toggleable__label sk-toggleable__label-arrow\">SVC</label><div class=\"sk-toggleable__content\"><pre>SVC(C=0.3, max_iter=1500, random_state=42)</pre></div></div></div></div></div></div></div>"
      ],
      "text/plain": [
       "Pipeline(memory='cache_folder',\n",
       "         steps=[('preprocessing',\n",
       "                 ColumnTransformer(transformers=[('num',\n",
       "                                                  Pipeline(steps=[('outlier',\n",
       "                                                                   Winsorizer(capping_method='iqr',\n",
       "                                                                              tail='both',\n",
       "                                                                              variables=['genergy',\n",
       "                                                                                         'gpuls'])),\n",
       "                                                                  ('scaling',\n",
       "                                                                   MinMaxScaler())]),\n",
       "                                                  array(['genergy', 'gpuls'], dtype=object))])),\n",
       "                ('classifier', SVC(C=0.3, max_iter=1500, random_state=42))])"
      ]
     },
     "execution_count": 475,
     "metadata": {},
     "output_type": "execute_result"
    }
   ],
   "source": [
    "pipe.fit(X_train, y_train)"
   ]
  },
  {
   "cell_type": "code",
   "execution_count": 476,
   "metadata": {},
   "outputs": [
    {
     "data": {
      "text/html": [
       "<div>\n",
       "<style scoped>\n",
       "    .dataframe tbody tr th:only-of-type {\n",
       "        vertical-align: middle;\n",
       "    }\n",
       "\n",
       "    .dataframe tbody tr th {\n",
       "        vertical-align: top;\n",
       "    }\n",
       "\n",
       "    .dataframe thead th {\n",
       "        text-align: right;\n",
       "    }\n",
       "</style>\n",
       "<table border=\"1\" class=\"dataframe\">\n",
       "  <thead>\n",
       "    <tr style=\"text-align: right;\">\n",
       "      <th></th>\n",
       "      <th>Predicted Hazardous State</th>\n",
       "    </tr>\n",
       "  </thead>\n",
       "  <tbody>\n",
       "    <tr>\n",
       "      <th>0</th>\n",
       "      <td>0</td>\n",
       "    </tr>\n",
       "    <tr>\n",
       "      <th>1</th>\n",
       "      <td>0</td>\n",
       "    </tr>\n",
       "    <tr>\n",
       "      <th>2</th>\n",
       "      <td>0</td>\n",
       "    </tr>\n",
       "    <tr>\n",
       "      <th>3</th>\n",
       "      <td>0</td>\n",
       "    </tr>\n",
       "    <tr>\n",
       "      <th>4</th>\n",
       "      <td>0</td>\n",
       "    </tr>\n",
       "  </tbody>\n",
       "</table>\n",
       "</div>"
      ],
      "text/plain": [
       "   Predicted Hazardous State\n",
       "0                          0\n",
       "1                          0\n",
       "2                          0\n",
       "3                          0\n",
       "4                          0"
      ]
     },
     "execution_count": 476,
     "metadata": {},
     "output_type": "execute_result"
    }
   ],
   "source": [
    "pred_inf = pipe.predict(data_inf)\n",
    "pred_inf_df = pd.DataFrame(pred_inf, columns=['Predicted Hazardous State'])\n",
    "pred_inf_df"
   ]
  },
  {
   "cell_type": "code",
   "execution_count": 2,
   "metadata": {},
   "outputs": [
    {
     "ename": "NameError",
     "evalue": "name 'pd' is not defined",
     "output_type": "error",
     "traceback": [
      "\u001b[1;31m---------------------------------------------------------------------------\u001b[0m",
      "\u001b[1;31mNameError\u001b[0m                                 Traceback (most recent call last)",
      "\u001b[1;32md:\\Hacktiv8-Asta\\Assignment\\Phase_1\\p1---ftds-001-hck--ml2-dimitriasta\\h8dsft_Milestone2P1_Asta_Dimitri.ipynb Cell 164\u001b[0m in \u001b[0;36m<cell line: 1>\u001b[1;34m()\u001b[0m\n\u001b[1;32m----> <a href='vscode-notebook-cell:/d%3A/Hacktiv8-Asta/Assignment/Phase_1/p1---ftds-001-hck--ml2-dimitriasta/h8dsft_Milestone2P1_Asta_Dimitri.ipynb#Y322sZmlsZQ%3D%3D?line=0'>1</a>\u001b[0m pred_inf_final_df \u001b[39m=\u001b[39m pd\u001b[39m.\u001b[39mconcat([data_inf, pred_inf_df], axis\u001b[39m=\u001b[39m\u001b[39m1\u001b[39m)\n\u001b[0;32m      <a href='vscode-notebook-cell:/d%3A/Hacktiv8-Asta/Assignment/Phase_1/p1---ftds-001-hck--ml2-dimitriasta/h8dsft_Milestone2P1_Asta_Dimitri.ipynb#Y322sZmlsZQ%3D%3D?line=1'>2</a>\u001b[0m pred_inf_final_df\n",
      "\u001b[1;31mNameError\u001b[0m: name 'pd' is not defined"
     ]
    }
   ],
   "source": [
    "pd.concat([data_inf, pred_inf_df], axis=1)"
   ]
  },
  {
   "cell_type": "markdown",
   "metadata": {},
   "source": [
    "Dilakukan pengujian ulang pada model menggunakan data inference/data baru yang belum pernah dilihat oleh model sebelumnya. Kita ingin melihat apakah model mampu melakukan klasifikasi untuk data baru ini. Disini model berhasil melakukan klasifikasi pada data baru."
   ]
  },
  {
   "cell_type": "markdown",
   "metadata": {},
   "source": [
    "# **IX. MODEL SAVING**"
   ]
  },
  {
   "cell_type": "code",
   "execution_count": 478,
   "metadata": {},
   "outputs": [],
   "source": [
    "pickle.dump(pipe, open('pipe.pkl', 'wb'))"
   ]
  },
  {
   "cell_type": "markdown",
   "metadata": {},
   "source": [
    "# **IX. CONCLUSIONS**\n",
    "\n",
    "Penulis sudah berhasil membuat beberapa model machine learning yang bertujuan untuk membantu perusahaan dalam melakukan prediksi kejadian berbahaya dan tidak berbahaya pada lokasi tambang. Dari beberapa model ini ingin dilihat model mana yang paling bagus ketepatannya dalam melakukan prediksi kejadian tersebut, karena dari sisi perusahaan akan sangat fatal dampaknya apabila model salah melakukan prediksi, terutama untuk false negative atau kejadian berbahaya yang diprediksi sebagai kejadian tidak berbahaya. Ini efeknya akan sangat fatal untuk para pekerja kita di lokasi karena resikonya sampai meninggal dunia, dan tidak hanya itu perusahaan juga terancam dicabut izin usahanya jika sampai jatuh korban di lokasi pertambangan akibat dari salah prediksi kejadian berbahaya ini.\n",
    "\n",
    "Penulis memilih model Support Vector Machine (SVM) sebagai model yang paling baik performanya/ketepatannya dalam melakukan prediksi kejadian berbahaya. Keputusan ini didasarkan oleh nilai accuracy dan recall dari setiap model. Nilai accuracy sebagai acuan dari performa model yang dibuat. Nilai recall digunakan sebagai acuan dari ketepatan model dalam melakukan prediksi kejadian berbahaya, dimana jika nilainya mendekati satu maka akan semakin tepat prediksinya. Model SVM ini memiliki nilai recall untuk kejadian tidak berbahaya sebesar 0.83 dan nilai recall untuk kejadian berbahaya sebesar 0.63. Atau bisa diartikan sebagai:\n",
    "- Dari seluruh kejadian tidak berbahaya, model berhasil melakukan prediksi dengan tepat untuk 83% kejadian dan ada 17% kejadian tidak berbahaya yang salah prediksi menjadi kejadian berbahaya.\n",
    "- Dari seluruh kejadian berbahaya, model hanya berhasil melakukan prediksi dengan tepat untuk 63% kejadian saja. Berarti masih ada 37% kejadian berbahaya yang diklasifikasi model sebagai kejadian tidak berbahaya.\n",
    "\n",
    "Dari hasil diatas sebenarnya bisa dilihat bahwa model yang dibuat masih kurang bisa melakukan prediksi kejadian berbahaya dengan tepat. Resiko salah klasifikasinya masih cukup besar sampai di angka 37%. Jika model ini ingin segera digunakan mungkin masih harus dikombinasikan dengan sistem-sistem pencegahan kejadian berbahaya yang lain untuk mengurangi resiko salah prediksi yang akibatnya sangat fatal.\n",
    "\n",
    "Tentu saja dalam analisis pembuatan model kali ini masih jauh dari kata sempurna, apalagi jika melihat performa model yang masih kurang baik dalam melakukan prediksi kejadian berbahaya atau dengan kata lain kurang bisa membantu perusahaan dalam upaya menjaga dan meningkatkan standard HSE. Ada beberapa saran yang mungkin dapat dilakukan kedepannya yaitu:\n",
    "- Mencoba menggunakan model machine learning yang lain karena pada analisis kali ini hanya menggunakan empat buah model saja.\n",
    "- Mencoba melakukan handling imbalance dengan metode lain yang tersedia, karena untuk metode RandomOverSampling kali ini hasilnya masih kurang memuaskan."
   ]
  },
  {
   "cell_type": "code",
   "execution_count": 1,
   "metadata": {},
   "outputs": [
    {
     "ename": "NameError",
     "evalue": "name 'data_inf' is not defined",
     "output_type": "error",
     "traceback": [
      "\u001b[1;31m---------------------------------------------------------------------------\u001b[0m",
      "\u001b[1;31mNameError\u001b[0m                                 Traceback (most recent call last)",
      "\u001b[1;32md:\\Hacktiv8-Asta\\Assignment\\Phase_1\\p1---ftds-001-hck--ml2-dimitriasta\\h8dsft_Milestone2P1_Asta_Dimitri.ipynb Cell 169\u001b[0m in \u001b[0;36m<cell line: 1>\u001b[1;34m()\u001b[0m\n\u001b[1;32m----> <a href='vscode-notebook-cell:/d%3A/Hacktiv8-Asta/Assignment/Phase_1/p1---ftds-001-hck--ml2-dimitriasta/h8dsft_Milestone2P1_Asta_Dimitri.ipynb#Y330sZmlsZQ%3D%3D?line=0'>1</a>\u001b[0m data_inf\u001b[39m.\u001b[39minfo()\n",
      "\u001b[1;31mNameError\u001b[0m: name 'data_inf' is not defined"
     ]
    }
   ],
   "source": [
    "data_inf_df.info()"
   ]
  }
 ],
 "metadata": {
  "kernelspec": {
   "display_name": "Python 3.9.12 ('base')",
   "language": "python",
   "name": "python3"
  },
  "language_info": {
   "codemirror_mode": {
    "name": "ipython",
    "version": 3
   },
   "file_extension": ".py",
   "mimetype": "text/x-python",
   "name": "python",
   "nbconvert_exporter": "python",
   "pygments_lexer": "ipython3",
   "version": "3.9.12"
  },
  "orig_nbformat": 4,
  "vscode": {
   "interpreter": {
    "hash": "cf222b8a245eb29bee3b460393575987629655e73ab8896d67c96c1e560c9ea9"
   }
  }
 },
 "nbformat": 4,
 "nbformat_minor": 2
}
